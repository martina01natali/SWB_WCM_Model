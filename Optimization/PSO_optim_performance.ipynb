{
 "cells": [
  {
   "cell_type": "markdown",
   "id": "8f778e62-448d-41e1-b9d5-b870593bebfd",
   "metadata": {},
   "source": [
    "# Optimizer performance analysis"
   ]
  },
  {
   "cell_type": "code",
   "execution_count": 12,
   "id": "4d4df8ea-c744-47cd-adc7-b23a8245a825",
   "metadata": {},
   "outputs": [],
   "source": [
    "# Base\n",
    "import os\n",
    "import re\n",
    "import time\n",
    "import math\n",
    "import numpy as np\n",
    "import pandas as pd\n",
    "import datetime as dtt\n",
    "\n",
    "# Analysis\n",
    "import pyswarms as ps\n",
    "from scipy import special as sp\n",
    "from scipy.optimize import curve_fit\n",
    "from numpy.polynomial import Polynomial\n",
    "from scipy.signal import savgol_filter as sfilter\n",
    "\n",
    "# Geospatial\n",
    "import fiona\n",
    "import xarray as xr\n",
    "import hydroeval as he\n",
    "# import geopandas as gpd\n",
    "# from maps_original import *\n",
    "\n",
    "# Graphics\n",
    "import seaborn as sns\n",
    "import matplotlib as mplt\n",
    "import matplotlib.pyplot as plt\n",
    "import matplotlib.dates as mdates\n",
    "from IPython.display import Image as Image\n",
    "from pyswarms.utils.functions.single_obj import sphere\n",
    "from pyswarms.utils.plotters.formatters import Mesher\n",
    "from pyswarms.utils.functions import single_obj as fx\n",
    "from pyswarms.utils.plotters import (plot_cost_history, plot_contour, plot_surface)\n",
    "from pyswarms.backend.handlers import OptionsHandler"
   ]
  },
  {
   "cell_type": "code",
   "execution_count": 6,
   "id": "5e1f6778-2d19-4672-a185-818c473ec143",
   "metadata": {},
   "outputs": [],
   "source": [
    "# Initialize mesher with sphere function\n",
    "m = Mesher(func=fx.sphere)"
   ]
  },
  {
   "cell_type": "code",
   "execution_count": 9,
   "id": "44728576-308b-4312-9dbe-a0e03a47a6d7",
   "metadata": {},
   "outputs": [
    {
     "name": "stderr",
     "output_type": "stream",
     "text": [
      "2022-12-05 14:46:56,791 - pyswarms.single.global_best - INFO - Optimize for 100 iters with {'c1': 0.5, 'c2': 0.3, 'w': 0.9}\n",
      "pyswarms.single.global_best: 100%|██████████████████████|100/100, best_cost=8.96e-8\n",
      "2022-12-05 14:46:57,567 - pyswarms.single.global_best - INFO - Optimization finished | best cost: 8.955945416049548e-08, best pos: [-0.00025618  0.00015469]\n"
     ]
    }
   ],
   "source": [
    "options = {'c1':0.5, 'c2':0.3, 'w':0.9}\n",
    "optimizer = ps.single.GlobalBestPSO(n_particles=50, dimensions=2, options=options)\n",
    "cost, pos = optimizer.optimize(fx.sphere, iters=100)"
   ]
  },
  {
   "cell_type": "code",
   "execution_count": 10,
   "id": "dc985432-83be-4341-8087-b3a0dd721b55",
   "metadata": {},
   "outputs": [],
   "source": [
    "%%capture\n",
    "# Make animation\n",
    "animation = plot_contour(pos_history=optimizer.pos_history,\n",
    "                         mesher=m,\n",
    "                         mark=(0,0))"
   ]
  },
  {
   "cell_type": "code",
   "execution_count": null,
   "id": "609dfeea-3aff-4a4d-8e75-f5e9d5fdceb0",
   "metadata": {},
   "outputs": [],
   "source": [
    "# Enables us to view it in a Jupyter notebook\n",
    "animation.save('plot0.gif', writer='imagemagick', fps=10)\n",
    "Image(url='plot0.gif')"
   ]
  }
 ],
 "metadata": {
  "kernelspec": {
   "display_name": "satellite",
   "language": "python",
   "name": "satellite"
  },
  "language_info": {
   "codemirror_mode": {
    "name": "ipython",
    "version": 3
   },
   "file_extension": ".py",
   "mimetype": "text/x-python",
   "name": "python",
   "nbconvert_exporter": "python",
   "pygments_lexer": "ipython3",
   "version": "3.10.5"
  }
 },
 "nbformat": 4,
 "nbformat_minor": 5
}
