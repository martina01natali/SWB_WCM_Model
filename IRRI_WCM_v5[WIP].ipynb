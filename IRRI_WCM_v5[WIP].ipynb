{
 "cells": [
  {
   "cell_type": "markdown",
   "id": "20b30ca4-1add-4f24-affe-6371c84fbb39",
   "metadata": {},
   "source": [
    "# SM from IRRmodel into WCM, both with PSO on KGE\n",
    "\n",
    "The v5 code is a final, cleaned and commented version."
   ]
  },
  {
   "cell_type": "code",
   "execution_count": 6,
   "id": "7bf409eb-8332-4bd8-adc3-c96f31d066e2",
   "metadata": {},
   "outputs": [],
   "source": [
    "from modules.funcs import *\n",
    "from modules.funcs_pso import *\n",
    "from IRRI_WCM.IRRI_WCM_model import *"
   ]
  },
  {
   "cell_type": "code",
   "execution_count": 7,
   "id": "897c8532-64f7-4e3a-a324-6d286a3dceec",
   "metadata": {},
   "outputs": [],
   "source": [
    "def pso_calib_irri(PAR):\n",
    "    \"\"\"Ausiliary function for PSO optimization\"\"\"\n",
    "    global inputs\n",
    "    global irri\n",
    "    n_particles = PAR.shape[0]\n",
    "    err = np.zeros(n_particles)\n",
    "    for i in range(n_particles):\n",
    "        WW,IRR,sig0,KGE = IRR_WCM(PAR[i], inputs, irri)\n",
    "        err[i] = 1 - KGE\n",
    "    return err"
   ]
  },
  {
   "cell_type": "markdown",
   "id": "b00ed179-9c99-417f-aef7-28c43c33e793",
   "metadata": {},
   "source": [
    "# Global"
   ]
  },
  {
   "cell_type": "code",
   "execution_count": 8,
   "id": "5bac90cd-9a42-4de8-8a4b-7278fa5e4f84",
   "metadata": {},
   "outputs": [],
   "source": [
    "filename = f'irr_obs_'"
   ]
  },
  {
   "cell_type": "markdown",
   "id": "4c5a1587-bb69-4dc1-9ead-92e6edcd31e4",
   "metadata": {},
   "source": [
    "# Input data\n",
    "\n",
    "Input data formatting convention:\n",
    "- ausiliary variables for extraction of data (directory name, file name, etc...)\n",
    "- extraction into pd dataframe\n",
    "- cleaning, resampling: drop unnecessary columns, set index to daily DateIndex\n",
    "- extract variables [RIGHT HERE! :) ]"
   ]
  },
  {
   "cell_type": "code",
   "execution_count": 32,
   "id": "650a493b-69cc-41bf-9134-12c129e96cca",
   "metadata": {},
   "outputs": [
    {
     "name": "stdout",
     "output_type": "stream",
     "text": [
      "Starting...\n",
      "#-------------------------------------------------------------\n",
      "Use of satellite-derived SM is provided for comparison, not calibration.\n",
      "\n"
     ]
    },
    {
     "name": "stdin",
     "output_type": "stream",
     "text": [
      "Verbose data extraction? (Describe datasets/files) [y/n] y\n"
     ]
    }
   ],
   "source": [
    "print('Starting...\\n'+\n",
    "      '#-------------------------------------------------------------\\n'+\n",
    "      'Use of satellite-derived SM is provided for comparison, not calibration.\\n')\n",
    "verbose = True if input(\"Verbose data extraction? (Describe datasets/files) [y/n]\")=='y' else False"
   ]
  },
  {
   "cell_type": "code",
   "execution_count": 33,
   "id": "d3ccbd34-32b6-4470-822f-5f3223da0996",
   "metadata": {},
   "outputs": [
    {
     "name": "stdout",
     "output_type": "stream",
     "text": [
      "<class 'pandas.core.frame.DataFrame'>\n",
      "DatetimeIndex: 1037 entries, 2015-01-01 to 2017-11-02\n",
      "Data columns (total 60 columns):\n",
      " #   Column              Non-Null Count  Dtype  \n",
      "---  ------              --------------  -----  \n",
      " 0   Irrigation_1        627 non-null    float64\n",
      " 1   Rainfall_1          1037 non-null   float64\n",
      " 2   ET_1                1037 non-null   float64\n",
      " 3   PET_1               1037 non-null   float64\n",
      " 4   SSM_ASCAT_1         1009 non-null   float64\n",
      " 5   SSM_CCI_combined_1  998 non-null    float64\n",
      " 6   SSM_CCI_active_1    972 non-null    float64\n",
      " 7   SSM_CCI_passive_1   925 non-null    float64\n",
      " 8   SSM_SMAP_1          609 non-null    float64\n",
      " 9   SSM_SMOS_1          598 non-null    float64\n",
      " 10  SSM_THEIA_1         176 non-null    float64\n",
      " 11  SSM_RT1_1           241 non-null    float64\n",
      " 12  Irrigation_2        627 non-null    float64\n",
      " 13  Rainfall_2          1037 non-null   float64\n",
      " 14  ET_2                1037 non-null   float64\n",
      " 15  PET_2               1037 non-null   float64\n",
      " 16  SSM_ASCAT_2         1009 non-null   float64\n",
      " 17  SSM_CCI_combined_2  998 non-null    float64\n",
      " 18  SSM_CCI_active_2    972 non-null    float64\n",
      " 19  SSM_CCI_passive_2   925 non-null    float64\n",
      " 20  SSM_SMAP_2          609 non-null    float64\n",
      " 21  SSM_SMOS_2          598 non-null    float64\n",
      " 22  SSM_THEIA_2         171 non-null    float64\n",
      " 23  SSM_RT1_2           241 non-null    float64\n",
      " 24  Irrigation_3        627 non-null    float64\n",
      " 25  Rainfall_3          1037 non-null   float64\n",
      " 26  ET_3                1037 non-null   float64\n",
      " 27  PET_3               1037 non-null   float64\n",
      " 28  SSM_ASCAT_3         1009 non-null   float64\n",
      " 29  SSM_CCI_combined_3  998 non-null    float64\n",
      " 30  SSM_CCI_active_3    972 non-null    float64\n",
      " 31  SSM_CCI_passive_3   925 non-null    float64\n",
      " 32  SSM_SMAP_3          609 non-null    float64\n",
      " 33  SSM_SMOS_3          598 non-null    float64\n",
      " 34  SSM_THEIA_3         174 non-null    float64\n",
      " 35  SSM_RT1_3           241 non-null    float64\n",
      " 36  Irrigation_4        627 non-null    float64\n",
      " 37  Rainfall_4          1037 non-null   float64\n",
      " 38  ET_4                1037 non-null   float64\n",
      " 39  PET_4               1037 non-null   float64\n",
      " 40  SSM_ASCAT_4         1009 non-null   float64\n",
      " 41  SSM_CCI_combined_4  998 non-null    float64\n",
      " 42  SSM_CCI_active_4    972 non-null    float64\n",
      " 43  SSM_CCI_passive_4   925 non-null    float64\n",
      " 44  SSM_SMAP_4          609 non-null    float64\n",
      " 45  SSM_SMOS_4          598 non-null    float64\n",
      " 46  SSM_THEIA_4         177 non-null    float64\n",
      " 47  SSM_RT1_4           241 non-null    float64\n",
      " 48  Irrigation_5        214 non-null    float64\n",
      " 49  Rainfall_5          1037 non-null   float64\n",
      " 50  ET_5                1037 non-null   float64\n",
      " 51  PET_5               1037 non-null   float64\n",
      " 52  SSM_ASCAT_5         1009 non-null   float64\n",
      " 53  SSM_CCI_combined_5  998 non-null    float64\n",
      " 54  SSM_CCI_active_5    972 non-null    float64\n",
      " 55  SSM_CCI_passive_5   925 non-null    float64\n",
      " 56  SSM_SMAP_5          609 non-null    float64\n",
      " 57  SSM_SMOS_5          598 non-null    float64\n",
      " 58  SSM_THEIA_5         179 non-null    float64\n",
      " 59  SSM_RT1_5           241 non-null    float64\n",
      "dtypes: float64(60)\n",
      "memory usage: 494.2 KB\n"
     ]
    }
   ],
   "source": [
    "#-----------------------------------------------------------------------------\n",
    "# Data reading\n",
    "#-----------------------------------------------------------------------------\n",
    "\n",
    "# Field data from TEST_SITE\n",
    "\n",
    "# Extracted data:\n",
    "# - EPOT = potential evapotranspiration\n",
    "\n",
    "namesite = 'ITALY_BUDRIO'\n",
    "siteID = '5'\n",
    "namefig = namesite+'_'+siteID\n",
    "\n",
    "sitedf = xr.open_dataset(f'IRRmodel\\TEST_SITE\\TEST_SITE_{namesite}.nc',\n",
    "                         engine='netcdf4').to_dataframe();\n",
    "sitedf = sitedf.set_index('Time_days')\n",
    "if verbose: sitedf.info()"
   ]
  },
  {
   "cell_type": "code",
   "execution_count": 34,
   "id": "b89b83e5-b2e3-4471-8992-670220106367",
   "metadata": {},
   "outputs": [
    {
     "name": "stdout",
     "output_type": "stream",
     "text": [
      "<class 'pandas.core.frame.DataFrame'>\n",
      "DatetimeIndex: 107 entries, 2017-04-04 to 2017-11-02\n",
      "Data columns (total 22 columns):\n",
      " #   Column           Non-Null Count  Dtype  \n",
      "---  ------           --------------  -----  \n",
      " 0   SM_irri[-]       107 non-null    float64\n",
      " 1   LAI[m2/m2]       107 non-null    float64\n",
      " 2   RT1[-]           107 non-null    float64\n",
      " 3   Angle[°]         107 non-null    float64\n",
      " 4   DateTime_sat     107 non-null    object \n",
      " 5   Geometry         107 non-null    object \n",
      " 6   Orb              107 non-null    int64  \n",
      " 7   Pass             107 non-null    object \n",
      " 8   VH[lin]          107 non-null    float64\n",
      " 9   VH_var[lin]      107 non-null    float64\n",
      " 10  VV[lin]          107 non-null    float64\n",
      " 11  VV_var[lin]      107 non-null    float64\n",
      " 12  VV[dB]           107 non-null    float64\n",
      " 13  VH[dB]           107 non-null    float64\n",
      " 14  VV_var[dB]       107 non-null    float64\n",
      " 15  VH_var[dB]       107 non-null    float64\n",
      " 16  SWC[m3/m3]       103 non-null    float64\n",
      " 17  Pioggia[mm]      104 non-null    float64\n",
      " 18  Irrigazione[mm]  107 non-null    float64\n",
      " 19  Temperatura[°C]  106 non-null    float64\n",
      " 20  VV_norm[dB]      107 non-null    float64\n",
      " 21  VH_norm[dB]      107 non-null    float64\n",
      "dtypes: float64(18), int64(1), object(3)\n",
      "memory usage: 19.2+ KB\n"
     ]
    }
   ],
   "source": [
    "# Satellite and veg data (S-1) from cleaned data table\n",
    "df = pd.read_csv('Data\\data_in.csv', delimiter='\\t', index_col=0);\n",
    "df.Date = df.Date.apply(lambda x : pd.to_datetime(x))\n",
    "df = df.set_index('Date')\n",
    "if verbose: df.info()"
   ]
  },
  {
   "cell_type": "code",
   "execution_count": null,
   "id": "097d6866-a239-4f8a-8042-0c9c5a8e54d4",
   "metadata": {},
   "outputs": [],
   "source": [
    "# Budrio field data from Platinum tables\n",
    "platinum = pd.ExcelFile('Data\\Platinum_Budrio.xlsx', engine='openpyxl')\n",
    "platinum = platinum.parse('2017_1h')\n",
    "platinum['Ora_1'] = pd.to_datetime(platinum['Ora'].astype('str')).apply(lambda x: x.time())\n",
    "platinum['Data_1'] = pd.to_datetime(platinum['Data'].astype('str')).apply(lambda x: x.date())\n",
    "platinum['Date'] = platinum.apply(lambda r : dtt.datetime.combine(r['Data_1'],r['Ora_1']),1)\n",
    "platinum = platinum.drop(['ID', 'Data_1', 'Ora_1', '214Pb[cps]'],axis=1)\n",
    "#platinum_cut = pd.concat([platinum.loc[(platinum.Data<'2017-05-14')],platinum.loc[(platinum.Data>'2017-06-16')]])"
   ]
  },
  {
   "cell_type": "code",
   "execution_count": null,
   "id": "bcc7f2c1-9e24-4819-8b83-44ca34855341",
   "metadata": {},
   "outputs": [],
   "source": [
    "# Dates\n",
    "D_0 = sitedf.Time_days; set1 = {x for x in D_0}\n",
    "D_1 = platinum['Data']; set2 = {x for x in D_1}\n",
    "d = np.sort(np.array([*set1.intersection(set2)])) # dates, full\n",
    "\n",
    "d_sat = [pd.Timestamp(df.index[i]) for i in range(len(df.index))]\n",
    "set1 = {x for x in d}; set2 = {x for x in d_sat}\n",
    "d_sat = np.sort(np.array([*set1.intersection(set2)])) # dates, passage of sat"
   ]
  },
  {
   "cell_type": "code",
   "execution_count": null,
   "id": "5d567f1b-1af4-4325-b866-5b7bf1767713",
   "metadata": {},
   "outputs": [
    {
     "name": "stdout",
     "output_type": "stream",
     "text": [
      "Starting...\n",
      "#-------------------------------------------------------------\n",
      "Use of satellite-derived SM is provided for comparison, not calibration.\n",
      "\n"
     ]
    },
    {
     "name": "stdin",
     "output_type": "stream",
     "text": [
      "Please provide name of vegetation index to use as input. [Options: LAI, cr, vh, NDVI] NDVI\n"
     ]
    }
   ],
   "source": [
    "# Backscattering\n",
    "# t_deg = df['Angle[°]'].values\n",
    "t_deg = [np.mean(df.loc[df.Orb==95]['Angle[°]'].values) for i in range(len(df.Orb.values))]\n",
    "obs = df.loc[d_sat]['VV_norm[dB]'].values\n",
    "obs_VH = df.loc[d_sat]['VH_norm[dB]'].values\n",
    "rt1 = df.loc[d_sat]['RT1[-]']\n",
    "\n",
    "\n",
    "# Vegetation indexes\n",
    "LAI = df.loc[d_sat]['LAI[m2/m2]'].values\n",
    "cr = (db_lin(obs_VH)/db_lin(obs))\n",
    "\n",
    "df_NDVI = pd.read_csv(f'Data\\\\NDVI_GEE.csv', delimiter = \"\\t\")\n",
    "df_NDVI.Datetime = df_NDVI.Datetime.apply(lambda x:pd.Timestamp(x))\n",
    "NDVI = df_NDVI.set_index('Datetime').loc[d_sat]['NDVI'].values\n",
    "\n",
    "P = platinum.resample('1D',on='Date').sum().loc[d]['Pioggia[mm]'].values\n",
    "EPOT = sitedf.loc[d][f'PET_{siteID}'].values # potential evapotranspiration (measured)\n",
    "IRRobs = platinum.resample('1D',on='Date').sum().loc[d]['Irrigazione[mm]'].values\n",
    "Wobs_gap = platinum.resample('1D',on='Date').mean().loc[d]['SWC[m3/m3]'].values\n",
    "Wobs = platinum.resample('1D',on='Date').mean().loc[d]['SWC[m3/m3]'].interpolate(method='linear').values\n",
    "WWobs_gap = (Wobs_gap-np.min(Wobs))/(np.max(Wobs)-np.min(Wobs))\n",
    "WWobs = norm(Wobs)\n",
    "\n",
    "index = input('Please provide name of vegetation index to use as input. [Options: LAI, cr, vh, NDVI]')\n",
    "if index=='LAI': veg=LAI; label_veg='LAI[-]'\n",
    "elif index=='NDVI': veg=NDVI; label_veg='NDVI[-]'\n",
    "elif index=='cr': veg=cr; label_veg=r'$\\sigma^0$ cross ratio VH/VV [-]'\n",
    "elif index=='vh': veg=db_lin(obs_VH); label_veg=r'$\\sigma^0$ [VH] [dB]'\n",
    "else: raise NameError('Please select one of the available options')"
   ]
  },
  {
   "cell_type": "raw",
   "id": "ff2f5499-d819-4290-8459-e79a0c788b2a",
   "metadata": {},
   "source": [
    "elif opt_time=='h':\n",
    "    df1 = pd.DataFrame(timeseries(sitedf.Time_days, sitedf[f'PET_{siteID}']))\\\n",
    "        .rename(columns={0:'Data', 1:'EPOT'})\n",
    "    epotdf=pd.merge(right=df1, left=platinum, on='Data', how='left')\n",
    "    EPOT = epotdf.EPOT.values\n",
    "    P = platinum['Pioggia[mm]'].values\n",
    "    IRRobs = platinum['Irrigazione[mm]'].values\n",
    "    Wobs_gap = platinum['SWC[m3/m3]'].values\n",
    "    Wobs = platinum['SWC[m3/m3]'].values\n",
    "    WWobs_gap = (Wobs_gap-np.min(Wobs))/(np.max(Wobs)-np.min(Wobs))\n",
    "    WWobs = norm(Wobs)"
   ]
  },
  {
   "cell_type": "code",
   "execution_count": null,
   "id": "a36da40e-62af-4707-8cf3-8fed15063bc7",
   "metadata": {},
   "outputs": [],
   "source": []
  }
 ],
 "metadata": {
  "kernelspec": {
   "display_name": "satellite",
   "language": "python",
   "name": "satellite"
  },
  "language_info": {
   "codemirror_mode": {
    "name": "ipython",
    "version": 3
   },
   "file_extension": ".py",
   "mimetype": "text/x-python",
   "name": "python",
   "nbconvert_exporter": "python",
   "pygments_lexer": "ipython3",
   "version": "3.10.5"
  }
 },
 "nbformat": 4,
 "nbformat_minor": 5
}
