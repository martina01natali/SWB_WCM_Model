{
 "cells": [
  {
   "cell_type": "markdown",
   "id": "8f778e62-448d-41e1-b9d5-b870593bebfd",
   "metadata": {},
   "source": [
    "# Optimizer performance analysis"
   ]
  },
  {
   "cell_type": "code",
   "execution_count": 5,
   "id": "a58e5246-e85c-4500-95ea-b9a240101e3f",
   "metadata": {},
   "outputs": [],
   "source": [
    "# Base\n",
    "import os\n",
    "import re\n",
    "import time\n",
    "import math\n",
    "import numpy as np\n",
    "import pandas as pd\n",
    "import datetime as dtt\n",
    "\n",
    "# Analysis\n",
    "import pyswarms as ps\n",
    "from scipy import special as sp\n",
    "from scipy.optimize import curve_fit\n",
    "from numpy.polynomial import Polynomial\n",
    "from scipy.signal import savgol_filter as sfilter\n",
    "\n",
    "# Geospatial\n",
    "import fiona\n",
    "import xarray as xr\n",
    "import hydroeval as he\n",
    "# import geopandas as gpd\n",
    "# from maps_original import *\n",
    "\n",
    "# Graphics\n",
    "import seaborn as sns\n",
    "import matplotlib as mplt\n",
    "import matplotlib.pyplot as plt\n",
    "import matplotlib.dates as mdates\n",
    "from pyswarms.utils.plotters import plot_cost_history\n",
    "from pyswarms.utils.functions.single_obj import sphere"
   ]
  },
  {
   "cell_type": "code",
   "execution_count": 6,
   "id": "77e2d921-fc97-418a-866d-cf05f8cfaafb",
   "metadata": {},
   "outputs": [],
   "source": [
    "optim_params_W_GLO = np.loadtxt('optim_params_W_GLO.txt', skiprows=0)\n",
    "optim_params_W_local = np.loadtxt('optim_params_W_local.txt', skiprows=0)"
   ]
  },
  {
   "cell_type": "code",
   "execution_count": 14,
   "id": "9da4b70f-5290-421b-b035-b2f7586a9c6a",
   "metadata": {},
   "outputs": [],
   "source": [
    "A = optim_params_W_GLO[0]\n",
    "B = optim_params_W_GLO[1]\n",
    "C = optim_params_W_GLO[2]\n",
    "D   = optim_params_W_GLO[3]"
   ]
  },
  {
   "cell_type": "code",
   "execution_count": 18,
   "id": "4c5221f1-f3f8-4261-9295-a69ce6a0f809",
   "metadata": {},
   "outputs": [
    {
     "data": {
      "text/plain": [
       "(array([39., 49.,  5.,  1.,  1.,  0.,  0.,  2.,  2.,  1.]),\n",
       " array([0.09173059, 0.10535345, 0.11897631, 0.13259917, 0.14622203,\n",
       "        0.15984488, 0.17346774, 0.1870906 , 0.20071346, 0.21433632,\n",
       "        0.22795918]),\n",
       " <BarContainer object of 10 artists>)"
      ]
     },
     "execution_count": 18,
     "metadata": {},
     "output_type": "execute_result"
    },
    {
     "data": {
      "image/png": "[encoded data removed]",
      "text/plain": [
       "<Figure size 432x288 with 1 Axes>"
      ]
     },
     "metadata": {
      "needs_background": "light"
     },
     "output_type": "display_data"
    }
   ],
   "source": [
    "plt.hist(D)"
   ]
  }
 ],
 "metadata": {
  "kernelspec": {
   "display_name": "satellite",
   "language": "python",
   "name": "satellite"
  },
  "language_info": {
   "codemirror_mode": {
    "name": "ipython",
    "version": 3
   },
   "file_extension": ".py",
   "mimetype": "text/x-python",
   "name": "python",
   "nbconvert_exporter": "python",
   "pygments_lexer": "ipython3",
   "version": "3.10.5"
  }
 },
 "nbformat": 4,
 "nbformat_minor": 5
}
