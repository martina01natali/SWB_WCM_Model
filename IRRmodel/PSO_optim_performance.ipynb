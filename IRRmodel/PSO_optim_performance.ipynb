{
 "cells": [
  {
   "cell_type": "markdown",
   "id": "8f778e62-448d-41e1-b9d5-b870593bebfd",
   "metadata": {},
   "source": [
    "# Optimizer performance analysis"
   ]
  },
  {
   "cell_type": "code",
   "execution_count": 5,
   "id": "a58e5246-e85c-4500-95ea-b9a240101e3f",
   "metadata": {},
   "outputs": [],
   "source": [
    "# Base\n",
    "import os\n",
    "import re\n",
    "import time\n",
    "import math\n",
    "import numpy as np\n",
    "import pandas as pd\n",
    "import datetime as dtt\n",
    "\n",
    "# Analysis\n",
    "import pyswarms as ps\n",
    "from scipy import special as sp\n",
    "from scipy.optimize import curve_fit\n",
    "from numpy.polynomial import Polynomial\n",
    "from scipy.signal import savgol_filter as sfilter\n",
    "\n",
    "# Geospatial\n",
    "import fiona\n",
    "import xarray as xr\n",
    "import hydroeval as he\n",
    "# import geopandas as gpd\n",
    "# from maps_original import *\n",
    "\n",
    "# Graphics\n",
    "import seaborn as sns\n",
    "import matplotlib as mplt\n",
    "import matplotlib.pyplot as plt\n",
    "import matplotlib.dates as mdates\n",
    "from pyswarms.utils.plotters import plot_cost_history\n",
    "from pyswarms.utils.functions.single_obj import sphere"
   ]
  },
  {
   "cell_type": "code",
   "execution_count": null,
   "id": "77e2d921-fc97-418a-866d-cf05f8cfaafb",
   "metadata": {},
   "outputs": [],
   "source": []
  }
 ],
 "metadata": {
  "kernelspec": {
   "display_name": "satellite",
   "language": "python",
   "name": "satellite"
  },
  "language_info": {
   "codemirror_mode": {
    "name": "ipython",
    "version": 3
   },
   "file_extension": ".py",
   "mimetype": "text/x-python",
   "name": "python",
   "nbconvert_exporter": "python",
   "pygments_lexer": "ipython3",
   "version": "3.10.5"
  }
 },
 "nbformat": 4,
 "nbformat_minor": 5
}
