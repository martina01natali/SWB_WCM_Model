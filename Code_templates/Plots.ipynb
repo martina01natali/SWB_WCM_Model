{
 "cells": [
  {
   "cell_type": "markdown",
   "id": "d5832136-1fc1-41d3-b193-446d83458b45",
   "metadata": {},
   "source": [
    "# Plots\n",
    "\n",
    "**Note**: leave everything raw, this is just a templates' dump."
   ]
  },
  {
   "cell_type": "raw",
   "id": "fe2521c7-d26b-4ee2-a181-bb91c3f87429",
   "metadata": {},
   "source": [
    "# Base\n",
    "import os\n",
    "import re\n",
    "import time\n",
    "import math\n",
    "import numpy as np\n",
    "import pandas as pd\n",
    "import datetime as dtt\n",
    "\n",
    "# Analysis\n",
    "import pyswarms as ps\n",
    "from scipy import special as sp\n",
    "from scipy.optimize import curve_fit\n",
    "from numpy.polynomial import Polynomial\n",
    "from scipy.signal import savgol_filter as sfilter\n",
    "\n",
    "# Graphics\n",
    "import seaborn as sns\n",
    "import matplotlib as mplt\n",
    "import matplotlib.pyplot as plt\n",
    "import matplotlib.dates as mdates"
   ]
  },
  {
   "cell_type": "markdown",
   "id": "7babfa3b-8d2e-4d2b-b8cb-15d096824e55",
   "metadata": {},
   "source": [
    "# Scatterplot"
   ]
  },
  {
   "cell_type": "raw",
   "id": "50c0aa64-8748-4937-a3ba-2d470dcb5097",
   "metadata": {},
   "source": [
    "def linear(x,a,b):\n",
    "    return a+b*x\n",
    "\n",
    "plt.figure(figsize=(5,5), dpi=300)\n",
    "plt.scatter(WWclean, WWsat[~np.isnan(WWsat)])\n",
    "popt, pcov = curve_fit(linear, WWclean, WWsat[~np.isnan(WWsat)])\n",
    "plt.plot(WWnorm, linear(np.array(WWnorm),*popt), color='tab:orange')\n",
    "\n",
    "x=np.linspace(0,1,100); y=x; plt.plot(x,y,color='k')\n",
    "plt.title(r'$\\theta_{sim}\\;VS\\;\\theta_{sat}$' + f' [{sat}] - R={R:.2f}, RMSE={RMSE:.2f}')\n",
    "plt.ylabel(r'$\\theta_{sim}$ [-]'); plt.xlabel(r'$\\theta_{sat}$'+f' [{sat}] [-]')\n",
    "plt.xlim(0,1); plt.ylim(0,1)\n",
    "t = plt.text(0.3, 0.75,\n",
    "             f'y={popt[0]:.2f}+{popt[1]:.2f}x\\n'+\n",
    "             r'$R^2$'+f'={R**2:.2f}',\n",
    "             ha=\"center\", va=\"center\", size=15,\n",
    "             bbox=dict(boxstyle=\"round,pad=0.3\", fc=\"tab:orange\", ec=\"k\", lw=2, alpha=.5))\n",
    "if save: plt.savefig(f'sim-vs-sat\\\\sim-vs-sat_{sat}_scatter.png')"
   ]
  },
  {
   "cell_type": "markdown",
   "id": "361c5cc0-0277-48fe-9064-867c1f83a8bd",
   "metadata": {},
   "source": [
    "# [WIP] Timeseries"
   ]
  },
  {
   "cell_type": "markdown",
   "id": "d47921f0-b90a-4327-9693-bcb2c0bde5d1",
   "metadata": {},
   "source": [
    "## [WIP] Multi-inputs timeseries"
   ]
  },
  {
   "cell_type": "raw",
   "id": "b8a02de4-fb44-416f-ab00-91f20fa8dee6",
   "metadata": {},
   "source": [
    "if input('Plot inputs? [y/n]')=='y':\n",
    "\n",
    "    fig, ax = plt.subplots(3, 1, sharex=True, figsize=(10,6),dpi=300)\n",
    "    ax[0].plot(d, obs, label='sigma0_VV', color='k')\n",
    "    ax[0].plot(d, obs_VH, label='sigma0_VH', color='gray')\n",
    "    # ax[0].plot(d, norm(t_deg), label='angle of obs')\n",
    "    ax[0].set_title('input data plot')\n",
    "    ax[0].legend(loc='upper right')\n",
    "    ax[0].set_ylabel('$\\sigma^0$ [dB]')\n",
    "    \n",
    "    #ax[1].plot(d, norm(LAI), label='LAI', color='green')\n",
    "    #ax[1].plot(d, norm(cr), label='VH/VV', color='orange') # normalized for visualization reasons only\n",
    "    ax[1].plot(d, cr, label='VH/VV', color='orange') # normalized for visualization reasons only\n",
    "    # ax[1].plot(d, norm(np.flip(linear(obs_VH)/linear(obs))), label='VH/VV')\n",
    "    ax[1].legend(loc='upper right')\n",
    "    ax[1].set_ylabel('LAI [-]')\n",
    "    \n",
    "    # NOTE: irrigation and precipitation from Golden_GEE may not be plotted\n",
    "    # since the database only takes hourly values consistent with satellite obs \n",
    "    \n",
    "    ax[2].plot(d, SM, color='b', label='sm_interp')\n",
    "    ax[2].plot(d, SM_gap, color='lightblue', label='sm_obs')\n",
    "    # ax[2].plot(d, IRR, label='irrigation')\n",
    "    # ax[2].plot(d, P, label='rain')\n",
    "    ax[2].legend(loc='upper right')\n",
    "    ax[2].set_ylabel('Soil moisture [$m^3/m^3$]')"
   ]
  },
  {
   "cell_type": "markdown",
   "id": "133c3274-8425-41d1-9a3f-833ff8720fff",
   "metadata": {},
   "source": [
    "# [WIP] Histogram with gass/skew gauss fit"
   ]
  }
 ],
 "metadata": {
  "kernelspec": {
   "display_name": "satellite",
   "language": "python",
   "name": "satellite"
  },
  "language_info": {
   "codemirror_mode": {
    "name": "ipython",
    "version": 3
   },
   "file_extension": ".py",
   "mimetype": "text/x-python",
   "name": "python",
   "nbconvert_exporter": "python",
   "pygments_lexer": "ipython3",
   "version": "3.10.5"
  }
 },
 "nbformat": 4,
 "nbformat_minor": 5
}
