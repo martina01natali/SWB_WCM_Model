{
 "cells": [
  {
   "cell_type": "markdown",
   "id": "27aeb8b2-5c1b-4d14-adf3-9b9db58508c4",
   "metadata": {},
   "source": [
    "# Ausiliary functions (your @staticmethods!)"
   ]
  },
  {
   "cell_type": "code",
   "execution_count": null,
   "id": "df2f8c54-f736-48e5-b362-55fde48b34d6",
   "metadata": {},
   "outputs": [],
   "source": [
    "# Base\n",
    "import os\n",
    "import re\n",
    "import time\n",
    "import math\n",
    "import numpy as np\n",
    "import pandas as pd\n",
    "import datetime as dtt\n",
    "\n",
    "# Analysis\n",
    "import pyswarms as ps\n",
    "from scipy import special as sp\n",
    "from scipy.optimize import curve_fit\n",
    "from numpy.polynomial import Polynomial\n",
    "from scipy.signal import savgol_filter as sfilter\n",
    "\n",
    "# Geospatial\n",
    "import fiona\n",
    "import xarray as xr\n",
    "import hydroeval as he\n",
    "# import geopandas as gpd\n",
    "# from maps_original import *\n",
    "\n",
    "# Graphics\n",
    "import seaborn as sns\n",
    "import matplotlib as mplt\n",
    "import matplotlib.pyplot as plt\n",
    "import matplotlib.dates as mdates"
   ]
  },
  {
   "cell_type": "markdown",
   "id": "61bc594d-2df0-4b70-91bd-f1a6caa76b98",
   "metadata": {},
   "source": [
    "# Statistics and data cleaning / normalization"
   ]
  },
  {
   "cell_type": "code",
   "execution_count": 1,
   "id": "acbcf9a4-3b08-4ebb-bc9a-b1d186a1cbf1",
   "metadata": {},
   "outputs": [],
   "source": [
    "#-----------------------------------------------------------------------------\n",
    "\n",
    "def lin_db(x):\n",
    "    return 10*np.log10(x)\n",
    "\n",
    "def db_lin(x):\n",
    "    return 10**(x/10)\n",
    "\n",
    "#-----------------------------------------------------------------------------\n",
    "\n",
    "def norm(x):\n",
    "    return (x-np.min(x))/(np.max(x)-np.min(x))\n",
    "\n",
    "#-----------------------------------------------------------------------------\n",
    "\n",
    "def HIST_norm(ref_mean, ref_std, obs:list):\n",
    "    \"\"\"HIST normalization\n",
    "    Ref. Mladenova, 2013, https://ieeexplore.ieee.org/document/6264094\n",
    "    \n",
    "    obs = [value, mean, std]\n",
    "    \"\"\"\n",
    "    value, mean, std = obs\n",
    "    return ref_mean+ref_std/std*(value-mean)\n",
    "\n",
    "#-----------------------------------------------------------------------------"
   ]
  },
  {
   "cell_type": "markdown",
   "id": "883881b3-e013-4fba-9dd5-498094e36d76",
   "metadata": {},
   "source": [
    "# Data analysis, fit"
   ]
  },
  {
   "cell_type": "markdown",
   "id": "d687ffd5-716d-46cb-99a7-c2ed09cec2e8",
   "metadata": {},
   "source": [
    "## Fitting functions"
   ]
  },
  {
   "cell_type": "code",
   "execution_count": null,
   "id": "fa8128aa-435f-48ee-9850-2b8e1ac71319",
   "metadata": {},
   "outputs": [],
   "source": [
    "#-----------------------------------------------------------------------------\n",
    "\n",
    "def linear(x,a,b):\n",
    "    return a+b*x\n",
    "    \n",
    "#-----------------------------------------------------------------------------\n",
    "\n",
    "def gauss(x, A, mean, dev):\n",
    "    \"\"\"Not-normalized, shifted gaussian distribution.\"\"\"\n",
    "    \n",
    "    import math\n",
    "    \n",
    "    pdf = (1/(dev*np.sqrt(2*math.pi)))*np.exp(-(x-mean)**2/(2*dev**2))\n",
    "    return A*pdf\n",
    "\n",
    "#-----------------------------------------------------------------------------\n",
    "\n",
    "def skew_gauss(x, A, mean, dev, alpha,):\n",
    "    \"\"\"Skew, not-normalized and shifted gaussian distribution.\n",
    "\n",
    "    References:\n",
    "    - https://www.wolframalpha.com/input?i=skew+gaussian+distribution\n",
    "    - https://stackoverflow.com/questions/15400850/scipy-optimize-curve-fit-unable-to-fit-shifted-skewed-gaussian-curve\n",
    "    - https://docs.scipy.org/doc/scipy/reference/generated/scipy.stats.skewnorm.html\n",
    "\n",
    "    \"\"\"\n",
    "    \n",
    "    import math\n",
    "    import scipy.special as sp\n",
    "    \n",
    "    pdf = (1/(dev*np.sqrt(2*np.pi)))*np.exp(-pow((x-mean),2)/(2*pow(dev,2)))\n",
    "    cdf = sp.erfc((-alpha*(x-mean))/(dev*np.sqrt(2)))\n",
    "    return A*pdf*cdf\n",
    "    \n",
    "#-----------------------------------------------------------------------------"
   ]
  }
 ],
 "metadata": {
  "kernelspec": {
   "display_name": "satellite",
   "language": "python",
   "name": "satellite"
  },
  "language_info": {
   "codemirror_mode": {
    "name": "ipython",
    "version": 3
   },
   "file_extension": ".py",
   "mimetype": "text/x-python",
   "name": "python",
   "nbconvert_exporter": "python",
   "pygments_lexer": "ipython3",
   "version": "3.10.5"
  }
 },
 "nbformat": 4,
 "nbformat_minor": 5
}
