{
 "cells": [
  {
   "cell_type": "markdown",
   "id": "67240e3d",
   "metadata": {},
   "source": [
    "# From Detecting Changes in Sentinel-1 Imagery (Part 1)"
   ]
  },
  {
   "cell_type": "code",
   "execution_count": 53,
   "id": "bd7869c4",
   "metadata": {},
   "outputs": [
    {
     "data": {
      "text/html": [
       "<p>To authorize access needed by Earth Engine, open the following\n",
       "        URL in a web browser and follow the instructions:</p>\n",
       "        <p><a href=https://code.earthengine.google.com/client-auth?scopes=https%3A//www.googleapis.com/auth/earthengine%20https%3A//www.googleapis.com/auth/devstorage.full_control&request_id=xtgnYKFjl9jfOxvAdV-tns1_UI06I0QD7kTL-Rg8cY8&tc=POFBAv9bfZw7fecuAk2VSUzYRgd91uVQ7jljUo5pg_M&cc=JFoalZ4C8WGtlR6riUUOF5gIspanwzUyeX0BxgxgbcM>https://code.earthengine.google.com/client-auth?scopes=https%3A//www.googleapis.com/auth/earthengine%20https%3A//www.googleapis.com/auth/devstorage.full_control&request_id=xtgnYKFjl9jfOxvAdV-tns1_UI06I0QD7kTL-Rg8cY8&tc=POFBAv9bfZw7fecuAk2VSUzYRgd91uVQ7jljUo5pg_M&cc=JFoalZ4C8WGtlR6riUUOF5gIspanwzUyeX0BxgxgbcM</a></p>\n",
       "        <p>The authorization workflow will generate a code, which you should paste in the box below.</p>\n",
       "        "
      ],
      "text/plain": [
       "<IPython.core.display.HTML object>"
      ]
     },
     "metadata": {},
     "output_type": "display_data"
    },
    {
     "name": "stdout",
     "output_type": "stream",
     "text": [
      "Enter verification code: 4/1AfgeXvv4IJh2wnntnAhlVirzksYIXfNuJi_FjGhR9YzsyyTVeWgYUewPrSs\n",
      "\n",
      "Successfully saved authorization token.\n"
     ]
    }
   ],
   "source": [
    "import ee\n",
    " \n",
    "# Trigger the authentication flow.\n",
    "ee.Authenticate()\n",
    " \n",
    "# Initialize the library.\n",
    "ee.Initialize()"
   ]
  },
  {
   "cell_type": "code",
   "execution_count": 54,
   "id": "7c3272e1",
   "metadata": {},
   "outputs": [],
   "source": [
    "import matplotlib.pyplot as plt\n",
    "import numpy as np\n",
    "from scipy.stats import norm, gamma, f, chi2\n",
    "import IPython.display as disp\n",
    "%matplotlib inline"
   ]
  },
  {
   "cell_type": "code",
   "execution_count": null,
   "id": "5de38fe0-cd63-49a4-8512-97b9909f8ddf",
   "metadata": {},
   "outputs": [],
   "source": [
    "# Make interactive maps using folium.\n",
    "# Import the Folium library.\n",
    "import folium\n",
    "\n",
    "# Define a method for displaying Earth Engine image tiles to folium map.\n",
    "def add_ee_layer(self, ee_image_object, vis_params, name):\n",
    "    map_id_dict = ee.Image(ee_image_object).getMapId(vis_params)\n",
    "    folium.raster_layers.TileLayer(\n",
    "        tiles = map_id_dict['tile_fetcher'].url_format,\n",
    "        attr = 'Map Data &copy; <a href=\"https://earthengine.google.com/\">Google Earth Engine</a>',\n",
    "        name = name,\n",
    "        overlay = True,\n",
    "        control = True\n",
    "    ).add_to(self)\n",
    "\n",
    "# Add EE drawing method to folium.\n",
    "folium.Map.add_ee_layer = add_ee_layer"
   ]
  },
  {
   "cell_type": "raw",
   "id": "a47aefe9",
   "metadata": {},
   "source": [
    "# Define the Area of Interest (AoI) as a JavaScript polygon\n",
    "# of class Geometry, by passing the coordinates to the \n",
    "# constructor. You can eventually produce a geoJSON \n",
    "# object and follow the Detecting Changes...Part 1 \n",
    "# notebook to extract coordinates from it\n",
    "\n",
    "# AoI = generic\n",
    "# Convert KML to GeoJSON: \n",
    "coords = [[\n",
    "    [8.473892211914062,49.98081240937428],\n",
    "    [8.658599853515625,49.98081240937428],\n",
    "    [8.658599853515625,50.06066538593667],\n",
    "    [8.473892211914062,50.06066538593667],\n",
    "          ]]\n",
    "aoi = ee.Geometry.Polygon(coords)"
   ]
  },
  {
   "cell_type": "code",
   "execution_count": 56,
   "id": "1d32d64a",
   "metadata": {},
   "outputs": [],
   "source": [
    "# Define new region\n",
    "\n",
    "geoJSON = {\n",
    "  \"type\": \"FeatureCollection\",\n",
    "  \"features\": [\n",
    "    {\n",
    "      \"type\": \"Feature\",\n",
    "      \"properties\": {},\n",
    "      \"geometry\": {\n",
    "        \"type\": \"Polygon\",\n",
    "        \"coordinates\": [\n",
    "          [\n",
    "            [\n",
    "              8.534317016601562,\n",
    "              50.021637833966786\n",
    "            ],\n",
    "            [\n",
    "              8.530540466308594,\n",
    "              49.99780882512238\n",
    "            ],\n",
    "            [\n",
    "              8.564186096191406,\n",
    "              50.00663576154257\n",
    "            ],\n",
    "            [\n",
    "              8.578605651855469,\n",
    "              50.019431940583104\n",
    "            ],\n",
    "            [\n",
    "              8.534317016601562,\n",
    "              50.021637833966786\n",
    "            ]\n",
    "          ]\n",
    "        ]\n",
    "      }\n",
    "    }\n",
    "  ]\n",
    "}\n",
    "coords = geoJSON['features'][0]['geometry']['coordinates']\n",
    "aoi_sub = ee.Geometry.Polygon(coords)"
   ]
  },
  {
   "cell_type": "code",
   "execution_count": 57,
   "id": "e7f48d8d",
   "metadata": {},
   "outputs": [],
   "source": [
    "# Subset an image on a region by using the property \n",
    "# .clip(region), where region being a Geometry object\n",
    "\n",
    "ffa_db = ee.Image(ee.ImageCollection('COPERNICUS/S1_GRD') # dB\n",
    "                       .filterBounds(aoi) \n",
    "                       .filterDate(ee.Date('2020-08-01'), ee.Date('2020-08-31')) \n",
    "                       .first() \n",
    "                       .clip(aoi_sub))\n",
    "ffa_fl = ee.Image(ee.ImageCollection('COPERNICUS/S1_GRD_FLOAT') # linear scale\n",
    "                       .filterBounds(aoi) \n",
    "                       .filterDate(ee.Date('2020-08-01'), ee.Date('2020-08-31')) \n",
    "                       .first() \n",
    "                       .clip(aoi_sub))"
   ]
  },
  {
   "cell_type": "code",
   "execution_count": 58,
   "id": "1c9a296c",
   "metadata": {},
   "outputs": [
    {
     "data": {
      "text/plain": [
       "['VV', 'VH', 'angle']"
      ]
     },
     "execution_count": 58,
     "metadata": {},
     "output_type": "execute_result"
    }
   ],
   "source": [
    "# List  band names, fetching the result from the GEE\n",
    "# servers with the getInfo() class method:\n",
    "\n",
    "ffa_db.bandNames().getInfo()"
   ]
  },
  {
   "cell_type": "code",
   "execution_count": 59,
   "id": "726e45dd",
   "metadata": {},
   "outputs": [
    {
     "data": {
      "text/html": [
       "<img src=\"https://earthengine.googleapis.com/v1alpha/projects/earthengine-legacy/thumbnails/a33591ff6ea502c028c845973d2622d1-1878650278277b8d537304c4f593affe:getPixels\" width=\"800\"/>"
      ],
      "text/plain": [
       "<IPython.core.display.Image object>"
      ]
     },
     "execution_count": 59,
     "metadata": {},
     "output_type": "execute_result"
    }
   ],
   "source": [
    "# Show VV band with standard physical upper and lower\n",
    "# limits of detection\n",
    "\n",
    "url = ffa_db.select('VV').getThumbURL({'min': -20, 'max': 0})\n",
    "disp.Image(url=url, width=800)"
   ]
  },
  {
   "cell_type": "raw",
   "id": "8176588f",
   "metadata": {},
   "source": [
    "# Use folium to project onto a map\n",
    "# Notice that folium takes long-lat coordinates in its Map() constructor\n",
    "\n",
    "location = aoi.centroid().coordinates().getInfo()[::-1]\n",
    "\n",
    "# Make an RGB color composite image (VV,VH,VV/VH).\n",
    "rgb = ee.Image.rgb(ffa_db.select('VV'),\n",
    "                   ffa_db.select('VH'),\n",
    "                   ffa_db.select('VV').divide(ffa_db.select('VH')))\n",
    "\n",
    "# Create the map object.\n",
    "m = folium.Map(location=location, zoom_start=12)\n",
    "\n",
    "# Add the S1 rgb composite to the map object.\n",
    "m.add_ee_layer(rgb, {'min': [-20, -20, 0], 'max': [0, 0, 2]}, 'FFA')\n",
    "\n",
    "# Add a layer control panel to the map.\n",
    "m.add_child(folium.LayerControl())\n",
    "\n",
    "# Display the map.\n",
    "display(m)"
   ]
  },
  {
   "cell_type": "markdown",
   "id": "6bc1a504",
   "metadata": {},
   "source": [
    "## Extract pixel values and examine distributions"
   ]
  },
  {
   "cell_type": "code",
   "execution_count": 60,
   "id": "cbcffce8",
   "metadata": {},
   "outputs": [],
   "source": [
    "# Using standard reducers from the GEE library we can\n",
    "# easily calculate a histogram and estimate the first\n",
    "# two moments (mean and variance) of the pixels in the\n",
    "# polygon aoi_sub , again retrieving the results from\n",
    "# the servers with getInfo().\n",
    "\n",
    "d = dict.fromkeys(['VV', 'VH', 'VV_dev', 'VH_dev', 'angle'])\n",
    "\n",
    "for i,pol in enumerate(['VV', 'VH']):\n",
    "    # hist = ffa_db.select(f'{pol}').reduceRegion(\n",
    "    #    ee.Reducer.fixedHistogram(0, 0.5, 500),aoi_sub).get(f'{pol}').getInfo()\n",
    "    d[pol] = ffa_db.select(f'{pol}').reduceRegion(\n",
    "        ee.Reducer.mean(), aoi_sub).get(f'{pol}').getInfo()\n",
    "    d[f'{pol}_dev'] = np.sqrt(ffa_db.select(f'{pol}').reduceRegion(\n",
    "        ee.Reducer.variance(), aoi_sub).get(f'{pol}').getInfo())\n",
    "    \n",
    "d['angle'] = ffa_db.select('angle').reduceRegion(\n",
    "    ee.Reducer.mean(), aoi_sub).get('angle').getInfo()"
   ]
  },
  {
   "cell_type": "code",
   "execution_count": 61,
   "id": "b3f8495b",
   "metadata": {},
   "outputs": [
    {
     "data": {
      "text/plain": [
       "{'VV': -10.051188447166275,\n",
       " 'VH': -15.935466061188578,\n",
       " 'VV_dev': 2.1164268646315056,\n",
       " 'VH_dev': 2.220589022985799,\n",
       " 'angle': 41.944610595703125}"
      ]
     },
     "execution_count": 61,
     "metadata": {},
     "output_type": "execute_result"
    }
   ],
   "source": [
    "d"
   ]
  },
  {
   "cell_type": "markdown",
   "id": "0ac97be2",
   "metadata": {},
   "source": [
    "At this level, the timestamp and passing (asc/desc) are still missing"
   ]
  },
  {
   "cell_type": "code",
   "execution_count": 62,
   "id": "675e308c",
   "metadata": {},
   "outputs": [],
   "source": [
    "import time"
   ]
  },
  {
   "cell_type": "code",
   "execution_count": 63,
   "id": "8cc3fdb4",
   "metadata": {},
   "outputs": [
    {
     "data": {
      "text/plain": [
       "{'type': 'Image',\n",
       " 'bands': [{'id': 'VV',\n",
       "   'data_type': {'type': 'PixelType', 'precision': 'double'},\n",
       "   'dimensions': [347, 266],\n",
       "   'origin': [7157, 16014],\n",
       "   'crs': 'EPSG:32632',\n",
       "   'crs_transform': [10, 0, 394777.3455817547, 0, -10, 5701290.229369663]},\n",
       "  {'id': 'VH',\n",
       "   'data_type': {'type': 'PixelType', 'precision': 'double'},\n",
       "   'dimensions': [347, 266],\n",
       "   'origin': [7157, 16014],\n",
       "   'crs': 'EPSG:32632',\n",
       "   'crs_transform': [10, 0, 394777.3455817547, 0, -10, 5701290.229369663]},\n",
       "  {'id': 'angle',\n",
       "   'data_type': {'type': 'PixelType', 'precision': 'float'},\n",
       "   'dimensions': [1, 1],\n",
       "   'origin': [14, 7],\n",
       "   'crs': 'EPSG:32632',\n",
       "   'crs_transform': [-12997.77519209648,\n",
       "    -3350.910727790906,\n",
       "    685033.6771857691,\n",
       "    2138.4057794939727,\n",
       "    -20077.23388737999,\n",
       "    5655639.081878104]}],\n",
       " 'id': 'COPERNICUS/S1_GRD/S1A_IW_GRDH_1SDV_20200803T053414_20200803T053439_033738_03E909_0119',\n",
       " 'version': 1668410218758401,\n",
       " 'properties': {'GRD_Post_Processing_start': 1596441587213,\n",
       "  'sliceNumber': 17,\n",
       "  'GRD_Post_Processing_facility_name': 'Copernicus S1 Core Ground Segment - DPA',\n",
       "  'resolution': 'H',\n",
       "  'SLC_Processing_facility_name': 'Copernicus S1 Core Ground Segment - DPA',\n",
       "  'system:footprint': {'type': 'Polygon',\n",
       "   'coordinates': [[[8.534317016601562, 50.02163783396679],\n",
       "     [8.530540466308594, 49.99780882512238],\n",
       "     [8.564186096191406, 50.00663576154257],\n",
       "     [8.57860565185547, 50.019431940583104],\n",
       "     [8.534317016601562, 50.02163783396679]]]},\n",
       "  'familyName': 'SENTINEL-1',\n",
       "  'segmentStartTime': 1596432451226,\n",
       "  'missionDataTakeID': 256265,\n",
       "  'GRD_Post_Processing_facility_country': 'Germany',\n",
       "  'nssdcIdentifier': '2014-016A',\n",
       "  'productClass': 'S',\n",
       "  'phaseIdentifier': 1,\n",
       "  'orbitProperties_pass': 'DESCENDING',\n",
       "  'relativeOrbitNumber_stop': 66,\n",
       "  'system:time_end': 1596432854000,\n",
       "  'SLC_Processing_facility_site': 'DLR-Oberpfaffenhofen',\n",
       "  'GRD_Post_Processing_stop': 1596442283000,\n",
       "  'system:time_start': 1596432854000,\n",
       "  'instrumentMode': 'IW',\n",
       "  'totalSlices': 28,\n",
       "  'SLC_Processing_stop': 1596442057000,\n",
       "  'startTimeANX': 2122717,\n",
       "  'SLC_Processing_start': 1596441713000,\n",
       "  'resolution_meters': 10,\n",
       "  'instrumentSwath': 'IW',\n",
       "  'relativeOrbitNumber_start': 66,\n",
       "  'productTimelinessCategory': 'Fast-24h',\n",
       "  'SLC_Processing_software_name': 'Sentinel-1 IPF',\n",
       "  'sliceProductFlag': 'true',\n",
       "  'S1TBX_Calibration_vers': '7.0.2',\n",
       "  'orbitNumber_start': 33738,\n",
       "  'GRD_Post_Processing_facility_site': 'DLR-Oberpfaffenhofen',\n",
       "  'instrument': 'Synthetic Aperture Radar',\n",
       "  'GRD_Post_Processing_software_name': 'Sentinel-1 IPF',\n",
       "  'platform_number': 'A',\n",
       "  'S1TBX_SAR_Processing_vers': '7.0.2',\n",
       "  'productType': 'GRD',\n",
       "  'orbitProperties_ascendingNodeTime': 1596430732209,\n",
       "  'stopTimeANX': 2147716,\n",
       "  'productComposition': 'Slice',\n",
       "  'productClassDescription': 'SAR Standard L1 Product',\n",
       "  'GRD_Post_Processing_software_version': '003.31',\n",
       "  'SLC_Processing_software_version': '003.31',\n",
       "  'orbitNumber_stop': 33738,\n",
       "  'instrumentConfigurationID': 6,\n",
       "  'system:asset_size': 4058423305,\n",
       "  'cycleNumber': 207,\n",
       "  'system:index': 'S1A_IW_GRDH_1SDV_20200803T053414_20200803T053439_033738_03E909_0119',\n",
       "  'SNAP_Graph_Processing_Framework_GPF_vers': '7.0.3',\n",
       "  'SLC_Processing_facility_org': 'ESA',\n",
       "  'SLC_Processing_facility_country': 'Germany',\n",
       "  'GRD_Post_Processing_facility_org': 'ESA',\n",
       "  'transmitterReceiverPolarisation': ['VV', 'VH']}}"
      ]
     },
     "execution_count": 63,
     "metadata": {},
     "output_type": "execute_result"
    }
   ],
   "source": [
    "info = ffa_db.getInfo(); info\n",
    "\n",
    "# Relevant infos:\n",
    "#\n",
    "# platform_number\n",
    "# instrumentMode\n",
    "# relativeOrbitNumber_stop\n",
    "# orbitProperties_pass"
   ]
  },
  {
   "cell_type": "code",
   "execution_count": 64,
   "id": "fa58e591",
   "metadata": {},
   "outputs": [
    {
     "data": {
      "text/plain": [
       "'A'"
      ]
     },
     "execution_count": 64,
     "metadata": {},
     "output_type": "execute_result"
    }
   ],
   "source": [
    "info['properties']['platform_number']"
   ]
  },
  {
   "cell_type": "code",
   "execution_count": 65,
   "id": "7b023cac",
   "metadata": {},
   "outputs": [
    {
     "data": {
      "text/plain": [
       "'08/03/20'"
      ]
     },
     "execution_count": 65,
     "metadata": {},
     "output_type": "execute_result"
    }
   ],
   "source": [
    "time_start = info['properties']['system:time_start']\n",
    "time.strftime('%x', time.gmtime(time_start/1000))"
   ]
  },
  {
   "cell_type": "markdown",
   "id": "94d96edd",
   "metadata": {},
   "source": [
    "And this is how you do it!"
   ]
  },
  {
   "cell_type": "markdown",
   "id": "fbfc56f5",
   "metadata": {},
   "source": [
    "# From Part 2"
   ]
  },
  {
   "cell_type": "code",
   "execution_count": 30,
   "id": "0e4c656e",
   "metadata": {},
   "outputs": [
    {
     "data": {
      "text/plain": [
       "['08/05/20', '08/11/20', '08/17/20', '08/23/20', '08/29/20']"
      ]
     },
     "execution_count": 30,
     "metadata": {},
     "output_type": "execute_result"
    }
   ],
   "source": [
    "# Filter images by metadata and produce an images' JS collection\n",
    "\n",
    "im_coll = (ee.ImageCollection('COPERNICUS/S1_GRD_FLOAT')\n",
    "                .filterBounds(aoi)\n",
    "                .filterDate(ee.Date('2020-08-01'),ee.Date('2020-08-31'))\n",
    "                .filter(ee.Filter.eq('orbitProperties_pass', 'ASCENDING'))\n",
    "                .filter(ee.Filter.eq('relativeOrbitNumber_start', 15))\n",
    "                .sort('system:time_start'))\n",
    "\n",
    "# Retrieve the acquisition times in the collection\n",
    "\n",
    "import time\n",
    "acq_times = im_coll.aggregate_array('system:time_start').getInfo()\n",
    "[time.strftime('%x', time.gmtime(acq_time/1000)) for acq_time in acq_times]"
   ]
  },
  {
   "cell_type": "code",
   "execution_count": 31,
   "id": "7b9e36cd",
   "metadata": {
    "scrolled": true
   },
   "outputs": [
    {
     "data": {
      "text/html": [
       "<img src=\"https://earthengine.googleapis.com/v1alpha/projects/earthengine-legacy/thumbnails/459b43ec4840d23ed823f6e9c69deb4a-abf80bb50d954c5ed3aebf1af61e6dae:getPixels\" width=\"800\"/>"
      ],
      "text/plain": [
       "<IPython.core.display.Image object>"
      ]
     },
     "execution_count": 31,
     "metadata": {},
     "output_type": "execute_result"
    }
   ],
   "source": [
    "# Example: choose the first and the second images and compute the ratio on VV bands\n",
    "\n",
    "im_list = im_coll.toList(im_coll.size())\n",
    "im1 = ee.Image(im_list.get(0)).select('VV').clip(aoi_sub)\n",
    "im2 = ee.Image(im_list.get(1)).select('VV').clip(aoi_sub)\n",
    "ratio = im1.divide(im2)\n",
    "url = ratio.getThumbURL({'min': 0, 'max': 10})\n",
    "disp.Image(url=url, width=800)"
   ]
  },
  {
   "cell_type": "markdown",
   "id": "f68b5e33",
   "metadata": {},
   "source": [
    "# From description of product: Sentinel-1 SAR GRD: C-band Synthetic Aperture Radar Ground Range Detected, log scaling\n",
    "\n",
    "Ref. https://developers.google.com/earth-engine/datasets/catalog/COPERNICUS_S1_GRD"
   ]
  },
  {
   "cell_type": "markdown",
   "id": "46518391",
   "metadata": {},
   "source": [
    "## JavaScript code"
   ]
  },
  {
   "cell_type": "raw",
   "id": "eb7f6baa",
   "metadata": {},
   "source": [
    "var imgVV = ee.ImageCollection('COPERNICUS/S1_GRD')\n",
    "        .filter(ee.Filter.listContains('transmitterReceiverPolarisation', 'VV'))\n",
    "        .filter(ee.Filter.eq('instrumentMode', 'IW'))\n",
    "        .select('VV')\n",
    "        .map(function(image) {\n",
    "          var edge = image.lt(-30.0);\n",
    "          var maskedImage = image.mask().and(edge.not());\n",
    "          return image.updateMask(maskedImage);\n",
    "        });\n",
    "\n",
    "var desc = imgVV.filter(ee.Filter.eq('orbitProperties_pass', 'DESCENDING'));\n",
    "var asc = imgVV.filter(ee.Filter.eq('orbitProperties_pass', 'ASCENDING'));\n",
    "\n",
    "var spring = ee.Filter.date('2015-03-01', '2015-04-20');\n",
    "var lateSpring = ee.Filter.date('2015-04-21', '2015-06-10');\n",
    "var summer = ee.Filter.date('2015-06-11', '2015-08-31');\n",
    "\n",
    "var descChange = ee.Image.cat(\n",
    "        desc.filter(spring).mean(),\n",
    "        desc.filter(lateSpring).mean(),\n",
    "        desc.filter(summer).mean());\n",
    "\n",
    "var ascChange = ee.Image.cat(\n",
    "        asc.filter(spring).mean(),\n",
    "        asc.filter(lateSpring).mean(),\n",
    "        asc.filter(summer).mean());\n",
    "\n",
    "Map.setCenter(5.2013, 47.3277, 12);\n",
    "Map.addLayer(ascChange, {min: -25, max: 5}, 'Multi-T Mean ASC', true);\n",
    "Map.addLayer(descChange, {min: -25, max: 5}, 'Multi-T Mean DESC', true);"
   ]
  },
  {
   "cell_type": "markdown",
   "id": "ef0e148d",
   "metadata": {},
   "source": [
    "# From End-to-end GEE\n",
    "\n",
    "Ref. https://courses.spatialthoughts.com/end-to-end-gee.html"
   ]
  },
  {
   "cell_type": "markdown",
   "id": "2ea3e81c",
   "metadata": {},
   "source": [
    "## Javascript"
   ]
  },
  {
   "cell_type": "raw",
   "id": "8916e35e",
   "metadata": {},
   "source": [
    "var geometry = ee.Geometry.Point([77.60412933051538, 12.952912912328241])\n",
    "Map.centerObject(geometry, 10)\n",
    "\n",
    "var s2 = ee.ImageCollection('COPERNICUS/S2_HARMONIZED');\n",
    "\n",
    "// Filter by metadata\n",
    "var filtered = s2.filter(ee.Filter.lt('CLOUDY_PIXEL_PERCENTAGE', 30));\n",
    "\n",
    "// Filter by date\n",
    "var filtered = s2.filter(ee.Filter.date('2019-01-01', '2020-01-01'));\n",
    "\n",
    "// Filter by location\n",
    "var filtered = s2.filter(ee.Filter.bounds(geometry));\n",
    "\n",
    "// Let's apply all the 3 filters together on the collection\n",
    "\n",
    "// First apply metadata fileter\n",
    "var filtered1 = s2.filter(ee.Filter.lt('CLOUDY_PIXEL_PERCENTAGE', 30));\n",
    "// Apply date filter on the results\n",
    "var filtered2 = filtered1.filter(\n",
    "  ee.Filter.date('2019-01-01', '2020-01-01'));\n",
    "// Lastly apply the location filter\n",
    "var filtered3 = filtered2.filter(ee.Filter.bounds(geometry));\n",
    "\n",
    "// Instead of applying filters one after the other, we can 'chain' them\n",
    "// Use the . notation to apply all the filters together\n",
    "var filtered = s2.filter(ee.Filter.lt('CLOUDY_PIXEL_PERCENTAGE', 30))\n",
    "  .filter(ee.Filter.date('2019-01-01', '2020-01-01'))\n",
    "  .filter(ee.Filter.bounds(geometry));\n",
    "  \n",
    "print(filtered.size());"
   ]
  },
  {
   "cell_type": "markdown",
   "id": "bc41ffe9",
   "metadata": {},
   "source": [
    "### EE API objects basics"
   ]
  },
  {
   "cell_type": "raw",
   "id": "1ce7b54e",
   "metadata": {},
   "source": [
    "// Let's see how to take a list of numbers and add 1 to each element\n",
    "var myList = ee.List.sequence(1, 10);\n",
    "\n",
    "// Define a function that takes a number and adds 1 to it\n",
    "var myFunction = function(number) {\n",
    "  return number + 1;\n",
    "}\n",
    "print(myFunction(1));\n",
    "\n",
    "//Re-Define a function using Earth Engine API\n",
    "var myFunction = function(number) { \n",
    "  return ee.Number(number).add(1);\n",
    "}\n",
    "\n",
    "// Map the function of the list\n",
    "var newList = myList.map(myFunction);\n",
    "print(newList); \n",
    "\n",
    "// Extracting value from a list\n",
    "\n",
    "var value = newList.get(0);\n",
    "print(value);\n",
    "\n",
    "// Casting\n",
    "\n",
    "// Let's try to do some computation on the extracted value\n",
    "//var newValue = value.add(1)\n",
    "//print(newValue)\n",
    "\n",
    "// You get an error because Earth Engine doesn't know what is the type of 'value'\n",
    "// We need to cast it to appropriate type first\n",
    "var value = ee.Number(value);\n",
    "var newValue = value.add(1);\n",
    "print(newValue);\n",
    "\n",
    "// Dictionary\n",
    "// Convert javascript objects to EE Objects\n",
    "var data = {'city': 'Bengaluru', 'population': 8400000, 'elevation': 930};\n",
    "var eeData = ee.Dictionary(data);\n",
    "// Once converted, you can use the methods from the\n",
    "// ee.Dictionary module\n",
    "print(eeData.get('city'))\n",
    "\n",
    "// Dates\n",
    "// For any date computation, you should use ee.Date module\n",
    "\n",
    "var date = ee.Date('2019-01-01')\n",
    "var futureDate = date.advance(1, 'year')\n",
    "print(futureDate)"
   ]
  },
  {
   "cell_type": "markdown",
   "id": "e28d9b79",
   "metadata": {},
   "source": [
    "### Mapping w/ .map(): applying single function to the whole Image Collection"
   ]
  },
  {
   "cell_type": "raw",
   "id": "724be54e",
   "metadata": {},
   "source": [
    "var s2 = ee.ImageCollection('COPERNICUS/S2_HARMONIZED');\n",
    "var admin1 = ee.FeatureCollection('FAO/GAUL_SIMPLIFIED_500m/2015/level1');\n",
    "    \n",
    "var karnataka = admin1.filter(ee.Filter.eq('ADM1_NAME', 'Karnataka'));\n",
    "var geometry = karnataka.geometry();\n",
    "var rgbVis = {min: 0.0, max: 3000, bands: ['B4', 'B3', 'B2']};\n",
    "\n",
    "var filtered = s2.filter(ee.Filter.lt('CLOUDY_PIXEL_PERCENTAGE', 30))\n",
    "  .filter(ee.Filter.date('2019-01-01', '2020-01-01'))\n",
    "  .filter(ee.Filter.bounds(geometry));\n",
    "\n",
    "var composite = filtered.median().clip(geometry);\n",
    "Map.addLayer(composite, rgbVis, 'Karnataka Composite');\n",
    "\n",
    "\n",
    "// Write a function that computes NDVI for an image and adds it as a band\n",
    "function addNDVI(image) {\n",
    "  var ndvi = image.normalizedDifference(['B8', 'B4']).rename('ndvi');\n",
    "  return image.addBands(ndvi);\n",
    "}\n",
    "\n",
    "// Map the function over the collection\n",
    "var withNdvi = filtered.map(addNDVI);\n",
    "\n",
    "var composite = withNdvi.median();\n",
    "\n",
    "var ndviComposite = composite.select('ndvi').clip(karnataka);\n",
    "\n",
    "var palette = [\n",
    "  'FFFFFF', 'CE7E45', 'DF923D', 'F1B555', 'FCD163', '99B718',\n",
    "  '74A901', '66A000', '529400', '3E8601', '207401', '056201',\n",
    "  '004C00', '023B01', '012E01', '011D01', '011301'];\n",
    "\n",
    "var ndviVis = {min:0, max:0.5, palette: palette };\n",
    "Map.addLayer(ndviComposite, ndviVis, 'ndvi');"
   ]
  },
  {
   "cell_type": "markdown",
   "id": "97bf14a1",
   "metadata": {},
   "source": [
    "### Computations w/ .reduce(): compute statistics on large amount of inputs\n",
    "\n",
    "When writing parallel computing code, a Reduce operation allows you to compute statistics on a large amount of inputs. In Earth Engine, you need to run reduction operation when creating composites, calculating statistics, doing regression analysis etc. The Earth Engine API comes with a large number of built-in reducer functions (such as ee.Reducer.sum(), ee.Reducer.histogram(), ee.Reducer.linearFit() etc.) that can perform a variety of statistical operations on input data. You can run reducers using the reduce() function. Earth Engine supports running reducers on all data structures that can hold multiple values, such as Images (reducers run on different bands), ImageCollection, FeatureCollection, List, Dictionary etc. The script below introduces basic concepts related to reducers."
   ]
  },
  {
   "cell_type": "raw",
   "id": "c4d815c4",
   "metadata": {},
   "source": [
    "// Computing stats on a list\n",
    "var myList = ee.List.sequence(1, 10);\n",
    "print(myList)\n",
    "\n",
    "// Use a reducer to compute min and max in the list\n",
    "var mean = myList.reduce(ee.Reducer.mean());\n",
    "print(mean);\n",
    "\n",
    "var geometry = ee.Geometry.Polygon([[\n",
    "  [82.60642647743225, 27.16350437805251],\n",
    "  [82.60984897613525, 27.1618529901377],\n",
    "  [82.61088967323303, 27.163695288375266],\n",
    "  [82.60757446289062, 27.16517483230927]\n",
    "]]);\n",
    "var s2 = ee.ImageCollection('COPERNICUS/S2_HARMONIZED');\n",
    "Map.centerObject(geometry);\n",
    "\n",
    "// Apply a reducer on a image collection\n",
    "var filtered = s2.filter(ee.Filter.lt('CLOUDY_PIXEL_PERCENTAGE', 30))\n",
    "  .filter(ee.Filter.date('2019-01-01', '2020-01-01'))\n",
    "  .filter(ee.Filter.bounds(geometry))\n",
    "  .select('B.*');\n",
    "\n",
    "print(filtered.size());\n",
    "var collMean = filtered.reduce(ee.Reducer.mean());\n",
    "print('Reducer on Collection', collMean);\n",
    "\n",
    "var image = ee.Image('COPERNICUS/S2/20190223T050811_20190223T051829_T44RPR');\n",
    "var rgbVis = {min: 0.0, max: 3000, bands: ['B4', 'B3', 'B2']};\n",
    "Map.addLayer(image, rgbVis, 'Image');\n",
    "Map.addLayer(geometry, {color: 'red'}, 'Farm');\n",
    "\n",
    "// If we want to compute the average value in each band,\n",
    "// we can use reduceRegion instead\n",
    "\n",
    "var stats = image.reduceRegion({\n",
    "  reducer: ee.Reducer.mean(),\n",
    "  geometry: geometry,\n",
    "  scale: 100,\n",
    "  maxPixels: 1e10\n",
    "  });\n",
    "print(stats);\n",
    "\n",
    "// Result of reduceRegion is a dictionary. \n",
    "// We can extract the values using .get() function\n",
    "print('Average value in B4', stats.get('B4'));"
   ]
  },
  {
   "cell_type": "markdown",
   "id": "6917f329",
   "metadata": {},
   "source": [
    "### Time-series creation"
   ]
  },
  {
   "cell_type": "raw",
   "id": "6116d627",
   "metadata": {},
   "source": [
    "var s2 = ee.ImageCollection('COPERNICUS/S2_HARMONIZED');\n",
    "var geometry = ee.Geometry.Polygon([[\n",
    "  [82.60642647743225, 27.16350437805251],\n",
    "  [82.60984897613525, 27.1618529901377],\n",
    "  [82.61088967323303, 27.163695288375266],\n",
    "  [82.60757446289062, 27.16517483230927]\n",
    "]]);\n",
    "Map.addLayer(geometry, {color: 'red'}, 'Farm');\n",
    "Map.centerObject(geometry);\n",
    "var rgbVis = {min: 0.0, max: 3000, bands: ['B4', 'B3', 'B2']};\n",
    "\n",
    "var filtered = s2\n",
    "  .filter(ee.Filter.date('2017-01-01', '2018-01-01'))\n",
    "  .filter(ee.Filter.lt('CLOUDY_PIXEL_PERCENTAGE', 30))\n",
    "  .filter(ee.Filter.bounds(geometry));\n",
    "\n",
    "// Write a function for Cloud masking\n",
    "function maskS2clouds(image) {\n",
    "  var qa = image.select('QA60');\n",
    "  var cloudBitMask = 1 << 10;\n",
    "  var cirrusBitMask = 1 << 11;\n",
    "  var mask = qa.bitwiseAnd(cloudBitMask).eq(0).and(\n",
    "             qa.bitwiseAnd(cirrusBitMask).eq(0));\n",
    "  return image.updateMask(mask)//.divide(10000)\n",
    "      .select(\"B.*\")\n",
    "      .copyProperties(image, [\"system:time_start\"]);\n",
    "}\n",
    "\n",
    "var filtered = filtered.map(maskS2clouds);\n",
    "// Write a function that computes NDVI for an image and adds it as a band\n",
    "function addNDVI(image) {\n",
    "  var ndvi = image.normalizedDifference(['B8', 'B4']).rename('ndvi');\n",
    "  return image.addBands(ndvi);\n",
    "}\n",
    "\n",
    "// Map the function over the collection\n",
    "var withNdvi = filtered.map(addNDVI);\n",
    "\n",
    "\n",
    "// Display a time-series chart\n",
    "var chart = ui.Chart.image.series({\n",
    "  imageCollection: withNdvi.select('ndvi'),\n",
    "  region: geometry,\n",
    "  reducer: ee.Reducer.mean(),\n",
    "  scale: 10\n",
    "}).setOptions({\n",
    "      lineWidth: 1,\n",
    "      title: 'NDVI Time Series',\n",
    "      interpolateNulls: true,\n",
    "      vAxis: {title: 'NDVI'},\n",
    "      hAxis: {title: '', format: 'YYYY-MMM'}\n",
    "    })\n",
    "print(chart);"
   ]
  },
  {
   "cell_type": "markdown",
   "id": "5e71f737-93dd-4517-b4aa-6ce6cf5d6e80",
   "metadata": {},
   "source": [
    "# Other snippets"
   ]
  },
  {
   "cell_type": "raw",
   "id": "d76922f5-f65d-40cc-8c8d-42dcb55e2e35",
   "metadata": {},
   "source": [
    "# From https://colab.research.google.com/github/spatialthoughts/courses/blob/master/code/end_to_end_gee/02_automatic_conversion_of_scripts.ipynb#scrollTo=OnrJ0KZEKqIN\n",
    "\n",
    "rgbVis = {\n",
    "  'min': 0.0,\n",
    "  'max': 3000,\n",
    "  'bands': ['B4', 'B3', 'B2'],\n",
    "}\n",
    "\n",
    "# Write a function for Cloud masking\n",
    "def maskS2clouds(image):\n",
    "    qa = image.select('QA60')\n",
    "    cloudBitMask = 1 << 10\n",
    "    cirrusBitMask = 1 << 11\n",
    "    mask = qa.bitwiseAnd(cloudBitMask).eq(0).And(\n",
    "        qa.bitwiseAnd(cirrusBitMask).eq(0))\n",
    "    return image.updateMask(mask) \\\n",
    "                .select(\"B.*\") \\\n",
    "                .copyProperties(image, [\"system:time_start\"])\n",
    "\n",
    "filtered = s2.map(maskS2clouds)\n",
    "\n",
    "# Write a function that computes NDVI for an image and adds it as a band\n",
    "def addNDVI(image):\n",
    "    ndvi = image.normalizedDifference(['B5', 'B4']).rename('ndvi')\n",
    "    return image.addBands(ndvi)\n",
    "\n",
    "withNdvi = filtered.map(addNDVI)\n",
    "\n",
    "composite = withNdvi.median()\n",
    "palette = [\n",
    "  'FFFFFF', 'CE7E45', 'DF923D', 'F1B555', 'FCD163', '99B718',\n",
    "  '74A901', '66A000', '529400', '3E8601', '207401', '056201',\n",
    "  '004C00', '023B01', '012E01', '011D01', '011301']\n",
    "\n",
    "ndviVis = {'min':0, 'max':0.5, 'palette': palette }"
   ]
  },
  {
   "cell_type": "raw",
   "id": "577d6054-26b3-4a88-9a4c-ed0ee07a76d5",
   "metadata": {},
   "source": [
    "data_out.keys()\n",
    "data_out.get('features')[0].get('properties')"
   ]
  },
  {
   "cell_type": "raw",
   "id": "14c7a7ec-8114-442f-b68e-da52c36798ef",
   "metadata": {
    "tags": []
   },
   "source": [
    "# Cloud masking\n",
    "\n",
    "Ref: https://github.com/samsammurphy/cloud-masking-sentinel2/blob/master/cloud-masking-sentinel2.ipynb"
   ]
  },
  {
   "cell_type": "raw",
   "id": "a226f5a6-91aa-4fef-8186-1efd6e2f41ba",
   "metadata": {
    "tags": []
   },
   "source": [
    "## Functions"
   ]
  },
  {
   "cell_type": "raw",
   "id": "9dd0aad5-178e-4aec-b36c-654c296aceac",
   "metadata": {},
   "source": [
    "def rescale(img, thresholds):\n",
    "    \"\"\"\n",
    "    Linear stretch of image between two threshold values.\n",
    "    \"\"\"\n",
    "    return img.subtract(thresholds[0]).divide(thresholds[1] - thresholds[0])"
   ]
  },
  {
   "cell_type": "raw",
   "id": "b528dec3-dd42-438e-9bfe-93ff98bb50fd",
   "metadata": {},
   "source": [
    "def sentinelCloudScore(img):\n",
    "    \"\"\"\n",
    "    Computes spectral indices of cloudyness and take the minimum of them.\n",
    "    \n",
    "    Each spectral index is fairly lenient because the group minimum \n",
    "    is a somewhat stringent comparison policy. side note -> this seems like a job for machine learning :)\n",
    "    \n",
    "    originally written by Matt Hancher for Landsat imagery\n",
    "    adapted to Sentinel by Chris Hewig and Ian Housman\n",
    "    \"\"\"\n",
    "    \n",
    "    # cloud until proven otherwise\n",
    "    score = ee.Image(1)\n",
    "\n",
    "    # clouds are reasonably bright\n",
    "    score = score.min(rescale(img.select(['blue']), [0.1, 0.5]))\n",
    "    score = score.min(rescale(img.select(['aerosol']), [0.1, 0.3]))\n",
    "    score = score.min(rescale(img.select(['aerosol']).add(img.select(['cirrus'])), [0.15, 0.2]))\n",
    "    score = score.min(rescale(img.select(['red']).add(img.select(['green'])).add(img.select('blue')), [0.2, 0.8]))\n",
    "\n",
    "    # clouds are moist\n",
    "    ndmi = img.normalizedDifference(['red4','swir1'])\n",
    "    score=score.min(rescale(ndmi, [-0.1, 0.1]))\n",
    "\n",
    "    # clouds are not snow.\n",
    "    ndsi = img.normalizedDifference(['green', 'swir1'])\n",
    "    score=score.min(rescale(ndsi, [0.8, 0.6])).rename(['cloudScore'])\n",
    "    \n",
    "    return img.addBands(score)"
   ]
  },
  {
   "cell_type": "raw",
   "id": "00cc3107-d5c0-4733-af6f-976930b6f3aa",
   "metadata": {},
   "source": [
    "def ESAcloudMask(img):\n",
    "    \"\"\"\n",
    "    European Space Agency (ESA) clouds from 'QA60', i.e. Quality Assessment band at 60m\n",
    "     \n",
    "    parsed by Nick Clinton\n",
    "    \"\"\"\n",
    "\n",
    "    qa = img.select('QA60')\n",
    "\n",
    "    # bits 10 and 11 are clouds and cirrus\n",
    "    cloudBitMask = int(2**10)\n",
    "    cirrusBitMask = int(2**11)\n",
    "\n",
    "    # both flags set to zero indicates clear conditions.\n",
    "    clear = qa.bitwiseAnd(cloudBitMask).eq(0).And(\\\n",
    "           qa.bitwiseAnd(cirrusBitMask).eq(0))\n",
    "    \n",
    "    # clouds is not clear\n",
    "    cloud = clear.Not().rename(['ESA_clouds'])\n",
    "\n",
    "    # return the masked and scaled data.\n",
    "    return img.addBands(cloud) "
   ]
  },
  {
   "cell_type": "raw",
   "id": "98d14342-4579-4a04-bc0b-2b408ba2c01a",
   "metadata": {},
   "source": [
    "def shadowMask(img,cloudMaskType):\n",
    "    \"\"\"\n",
    "    Finds cloud shadows in images\n",
    "    \n",
    "    Originally by Gennadii Donchyts, adapted by Ian Housman\n",
    "    \"\"\"\n",
    "    \n",
    "    def potentialShadow(cloudHeight):\n",
    "        \"\"\"\n",
    "        Finds potential shadow areas from array of cloud heights\n",
    "        \n",
    "        returns an image stack (i.e. list of images) \n",
    "        \"\"\"\n",
    "        cloudHeight = ee.Number(cloudHeight)\n",
    "        \n",
    "        # shadow vector length\n",
    "        shadowVector = zenith.tan().multiply(cloudHeight)\n",
    "        \n",
    "        # x and y components of shadow vector length\n",
    "        x = azimuth.cos().multiply(shadowVector).divide(nominalScale).round()\n",
    "        y = azimuth.sin().multiply(shadowVector).divide(nominalScale).round()\n",
    "        \n",
    "        # affine translation of clouds\n",
    "        cloudShift = cloudMask.changeProj(cloudMask.projection(), cloudMask.projection().translate(x, y)) # could incorporate shadow stretch?\n",
    "        \n",
    "        return cloudShift\n",
    "  \n",
    "    # select a cloud mask\n",
    "    cloudMask = img.select(cloudMaskType)\n",
    "    \n",
    "    # make sure it is binary (i.e. apply threshold to cloud score)\n",
    "    cloudScoreThreshold = 0.5\n",
    "    cloudMask = cloudMask.gt(cloudScoreThreshold)\n",
    "\n",
    "    # solar geometry (radians)\n",
    "    azimuth = ee.Number(img.get('solar_azimuth')).multiply(math.pi).divide(180.0).add(ee.Number(0.5).multiply(math.pi))\n",
    "    zenith  = ee.Number(0.5).multiply(math.pi ).subtract(ee.Number(img.get('solar_zenith')).multiply(math.pi).divide(180.0))\n",
    "\n",
    "    # find potential shadow areas based on cloud and solar geometry\n",
    "    nominalScale = cloudMask.projection().nominalScale()\n",
    "    cloudHeights = ee.List.sequence(500,4000,500)        \n",
    "    potentialShadowStack = cloudHeights.map(potentialShadow)\n",
    "    potentialShadow = ee.ImageCollection.fromImages(potentialShadowStack).max()\n",
    "\n",
    "    # shadows are not clouds\n",
    "    potentialShadow = potentialShadow.And(cloudMask.Not())\n",
    "\n",
    "    # (modified) dark pixel detection \n",
    "    darkPixels = toa.normalizedDifference(['green', 'swir2']).gt(0.25)\n",
    "\n",
    "    # shadows are dark\n",
    "    shadows = potentialShadow.And(darkPixels).rename(['shadows'])\n",
    "    \n",
    "    # might be scope for one last check here. Dark surfaces (e.g. water, basalt, etc.) cause shadow commission errors.\n",
    "    # perhaps using a NDWI (e.g. green and nir)\n",
    "\n",
    "    return img.addBands(shadows)"
   ]
  },
  {
   "cell_type": "raw",
   "id": "62c18539-6087-4615-91e6-65c789180f3c",
   "metadata": {},
   "source": [
    "def quicklook(bandNames, mn, mx, region, gamma=False, title=False):\n",
    "    \"\"\"\n",
    "    Displays images in notebook\n",
    "    \"\"\"\n",
    "    \n",
    "    if title:\n",
    "        print('\\n',title)\n",
    " \n",
    "    if not gamma:\n",
    "        gamma = 1\n",
    "        \n",
    "    visual = Image(url=toa.select(bandNames).getThumbUrl({\n",
    "                'region':region,\n",
    "                'min':mn,\n",
    "                'max':mx,\n",
    "                'gamma':gamma,\n",
    "                'title':title\n",
    "                }))\n",
    "    \n",
    "    display(visual)"
   ]
  },
  {
   "cell_type": "raw",
   "id": "991defe8-a202-4b04-92cd-d9ab71efd253",
   "metadata": {},
   "source": [
    "## Run the masking"
   ]
  },
  {
   "cell_type": "raw",
   "id": "44cd566f-4c8d-465c-abf7-28fe8e2d9833",
   "metadata": {},
   "source": [
    "# select single image\n",
    "\n",
    "# top of atmosphere reflectance\n",
    "toa = s2.first().select(['B1','B2','B3','B4','B6','B8A','B9','B10', 'B11','B12'],\\\n",
    "                 ['aerosol', 'blue', 'green', 'red', 'red2','red4','h2o', 'cirrus','swir1', 'swir2'])\\\n",
    "                 .divide(10000).addBands(img.select('QA60'))\\\n",
    "                 .set('solar_azimuth',img.get('MEAN_SOLAR_AZIMUTH_ANGLE'))\\\n",
    "                 .set('solar_zenith',img.get('MEAN_SOLAR_ZENITH_ANGLE'))"
   ]
  },
  {
   "cell_type": "raw",
   "id": "67a37840-a9ee-449d-99d7-94f1aba3209e",
   "metadata": {},
   "source": [
    "# clouds\n",
    "toa = sentinelCloudScore(toa)\n",
    "toa = ESAcloudMask(toa)"
   ]
  },
  {
   "cell_type": "raw",
   "id": "7a12c84b-f550-433e-b9e0-43ff3aa453e8",
   "metadata": {},
   "source": [
    "# cloud shadow\n",
    "toa = shadowMask(toa,'cloudScore')"
   ]
  }
 ],
 "metadata": {
  "kernelspec": {
   "display_name": "google",
   "language": "python",
   "name": "google"
  },
  "language_info": {
   "codemirror_mode": {
    "name": "ipython",
    "version": 3
   },
   "file_extension": ".py",
   "mimetype": "text/x-python",
   "name": "python",
   "nbconvert_exporter": "python",
   "pygments_lexer": "ipython3",
   "version": "3.8.8"
  }
 },
 "nbformat": 4,
 "nbformat_minor": 5
}
