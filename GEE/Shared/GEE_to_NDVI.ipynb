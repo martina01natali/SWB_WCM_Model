{
 "cells": [
  {
   "cell_type": "markdown",
   "id": "cb482c90-0174-4d57-a7cf-d078d6a6c7a9",
   "metadata": {},
   "source": [
    "# S-2 image processing for NDVI retrieval from GEE\n",
    "This code is a semi-automatic routine for the download of NDVI values from Sentinel-2 via the Google Earth Engine API. The downloaded data represent the mean value of NDVI over an area of interest (AoI). The shape of the AoI must be provided manually into the code as a Java polygon or similar object.\n",
    "\n",
    "\n",
    "- The full timeseries of data is downloaded (from april 2017 to today).\n",
    "- All the images are reprojected with respect to the first one of the collection, that is the same as performing coregistration of all images.\n",
    "- A threshold-based mask for cloud covering is applied to the image such that any pixels with a probability value less than or equal to the value of the threshold will be kept, while all other pixels will be removed. The updated image with the applied mask is then returned. The threshold is user-defined by input.\n",
    "- The database of NDVI values is resampled to daily frequency and linearly interpolated.\n",
    "\n",
    "**Output**\n",
    "\n",
    "The output database has columns:\n",
    "- Date: timestamp of date and time of passage rounded at day.\n",
    "- NDVI: NDVI values, [dimensionless]. NDVI has range [-1,1]: negative values are related to clouds or water, positive small values (near 0) to bare soil, higher positive values to healthy vegetation.\n",
    "- Geometry: name of AoI.\n",
    "\n",
    "---\n",
    "**Dependencies** \n",
    "\n",
    "This code requires the installation of the Earth Engine API, `ee`. You can find more info on the installation procedure here: [Python installation of GEE](https://developers.google.com/earth-engine/guides/python_install). \\\n",
    "This code runs on browser-based notebooks only (Google Colaboratory, Jupyter Notebooks, etc...). \\\n",
    "Be aware that you won't need to install the Google Cloud APK to run the code.\n",
    "\n",
    "The full dependencies required are provided in the file of the environment google, `google.yml`. To install the virtual environment by using conda, run the lines below in the terminal after having activated `conda`.\n",
    "\n",
    "```python\n",
    "conda env create -f environment.yml # install environment from file environment.yml\n",
    "conda activate <myenv> # activate environment with name provided by header of .yml file\n",
    "conda info --envs # to check if everything worked fine\n",
    "```\n",
    "If you don't use `conda`, manually install the dependencies listed in the environment file by using `pip`.\n",
    "\n",
    "---"
   ]
  },
  {
   "cell_type": "code",
   "execution_count": 2,
   "id": "436f2941-013a-4dc1-b23c-c78bac1b3508",
   "metadata": {},
   "outputs": [],
   "source": [
    "from funcs_gee import *"
   ]
  },
  {
   "cell_type": "code",
   "execution_count": 3,
   "id": "6fd5b597",
   "metadata": {},
   "outputs": [
    {
     "data": {
      "text/html": [
       "<p>To authorize access needed by Earth Engine, open the following\n",
       "        URL in a web browser and follow the instructions:</p>\n",
       "        <p><a href=https://code.earthengine.google.com/client-auth?scopes=https%3A//www.googleapis.com/auth/earthengine%20https%3A//www.googleapis.com/auth/devstorage.full_control&request_id=6iM9TfhLKmGtmSwAvbhfKMOsJLOqqx2SHSrpEuW_-5U&tc=GfLZPhsjRikdSpbLifYpdn02TKHBQOEz4Eb7NygioEo&cc=yLnrYM2AZrPc1MApAH8dKPhOwXHIC_3dcl3Dy2qtREk>https://code.earthengine.google.com/client-auth?scopes=https%3A//www.googleapis.com/auth/earthengine%20https%3A//www.googleapis.com/auth/devstorage.full_control&request_id=6iM9TfhLKmGtmSwAvbhfKMOsJLOqqx2SHSrpEuW_-5U&tc=GfLZPhsjRikdSpbLifYpdn02TKHBQOEz4Eb7NygioEo&cc=yLnrYM2AZrPc1MApAH8dKPhOwXHIC_3dcl3Dy2qtREk</a></p>\n",
       "        <p>The authorization workflow will generate a code, which you should paste in the box below.</p>\n",
       "        "
      ],
      "text/plain": [
       "<IPython.core.display.HTML object>"
      ]
     },
     "metadata": {},
     "output_type": "display_data"
    },
    {
     "name": "stdin",
     "output_type": "stream",
     "text": [
      "Enter verification code:  4/1AWtgzh5lhmVCFLTlzExXvfPNTM6U-mmAnCN1QePGuTQXrBDbVC2Ix8xow4c\n"
     ]
    },
    {
     "name": "stdout",
     "output_type": "stream",
     "text": [
      "\n",
      "Successfully saved authorization token.\n"
     ]
    }
   ],
   "source": [
    "# Trigger the authentication flow.\n",
    "ee.Authenticate()\n",
    " \n",
    "# Initialize the library.\n",
    "ee.Initialize()"
   ]
  },
  {
   "cell_type": "code",
   "execution_count": 4,
   "id": "c5e92bc5-0120-46cc-9082-60cb0502654b",
   "metadata": {},
   "outputs": [
    {
     "name": "stdout",
     "output_type": "stream",
     "text": [
      "Define area of interest. \n",
      "If you have a GeoJSON file, copy paste.\n",
      "If you have a KML, export to GeoJSON (plenty of free tools online).\n"
     ]
    },
    {
     "name": "stdin",
     "output_type": "stream",
     "text": [
      "Please provide a title for AoI geometry. (Default: Budrio_half-right) budrio-half\n"
     ]
    }
   ],
   "source": [
    "print('Define area of interest. \\nIf you have a GeoJSON file, copy paste.\\n'+\n",
    "      'If you have a KML, export to GeoJSON (plenty of free tools online).')\n",
    "\n",
    "geoJSON = {\n",
    "\"type\": \"FeatureCollection\",\n",
    "\"name\": \"merged\",\n",
    "\"crs\": { \"type\": \"name\", \"properties\": { \"name\": \"urn:ogc:def:crs:OGC:1.3:CRS84\" } },\n",
    "\"features\": [\n",
    "{ \"type\": \"Feature\", \"properties\": { \"Name\": \"Budrio_campo_safe_half\", \"description\": None, \"tessellate\": 1 }, \"geometry\": { \"type\": \"Polygon\", \"coordinates\": [ [ [ 11.53262979564736, 44.570842547510622 ], [ 11.532328100248961, 44.570445732016537 ], [ 11.53264162483709, 44.570339694294631 ], [ 11.532950828277439, 44.570738040751841 ], [ 11.53262979564736, 44.570842547510622 ] ] ] } } ] }\n",
    "\n",
    "nfeatures = len(geoJSON['features'])\n",
    "coords = [geoJSON['features'][i]['geometry']['coordinates'] for i in range(nfeatures)]\n",
    "aoi = ee.Geometry.MultiPolygon(coords)\n",
    "\n",
    "geometry_title = input('Please provide a title for AoI geometry. (Default: Budrio_half-right)')\n",
    "if not geometry_title: geometry_title='Budrio_half-right'"
   ]
  },
  {
   "cell_type": "code",
   "execution_count": 24,
   "id": "7275ab81-f32c-4608-9a34-fcc41c25e352",
   "metadata": {},
   "outputs": [],
   "source": [
    "# Filters definition\n",
    "sp17 = ee.Filter.date('2017-04-04', '2017-05-22')\n",
    "su17 = ee.Filter.date('2017-05-22', '2017-09-15')\n",
    "au17 = ee.Filter.date('2017-09-15', '2017-11-02')\n",
    "tot17 = ee.Filter.date('2017-01-01', '2017-12-31')\n",
    "\n",
    "# Get collection of images and filter\n",
    "s2 = (ee.ImageCollection('COPERNICUS/S2_SR')\n",
    "        .filterBounds(aoi)\n",
    "        #.filter(tot17)\n",
    "        #.filter(ee.Filter.lte('CLOUDY_PIXEL_PERCENTAGE',70))\n",
    "        .select(['B8', 'B4'])\n",
    "        .sort('system:time_start'))\n",
    "clouds = (ee.ImageCollection('COPERNICUS/S2_CLOUD_PROBABILITY')\n",
    "        .filterBounds(aoi)\n",
    "        #.filter(tot17)\n",
    "        .sort('system:time_start'))\n",
    "s2 = s2.combine(clouds)\n",
    "\n",
    "# acq_times = img.aggregate_array('system:time_start').getInfo()\n",
    "# len([time.strftime('%x', time.gmtime(acq_time/1000)) for acq_time in acq_times])\n",
    "\n",
    "# To get all bands and infos of img collection, use\n",
    "# img.getInfo()"
   ]
  },
  {
   "cell_type": "code",
   "execution_count": 25,
   "id": "6b3b30a7-3326-4aa0-ba39-e83d06183222",
   "metadata": {},
   "outputs": [],
   "source": [
    "# Reprojection of images\n",
    "# This action is equivalent to performing coregistration of the images\n",
    "# to ensure that the coordinates are coherent in the whole collection\n",
    "\n",
    "proj=s2.first().projection();\n",
    "scale_mod=ee.Number(proj.nominalScale()).getInfo()\n",
    "trans_mod=proj.getInfo()['transform'];\n",
    "crs_mod=proj.getInfo()['crs'];\n",
    "\n",
    "s2 = s2.map(lambda image: image.reproject(crs_mod,trans_mod))"
   ]
  },
  {
   "cell_type": "code",
   "execution_count": 26,
   "id": "55acb6ca-a823-4deb-80c6-0c2f6cca7ab7",
   "metadata": {},
   "outputs": [],
   "source": [
    "# Extract data\n",
    "\n",
    "def maskS2clouds(image):\n",
    "    qa = image.select('QA60') # 60 m spat res TO0 BIG!!!\n",
    "    cloudBitMask = 1 << 10\n",
    "    cirrusBitMask = 1 << 11\n",
    "    mask = qa.bitwiseAnd(cloudBitMask).eq(0).And(\n",
    "        qa.bitwiseAnd(cirrusBitMask).eq(0))\n",
    "    return image.updateMask(mask) \\\n",
    "                .select(\"B.*\") \\\n",
    "                .copyProperties(image, [\"system:time_start\"])\n",
    "\n",
    "def maskCloudPerc(image):\n",
    "    global thr\n",
    "    return image.updateMask(image.select('probability').lte(thr))\n",
    "\n",
    "def addNDVI(image:ee.Image):\n",
    "    ndvi = image.normalizedDifference(['B8', 'B4']).rename('NDVI')\n",
    "    return image.addBands(ndvi)\n",
    "\n",
    "def extract_data(image:ee.Image):\n",
    "    \"\"\"Ausiliary function to extract data from an Image\n",
    "    \n",
    "    Optimal implementation is to map this function\n",
    "    on a whole ImageCollection via .map() and insert the\n",
    "    return into a ee.FeatureCollection.\n",
    "    \n",
    "    Return\n",
    "    ------\n",
    "    ee.Feature\n",
    "    \n",
    "    \"\"\"\n",
    "    \n",
    "    ndvi=image.normalizedDifference(['B8', 'B4']).rename('NDVI')\n",
    "    image=image.addBands(ndvi)\n",
    "    \n",
    "    mean = image.reduceRegion(**{ \n",
    "        'reducer': ee.Reducer.mean(),\n",
    "        'geometry': aoi,\n",
    "    })\n",
    "        \n",
    "    properties = {\n",
    "        'Date': image.get('system:time_start'), # only way to get a timestr is an external operation\n",
    "        'Geometry': geometry_title,\n",
    "        'NDVI': mean.get('NDVI'),\n",
    "    }\n",
    "    return ee.Feature(None, properties)"
   ]
  },
  {
   "cell_type": "code",
   "execution_count": 48,
   "id": "ee05290c-9fb2-4f25-9f37-5b62086569d1",
   "metadata": {},
   "outputs": [
    {
     "name": "stdin",
     "output_type": "stream",
     "text": [
      "Please provide threshold for cloud masking [number, int]. Ex. '50' corresponds to filtering out all images that have 50% or more of pixels that are flagged as covered by clouds. 70\n"
     ]
    },
    {
     "name": "stdout",
     "output_type": "stream",
     "text": [
      "\n",
      "Check data extraction: if something is printed below and has reasonable values, everything is ok (note: date is in a Matlab-like numeric, weird format, don't worry.)\n"
     ]
    },
    {
     "data": {
      "text/plain": [
       "{'Date': 1493028680576, 'Geometry': 'budrio-half', 'NDVI': 0.12141544130683239}"
      ]
     },
     "execution_count": 48,
     "metadata": {},
     "output_type": "execute_result"
    }
   ],
   "source": [
    "# Clouds filtering\n",
    "thr = 100-int(input('Please provide threshold for cloud masking [number, int]. Ex. \\'50\\' corresponds to filtering out all images that have 50% or more of pixels that are flagged as covered by clouds.'))\n",
    "s2_filt = s2.map(maskCloudPerc)\n",
    "\n",
    "# Add NDVI and extract data\n",
    "data = ee.FeatureCollection(s2_filt.map(extract_data))\n",
    "data_out = data.getInfo()\n",
    "data_out_to_df = [e.get('properties') for e in data_out.get('features')]\n",
    "print('\\nCheck data extraction: if something is printed below and has reasonable values, everything is ok (note: date is in a Matlab-like numeric, weird format, don\\'t worry.)'); data_out_to_df[0]"
   ]
  },
  {
   "cell_type": "code",
   "execution_count": 49,
   "id": "dac2798e-a8ca-4936-8b35-47c0092a5e35",
   "metadata": {},
   "outputs": [],
   "source": [
    "def clean_date(date:int):\n",
    "    return time.strftime('%x %H', time.localtime((date)/1000))\n",
    "\n",
    "df = pd.DataFrame.from_dict(data_out_to_df)\n",
    "df.Date = df.Date.apply(lambda x : pd.Timestamp(pd.to_datetime(clean_date(x))))\n",
    "df = df.groupby('Date',as_index=False).mean()\n",
    "# df['Data'] = df.Date.apply(lambda x : pd.Timestamp(x.date()))\n",
    "df = df.set_index('Date')"
   ]
  },
  {
   "cell_type": "code",
   "execution_count": 50,
   "id": "1e76d8b1-f99e-4803-a90a-2663106cb870",
   "metadata": {},
   "outputs": [
    {
     "data": {
      "text/plain": [
       "[<matplotlib.lines.Line2D at 0x1b6947e33d0>]"
      ]
     },
     "execution_count": 50,
     "metadata": {},
     "output_type": "execute_result"
    },
    {
     "data": {
      "image/png": "[encoded data removed]",
      "text/plain": [
       "<Figure size 432x288 with 1 Axes>"
      ]
     },
     "metadata": {
      "needs_background": "light"
     },
     "output_type": "display_data"
    }
   ],
   "source": [
    "plt.plot(df.loc['2020'].NDVI, marker='o',linestyle='-')"
   ]
  },
  {
   "cell_type": "code",
   "execution_count": 52,
   "id": "739123e5-8c38-4ad5-8b54-70a434255b25",
   "metadata": {},
   "outputs": [
    {
     "name": "stdin",
     "output_type": "stream",
     "text": [
      "Want to resample at a hourly frequency and interpolate values? [y/n] n\n"
     ]
    },
    {
     "data": {
      "text/html": [
       "<div>\n",
       "<style scoped>\n",
       "    .dataframe tbody tr th:only-of-type {\n",
       "        vertical-align: middle;\n",
       "    }\n",
       "\n",
       "    .dataframe tbody tr th {\n",
       "        vertical-align: top;\n",
       "    }\n",
       "\n",
       "    .dataframe thead th {\n",
       "        text-align: right;\n",
       "    }\n",
       "</style>\n",
       "<table border=\"1\" class=\"dataframe\">\n",
       "  <thead>\n",
       "    <tr style=\"text-align: right;\">\n",
       "      <th></th>\n",
       "      <th>NDVI</th>\n",
       "      <th>Geometry</th>\n",
       "    </tr>\n",
       "    <tr>\n",
       "      <th>Date</th>\n",
       "      <th></th>\n",
       "      <th></th>\n",
       "    </tr>\n",
       "  </thead>\n",
       "  <tbody>\n",
       "    <tr>\n",
       "      <th>2017-04-24 12:00:00</th>\n",
       "      <td>0.128637</td>\n",
       "      <td>budrio-half</td>\n",
       "    </tr>\n",
       "    <tr>\n",
       "      <th>2017-05-04 12:00:00</th>\n",
       "      <td>NaN</td>\n",
       "      <td>budrio-half</td>\n",
       "    </tr>\n",
       "    <tr>\n",
       "      <th>2017-05-14 12:00:00</th>\n",
       "      <td>0.106113</td>\n",
       "      <td>budrio-half</td>\n",
       "    </tr>\n",
       "    <tr>\n",
       "      <th>2017-05-24 12:00:00</th>\n",
       "      <td>NaN</td>\n",
       "      <td>budrio-half</td>\n",
       "    </tr>\n",
       "    <tr>\n",
       "      <th>2017-06-03 12:00:00</th>\n",
       "      <td>0.173408</td>\n",
       "      <td>budrio-half</td>\n",
       "    </tr>\n",
       "    <tr>\n",
       "      <th>...</th>\n",
       "      <td>...</td>\n",
       "      <td>...</td>\n",
       "    </tr>\n",
       "    <tr>\n",
       "      <th>2023-01-28 11:00:00</th>\n",
       "      <td>NaN</td>\n",
       "      <td>budrio-half</td>\n",
       "    </tr>\n",
       "    <tr>\n",
       "      <th>2023-02-02 11:00:00</th>\n",
       "      <td>0.102678</td>\n",
       "      <td>budrio-half</td>\n",
       "    </tr>\n",
       "    <tr>\n",
       "      <th>2023-02-07 11:00:00</th>\n",
       "      <td>0.104731</td>\n",
       "      <td>budrio-half</td>\n",
       "    </tr>\n",
       "    <tr>\n",
       "      <th>2023-02-12 11:00:00</th>\n",
       "      <td>0.091461</td>\n",
       "      <td>budrio-half</td>\n",
       "    </tr>\n",
       "    <tr>\n",
       "      <th>2023-02-17 11:00:00</th>\n",
       "      <td>0.115940</td>\n",
       "      <td>budrio-half</td>\n",
       "    </tr>\n",
       "  </tbody>\n",
       "</table>\n",
       "<p>394 rows × 2 columns</p>\n",
       "</div>"
      ],
      "text/plain": [
       "                         NDVI     Geometry\n",
       "Date                                      \n",
       "2017-04-24 12:00:00  0.128637  budrio-half\n",
       "2017-05-04 12:00:00       NaN  budrio-half\n",
       "2017-05-14 12:00:00  0.106113  budrio-half\n",
       "2017-05-24 12:00:00       NaN  budrio-half\n",
       "2017-06-03 12:00:00  0.173408  budrio-half\n",
       "...                       ...          ...\n",
       "2023-01-28 11:00:00       NaN  budrio-half\n",
       "2023-02-02 11:00:00  0.102678  budrio-half\n",
       "2023-02-07 11:00:00  0.104731  budrio-half\n",
       "2023-02-12 11:00:00  0.091461  budrio-half\n",
       "2023-02-17 11:00:00  0.115940  budrio-half\n",
       "\n",
       "[394 rows x 2 columns]"
      ]
     },
     "execution_count": 52,
     "metadata": {},
     "output_type": "execute_result"
    }
   ],
   "source": [
    "opt_interp = True if input('Want to resample at a hourly frequency and interpolate values? [y/n]')=='y' else False\n",
    "if opt_interp:\n",
    "    df = df.resample('1H').asfreq().interpolate(method='linear').resample('D').mean()\n",
    "df['Geometry'] = geometry_title\n",
    "df"
   ]
  },
  {
   "cell_type": "code",
   "execution_count": 53,
   "id": "d3324346-585d-4290-b82b-3816a632d327",
   "metadata": {},
   "outputs": [
    {
     "data": {
      "text/plain": [
       "Text(0.5, 1.0, 'NDVI timeseries - 2017 to today')"
      ]
     },
     "execution_count": 53,
     "metadata": {},
     "output_type": "execute_result"
    },
    {
     "data": {
      "image/png": "[encoded data removed]",
      "text/plain": [
       "<Figure size 432x288 with 1 Axes>"
      ]
     },
     "metadata": {
      "needs_background": "light"
     },
     "output_type": "display_data"
    }
   ],
   "source": [
    "plt.plot(df.NDVI); plt.title('NDVI timeseries - 2017 to today')"
   ]
  },
  {
   "cell_type": "code",
   "execution_count": 55,
   "id": "430a0e26-6b3c-4ba7-aaf1-767b6bd143a2",
   "metadata": {},
   "outputs": [
    {
     "name": "stdin",
     "output_type": "stream",
     "text": [
      "Wanna save in Data directory? [y/n]  y\n",
      "Please provide name of file, without extension: [default: geometry-name_NDVI] budrio-half_discrete\n"
     ]
    }
   ],
   "source": [
    "save = input(\"Wanna save in Data directory? [y/n] \")\n",
    "if save=='y':\n",
    "    opt_name = input('Please provide name of file, without extension: [default: geometry-name_NDVI]')\n",
    "    if opt_name=='': opt_name=geometry_title+'_NDVI'\n",
    "    df.to_csv(f'..\\\\..\\\\Data\\\\{opt_name}.csv', sep = '\\t')"
   ]
  },
  {
   "cell_type": "raw",
   "id": "610f9cca-f20c-46c9-9502-4881ac48df42",
   "metadata": {},
   "source": [
    "plt.scatter(df.NDVI, df_not_proj.NDVI)\n",
    "plt.plot(np.linspace(0,1,100), np.linspace(0,1,100))\n",
    "\n",
    "def Rvalue(x:list,y:list)->float:\n",
    "    \"\"\"compute Pearson's R between x,y data\"\"\"\n",
    "    if len(x)!=len(y):\n",
    "        raise ValueError(\n",
    "            f'x and y must have same first dimension,'+\n",
    "            'but have shapes{np.shape(x)} and {np.shape(y)}')\n",
    "        \n",
    "    matrix = np.array( \n",
    "        [ [x[i], y[i]] for i in range(len(x))\n",
    "         if not (np.isnan(x[i])and(np.isnan(y[i]))) ] )\n",
    "    return np.corrcoef(matrix,rowvar=False)[0][1]\n",
    "\n",
    "R = Rvalue(df.NDVI, df_not_proj.NDVI)\n",
    "plt.title('NDVI reprojected (x) VS not reproj (y) ')\n",
    "t = plt.text(0.5, 0.1,\n",
    "             r'$R^2$ = '+f'{R**2:.3f}',\n",
    "             ha=\"center\", va=\"center\", size=15,\n",
    "             bbox=dict(boxstyle=\"round,pad=0.3\", fc=\"tab:orange\", ec=\"k\", lw=2, alpha=.5))\n",
    "plt.savefig('scatter_NDVI_reproj-VS-not.png', dpi=200)"
   ]
  }
 ],
 "metadata": {
  "kernelspec": {
   "display_name": "google",
   "language": "python",
   "name": "google"
  },
  "language_info": {
   "codemirror_mode": {
    "name": "ipython",
    "version": 3
   },
   "file_extension": ".py",
   "mimetype": "text/x-python",
   "name": "python",
   "nbconvert_exporter": "python",
   "pygments_lexer": "ipython3",
   "version": "3.8.8"
  }
 },
 "nbformat": 4,
 "nbformat_minor": 5
}
