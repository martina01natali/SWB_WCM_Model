{
 "cells": [
  {
   "cell_type": "markdown",
   "source": [
    "# Playground"
   ],
   "metadata": {
    "collapsed": false
   }
  },
  {
   "cell_type": "code",
   "execution_count": 3,
   "outputs": [],
   "source": [
    "import sys\n",
    "sys.path.append('../')\n",
    "\n",
    "import os\n",
    "from modules.funcs import *\n",
    "from modules.funcs_pso import *\n",
    "from modules.funcs_plot import *\n",
    "from modules.funcs_analysis import *\n",
    "from modules.IRRI_WCM_model import *\n",
    "from modules.Kc_curve import Kc_curve\n",
    "from modules.EPOT_Hargreaves_pyeto import *\n",
    "\n",
    "from scipy.signal import savgol_filter"
   ],
   "metadata": {
    "collapsed": false,
    "ExecuteTime": {
     "end_time": "2023-06-22T15:20:15.134020456Z",
     "start_time": "2023-06-22T15:20:15.093025237Z"
    }
   }
  },
  {
   "cell_type": "code",
   "execution_count": 55,
   "outputs": [],
   "source": [
    "def search_fname(root, pattern):\n",
    "\n",
    "    import os\n",
    "    import fnmatch\n",
    "\n",
    "    file_paths = []\n",
    "    file_list = os.listdir(root)\n",
    "    for filename in file_list:\n",
    "        if fnmatch.fnmatch(filename, pattern):\n",
    "            file_paths.append(os.path.join(root, filename))\n",
    "    if not file_paths: raise FileNotFoundError(\"Matching files not found.\")\n",
    "    else: print(\"Found matching files:\", file_paths )\n",
    "\n",
    "    control=0\n",
    "    chosen_file_path = ''\n",
    "    opt_read = input('Do you want to read params from file? [[y]/n]')\n",
    "    if opt_read=='y' or opt_read=='':\n",
    "        if len(file_paths)==1:\n",
    "            print(f'You have chosen scapolottina: {file_paths}')\n",
    "            chosen_file_path = file_paths[0]\n",
    "        else:\n",
    "            opt_params_year = input('Which year do you want to use for static parameters A,B,D?')\n",
    "            print('Chosen file of year:', opt_params_year)\n",
    "            pattern = '*_'+opt_params_year+'_*'\n",
    "            for filename in file_paths:\n",
    "                if fnmatch.fnmatch(filename, pattern):\n",
    "                    if control: raise FileExistsError('Multiple files found: please check for duplicates.')\n",
    "                    else:\n",
    "                        print(f'You have chosen scapolottina: {filename}')\n",
    "                        chosen_file_path = filename\n",
    "                        control=1\n",
    "\n",
    "    if chosen_file_path=='': raise NotImplementedError\n",
    "\n",
    "    return chosen_file_path\n",
    "\n",
    "\n",
    "def read_json(chosen_file_path):\n",
    "\n",
    "    import json\n",
    "\n",
    "    if os.path.isfile(chosen_file_path):\n",
    "        with open(chosen_file_path, \"r\") as file:\n",
    "            data = json.load(file)\n",
    "    else:\n",
    "        print(\"JSON file not found in the root directory.\")\n",
    "\n",
    "    return data"
   ],
   "metadata": {
    "collapsed": false,
    "ExecuteTime": {
     "end_time": "2023-06-22T16:30:21.627498345Z",
     "start_time": "2023-06-22T16:30:21.619864190Z"
    }
   }
  },
  {
   "cell_type": "code",
   "execution_count": 57,
   "outputs": [
    {
     "name": "stdout",
     "output_type": "stream",
     "text": [
      "Found matching files: ['Plot/sanlorenzo1_2018_230622-172530_params.json']\n",
      "You have chosen scapolottina: ['Plot/sanlorenzo1_2018_230622-172530_params.json']\n"
     ]
    }
   ],
   "source": [
    "PAR_dict_static = read_json(search_fname('Plot/', 'sanlorenzo1_2018*.json'))"
   ],
   "metadata": {
    "collapsed": false,
    "ExecuteTime": {
     "end_time": "2023-06-22T16:43:16.657799486Z",
     "start_time": "2023-06-22T16:43:14.038223308Z"
    }
   }
  },
  {
   "cell_type": "code",
   "execution_count": 67,
   "outputs": [
    {
     "data": {
      "text/plain": "0.125"
     },
     "execution_count": 67,
     "metadata": {},
     "output_type": "execute_result"
    }
   ],
   "source": [
    "PAR_dict_static[[k for k in PAR_dict_static.keys()][0]][3]"
   ],
   "metadata": {
    "collapsed": false,
    "ExecuteTime": {
     "end_time": "2023-06-22T16:57:13.705460140Z",
     "start_time": "2023-06-22T16:57:13.654766763Z"
    }
   }
  }
 ],
 "metadata": {
  "kernelspec": {
   "display_name": "Python 3",
   "language": "python",
   "name": "python3"
  },
  "language_info": {
   "codemirror_mode": {
    "name": "ipython",
    "version": 2
   },
   "file_extension": ".py",
   "mimetype": "text/x-python",
   "name": "python",
   "nbconvert_exporter": "python",
   "pygments_lexer": "ipython2",
   "version": "2.7.6"
  }
 },
 "nbformat": 4,
 "nbformat_minor": 0
}
