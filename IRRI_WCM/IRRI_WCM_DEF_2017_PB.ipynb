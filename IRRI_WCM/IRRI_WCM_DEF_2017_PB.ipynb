{
 "cells": [
  {
   "cell_type": "markdown",
   "id": "4a7faa9f-21ef-41d0-b1d3-dbb0f9d8a740",
   "metadata": {},
   "source": [
    "# IRRmodel\\*WCM calibration with PSO on KGE of $\\sigma^0$\n",
    "\n",
    "The v9 code (OR def) is a final, cleaned and commented version.\n",
    "This version, wrt to v8, implements an hourly ET0 calculated with hourly FAO-56 Penman-Monteith and a SWB model that is properly corrected for hourly calculation of the evapotranspiration.\n",
    "Kc curves are also externally defined in a module of their own."
   ]
  },
  {
   "cell_type": "markdown",
   "id": "37397f16-e345-4364-a9e6-b507cc7a2c07",
   "metadata": {},
   "source": [
    "# Dependencies"
   ]
  },
  {
   "cell_type": "code",
   "execution_count": 141,
   "id": "7bf409eb-8332-4bd8-adc3-c96f31d066e2",
   "metadata": {
    "ExecuteTime": {
     "end_time": "2023-07-05T23:24:55.402271700Z",
     "start_time": "2023-07-05T23:24:55.230502500Z"
    }
   },
   "outputs": [],
   "source": [
    "import sys\n",
    "sys.path.append('../')\n",
    "\n",
    "from modules.funcs import *\n",
    "from modules.funcs_pso import *\n",
    "from modules.funcs_plot import *\n",
    "from modules.funcs_analysis import *\n",
    "from modules.IRRI_WCM_model import *\n",
    "from modules.Kc_curve import Kc_curve\n",
    "from modules.EPOT_Hargreaves_pyeto import *\n",
    "\n",
    "from scipy.signal import savgol_filter"
   ]
  },
  {
   "cell_type": "markdown",
   "id": "fd861a64-4b2a-4710-b0ca-cb58b617f7e3",
   "metadata": {},
   "source": [
    "# Data pre-processing\n",
    "\n",
    "Input data formatting convention:\n",
    "- ausiliary variables for extraction of data (directory name, file name, etc...)\n",
    "- extraction into pd dataframe\n",
    "- cleaning, resampling: drop unnecessary columns, set index to daily DateIndex"
   ]
  },
  {
   "cell_type": "code",
   "execution_count": 142,
   "id": "19519f88-0d00-408d-8302-d53d47b0fde6",
   "metadata": {
    "ExecuteTime": {
     "end_time": "2023-07-05T23:25:22.067314800Z",
     "start_time": "2023-07-05T23:24:55.246054800Z"
    }
   },
   "outputs": [
    {
     "name": "stdout",
     "output_type": "stream",
     "text": [
      "Starting...\n",
      "#-------------------------------------------------------------\n",
      "\n",
      "\n",
      "#-------------SWB model parameters-------------\n",
      "\n",
      "#-------------WCM model parameters-------------\n",
      "\n",
      "#------------Optimization parameters-----------\n"
     ]
    }
   ],
   "source": [
    "print('Starting...\\n'\n",
    "      +'#-------------------------------------------------------------\\n'\n",
    "      #+'Use of satellite-derived SM is provided for comparison, not calibration.\\n'\n",
    "     )\n",
    "verbose = True if input(\"Verbose data extraction? (Describe datasets/files) [y/n]\")=='y' else False\n",
    "\n",
    "params = []; norma = ''\n",
    "\n",
    "print('\\n#-------------SWB model parameters-------------')\n",
    "irri = False\n",
    "year = 2017 # int(input('Do you want to calibrate on year 2017 or 2020? [2017/2020]'))\n",
    "freq = 'h' # input('Daily or hourly frequency? [d/h]')\n",
    "\n",
    "print('\\n#-------------WCM model parameters-------------')\n",
    "units = 'lin' # input('Calibrate WCM in linear or dB scale (determines scale of A)? [lin/db]')\n",
    "opt_veg = 'NDVI'\n",
    "\n",
    "print('\\n#------------Optimization parameters-----------')\n",
    "opt_calib = '1' # input('Cost function (KGE) on sigma0 (1) or sigma0 and soil moisture (2)? [1/2]')\n",
    "opt_cost = 'KGE'\n",
    "\n",
    "PAR_str_add = '_' + str(year) + input('Any addition to parameters\\' names? [Type string to add]')\n",
    "nrun = int(input('Number of runs? (10 is min to study distribution of parameters.) '))\n",
    "n_particles = int(input('Number of particles: '))\n",
    "n_step = int(input('Number of optimization steps: '))\n",
    "optim = input('Global or Local PSO optimizer? [[global]/local] ')\n",
    "if optim=='local': norma = 1 if input('Which norm? [l1/l2] ')=='l1' else 2\n",
    "verbose_calib = True if input('Verbose during calibration? [y/n]')=='y' else False\n",
    "automate = True if input('Run and save everything automatically? [y/n]')=='y' else False\n",
    "\n",
    "# check if params are already present\n",
    "# if len(params)>0: opt_params = input('Params already present: overwrite [y] or append [n]? [y/n]')\n",
    "# if opt_params=='y': params = []"
   ]
  },
  {
   "cell_type": "markdown",
   "id": "0bc1cd88-2598-46a2-a392-3fe544e505f5",
   "metadata": {},
   "source": [
    "## IRRmodel\n",
    "\n",
    "Frequency: daily\n",
    "\n",
    "Inputs:\n",
    "- rain (sum, end of day)\n",
    "- et0 (daily)\n",
    "\n",
    "Comparisons:\n",
    "- irrigation (sum, end of day)\n",
    "- soil moisture (mean, end of day)"
   ]
  },
  {
   "cell_type": "raw",
   "id": "7518f591-b3c8-446e-8bf8-be3523089f67",
   "metadata": {},
   "source": [
    "#----------------------------------------------------------------------------\n",
    "# Field data from TEST_SITE\n",
    "# Daily data from 2015 to 2017, various gaps\n",
    "\n",
    "# Data extracted:\n",
    "# - rain (as input SWB)\n",
    "# - EPOT = potential evapotranspiration (as input SWB)\n",
    "\n",
    "namesite = 'ITALY_BUDRIO'\n",
    "siteID = '5'\n",
    "namefig = namesite+'_'+siteID\n",
    "\n",
    "site_df = xr.open_dataset(f'..\\Inputs\\TEST_SITE\\TEST_SITE_{namesite}.nc',\n",
    "                         engine='netcdf4').to_dataframe();\n",
    "site_df = site_df.rename(columns={'Time_days':'Date'})\n",
    "site_df = site_df.set_index('Date')\n",
    "site_df = site_df.loc[:,[col for col in site_df.columns if col.endswith(siteID)]]\n",
    "if verbose: site_df.info()"
   ]
  },
  {
   "cell_type": "code",
   "execution_count": 143,
   "id": "ed47b051-8a92-44ef-ab92-a67b1ba5c5ed",
   "metadata": {
    "ExecuteTime": {
     "end_time": "2023-07-05T23:25:23.319055500Z",
     "start_time": "2023-07-05T23:25:22.035974300Z"
    }
   },
   "outputs": [],
   "source": [
    "#----------------------------------------------------------------------------\n",
    "# Budrio field data from platinum_df tables\n",
    "\n",
    "# Freq: H\n",
    "# Data extracted:\n",
    "# - SWC (as input SWB/comparison)\n",
    "# - rain (as input SWB)\n",
    "# - irrigation (as input SWB)\n",
    "# - temperature (as input SWB, ET0 estimate)\n",
    "\n",
    "platinum_df = pd.ExcelFile('..\\Inputs\\Platinum_Budrio.xlsx', engine='openpyxl')\n",
    "if year==2017: sheet='2017_1h'\n",
    "if year==2020: sheet='2020_1h'\n",
    "platinum_df = platinum_df.parse(sheet)\n",
    "# platinum_df = pd.concat([platinum_df.parse('2017_1h'), platinum_df.parse('2020_1h')])\n",
    "\n",
    "# Column 'Date' contains date+hour = hourly information\n",
    "# Column 'Data' contains only date = daily information\n",
    "platinum_df['Ora_1'] = pd.to_datetime(platinum_df['Ora'].astype('str')).apply(lambda x: x.time())\n",
    "platinum_df['Data_1'] = pd.to_datetime(platinum_df['Data'].astype('str')).apply(lambda x: x.date())\n",
    "platinum_df['Datetime'] = platinum_df.apply(lambda r : dtt.datetime.combine(r['Data_1'],r['Ora_1']),1)\n",
    "platinum_df = platinum_df.drop(['ID', 'Data', 'Ora', 'Data_1', 'Ora_1', '214Pb[cps]'],axis=1)\n",
    "platinum_df = platinum_df.set_index('Datetime')\n",
    "platinum_resampled = platinum_df.resample('D', origin='end_day')\n",
    "if verbose: platinum_df.info()"
   ]
  },
  {
   "cell_type": "code",
   "execution_count": 144,
   "id": "e20e1572-9b5e-4cbd-883f-f4fe65315a57",
   "metadata": {
    "ExecuteTime": {
     "end_time": "2023-07-05T23:25:24.095358Z",
     "start_time": "2023-07-05T23:25:23.319055500Z"
    }
   },
   "outputs": [],
   "source": [
    "#----------------------------------------------------------------------------\n",
    "# Budrio field data from meteo tables\n",
    "\n",
    "# Freq: H\n",
    "# Data extracted:\n",
    "# none\n",
    "# Needed for eto from FAO PM \n",
    "\n",
    "meteo_df = pd.ExcelFile('..\\Inputs\\Budrio_Meteo.xlsx', engine='openpyxl')\n",
    "meteo_df = meteo_df.parse(str(year))\n",
    "# meteo_df = pd.concat([meteo_df.parse('2017'), meteo_df.parse('2020')]).set_index('ID')\n",
    "\n",
    "# Column 'Date' contains date+hour = hourly information\n",
    "meteo_df['Datetime'] = meteo_df.apply(lambda r : dtt.datetime.combine(r['Data'],r['Ora']),1)\n",
    "meteo_df = meteo_df.set_index('Datetime')\n",
    "meteo_df = meteo_df.drop(['Data', 'Ora'],axis=1)\n",
    "\n",
    "if verbose: meteo_df.info()\n",
    "# meteo_df.head()"
   ]
  },
  {
   "cell_type": "code",
   "execution_count": 145,
   "id": "0a2234cc-2a1a-4990-a649-a2c45f644980",
   "metadata": {
    "ExecuteTime": {
     "end_time": "2023-07-05T23:25:24.110980500Z",
     "start_time": "2023-07-05T23:25:24.095358Z"
    }
   },
   "outputs": [],
   "source": [
    "# Budrio database\n",
    "# Freq: H\n",
    "# Merging of Platinum+Meteo\n",
    "\n",
    "meteo_h = pd.merge(right=platinum_df, left=meteo_df, on='Datetime')\n",
    "if verbose: meteo_h.info()"
   ]
  },
  {
   "cell_type": "code",
   "execution_count": 146,
   "id": "3c35f562-74d4-4a25-9549-e5192f44a9e3",
   "metadata": {
    "ExecuteTime": {
     "end_time": "2023-07-05T23:25:24.142199Z",
     "start_time": "2023-07-05T23:25:24.110980500Z"
    }
   },
   "outputs": [],
   "source": [
    "lat_deg = 44.570842547510622 # latitude of Budrio (deg)\n",
    "temp_min = platinum_resampled.min()['Temperatura[°C]'].values\n",
    "temp_max = platinum_resampled.max()['Temperatura[°C]'].values\n",
    "temp_mean = platinum_resampled.mean()['Temperatura[°C]'].values\n",
    "dates = platinum_resampled.asfreq().index\n",
    "eto = timeseries( dates,\n",
    "                 [ hargre(lat_deg, dates[i] , temp_min[i], temp_max[i], temp_mean[i])\n",
    "                  for i in range(len(dates)) ] )\n",
    "eto_df = pd.DataFrame(eto).rename(columns={0:'Date',1:'EPOT'}).set_index('Date')\n",
    "if verbose: eto_df.info()"
   ]
  },
  {
   "cell_type": "code",
   "execution_count": 147,
   "id": "5415fb4c-435d-46ec-a4c0-a827b64db919",
   "metadata": {
    "ExecuteTime": {
     "end_time": "2023-07-05T23:25:24.345323400Z",
     "start_time": "2023-07-05T23:25:24.142199Z"
    }
   },
   "outputs": [],
   "source": [
    "# Computation of hourly eto by hourly FAO Penman-Monteith equation\n",
    "# FAO-56 pag. 74\n",
    "\n",
    "t = [x for x in meteo_h.index if x.year==year]\n",
    "\n",
    "# Inputs\n",
    "# ------\n",
    "RH = meteo_h.loc[t]['Umidità aria Netsens [%] '].values if year==2017 else meteo_h.loc[t]['Umidità aria [%] '].values # mean hourly relative humidity [%]\n",
    "T = meteo_h.loc[t]['Temperatura[°C]'].values # mean hourly air temperature [°C]\n",
    "sol_rad = meteo_h.loc[t]['Radiazione solare [W/m2]  '].values # measured solar radiation [J m^-2 s^-1]\n",
    "sol_rad_hour = sol_rad*3600*1e-6 # [MJ m^-2 h^-1]\n",
    "T_dew = meteo_h.loc[t]['Punto di rugiada [C°] '].values # dew point [°C]\n",
    "atmos_pres = meteo_h.loc[t]['Pressione atmosferica [hPa]  '].values/10 # atmospheric pressure [kPa]\n",
    "wind_s = meteo_h.loc[t]['Velocità del vento [m/s]'].values\n",
    "epot_hourly = [0.]*len(t)\n",
    "\n",
    "# Params\n",
    "# ------\n",
    "for i in range(len(t)):\n",
    "    \n",
    "    lat_deg = 44.570842547510622 # latitude of Budrio (deg)\n",
    "    lat_rad = np.deg2rad(lat_deg)\n",
    "    long_deg = 11.53267200001359 # longitude of Budrio (deg)\n",
    "    long_rad = np.deg2rad(long_deg)\n",
    "    altitude = 11. # elevation [m]\n",
    "    doy = t[i].dayofyear\n",
    "    hour = t[i].hour\n",
    "    mid_hour = hour+0.5\n",
    "    \n",
    "    # Extraterrestrial radiation (et_rad)\n",
    "    Gsc = 0.0820 # MJ m^-2 min^-1\n",
    "    dr = inv_rel_dist_earth_sun(doy) # inverse relative distance Earth-Sun\n",
    "    d = sol_dec(doy) # solar declination [rad]\n",
    "    phi = lat_rad # latitude [rad]\n",
    "    lz = 360-15 # longitude of centre of local time zone (CET) (deg W of Greenwhich)\n",
    "    lm = 360-long_deg # longitude of site (deg W of Greenwhich)\n",
    "    b = 2*np.pi*(doy-81)/364\n",
    "    Sc = 0.1645*np.sin(2*b)-0.1255*np.cos(b)-0.025*np.sin(b) # seasonal correction for solar time\n",
    "    w = np.pi/12*((mid_hour+0.006667*(lz-lm)+Sc)-12) # solar time angle at midpoint of the period\n",
    "    w1 = w-np.pi/24 # solar time angle at beginning [rad]\n",
    "    w2 = w+np.pi/24 # solar time angle at end [rad]\n",
    "\n",
    "    \n",
    "    et_rad = 12*60/np.pi*Gsc*dr*((w2-w1)*np.sin(phi)*np.sin(d)+np.cos(phi)*np.cos(d)*(np.sin(w2)-np.sin(w1)))\n",
    "    \n",
    "    ws = np.arccos(-np.tan(lat_rad)*np.tan(d))\n",
    "    N = 24/np.pi*ws # daylight hours\n",
    "    Rs = sol_rad_hour[i] # measured solar radiation [MJ m^-2 h^-1]\n",
    "    Rso = cs_rad(altitude, et_rad) # clear sky radiation [MJ m^-2 h^-1]\n",
    "                                 \n",
    "    avp = avp_from_tdew(T_dew[i]) # actual vapour pressure\n",
    "    ni_rad = net_in_sol_rad(Rs) # net incoming solar radiation # use this formula, albedo is default value\n",
    "                                 \n",
    "    boltz_h = 2.043*1e-10 # Boltzmann constant [MJ m^-2 h^-1]\n",
    "    e_thr = svp_from_t(T[i]) # saturation vapour pressure\n",
    "    e_a = e_thr*RH[i]/100# average hourly actual vapour pressure\n",
    "    Rs_ratio = Rs/Rso if Rs/Rso<1 else 1\n",
    "    no_rad = boltz_h*T[i]**4*(0.34-0.14*np.sqrt(e_a))*(1.35*Rs_ratio-0.35) # net outgoing radiation corrected for hourly period\n",
    "    R_n = ni_rad - no_rad # net radiation at grass surface\n",
    "    \n",
    "    u2 = wind_s[i]\n",
    "    G = 0.1*R_n if hour in range(6,18,1) else 0.5*R_n # soil heat flux density, ref. eq. 45, 46 FAO56\n",
    "    Delta = delta_svp(T[i]) #saturation slope\n",
    "    gamma = psy_const(atmos_pres[i])# psychrometric constant\n",
    "    \n",
    "    epot_hourly[i] = (0.408*Delta*(R_n-G)+gamma*37/(T[i]+273)*u2*(e_thr-e_a))/(Delta+gamma*(1+0.34*u2))"
   ]
  },
  {
   "cell_type": "raw",
   "source": [
    "plt.plot(epot_hourly[:24*7])\n",
    "plt.show()"
   ],
   "metadata": {
    "collapsed": false
   },
   "id": "bba8673c1d6d5025"
  },
  {
   "cell_type": "raw",
   "id": "7ea7f68b-e9b2-44f2-89cb-a63e3be4301e",
   "metadata": {},
   "source": [
    "# Check consistency with daily values calculated\n",
    "# Daily values from Hargreaves formula, depends on temperature min, max\n",
    "# Hourly values from hourly Penman-Monteith, resampled daily and summed\n",
    "\n",
    "opt_save=True\n",
    "\n",
    "epot_h2d = pd.DataFrame(timeseries(t, epot_hourly)).set_index([0]).resample('D').sum()[1].values\n",
    "plot_sim_vs_obs(sim=eto_df['EPOT'].values[:-1], obs=epot_h2d, quantity='ET0', um='[mm/h]')\n",
    "plt.xlabel('ET0_daily_Hargre [mm/h]')\n",
    "plt.ylabel('ET0_hourly2daily_PM [mm/h]')\n",
    "filename = f'scatter_'+'epot_'+units+PAR_str_add\n",
    "\n",
    "if opt_save: plt.savefig('Plot\\\\'+timestr+'_'+filename+'.png')"
   ]
  },
  {
   "cell_type": "markdown",
   "id": "bf9352b7-f450-434b-b9e6-4abbf26a4529",
   "metadata": {},
   "source": [
    "## WCM\n",
    "\n",
    "Frequency: multi-daily\n",
    "\n",
    "Inputs:\n",
    "- $\\sigma^0$, $\\theta$ (hourly, rounded to nearest midnight)\n",
    "- vegetation descriptors (NDVI, LAI, CR) (average, daily)"
   ]
  },
  {
   "cell_type": "code",
   "execution_count": 148,
   "id": "b89b83e5-b2e3-4471-8992-670220106367",
   "metadata": {
    "ExecuteTime": {
     "end_time": "2023-07-05T23:25:24.564318300Z",
     "start_time": "2023-07-05T23:25:24.345323400Z"
    }
   },
   "outputs": [],
   "source": [
    "#----------------------------------------------------------------------------\n",
    "# Sigma0 values\n",
    "\n",
    "# Freq: D\n",
    "# Daily values of backscattering from 2014 to 2022 (complete S1 series)\n",
    "# Data extracted:\n",
    "# - sigma0 values, VV and VH\n",
    "# - angle of incidence of reference orbit (nearest to 40°)\n",
    "\n",
    "sigma_df = pd.read_csv('..\\Data\\\\budrio-half.csv', delimiter='\\t');\n",
    "sigma_df['Datetime'] = sigma_df.Date.apply(lambda x : pd.to_datetime(x))\n",
    "angle_mean_95 = sigma_df.loc[sigma_df.Orb==95]['Angle[°]'].mean()\n",
    "sigma_df['Angle[°]'] = sigma_df['Angle[°]'].apply(lambda x : angle_mean_95)\n",
    "sigma_df.Date = sigma_df.Date.apply(lambda x : pd.to_datetime(x).round(freq='D'))\n",
    "sigma_df = sigma_df.set_index('Date')\n",
    "if verbose: sigma_df.info()"
   ]
  },
  {
   "cell_type": "code",
   "execution_count": 149,
   "id": "50f74907-9947-4070-9e27-5fdca01d4943",
   "metadata": {
    "ExecuteTime": {
     "end_time": "2023-07-05T23:25:24.610947700Z",
     "start_time": "2023-07-05T23:25:24.564318300Z"
    }
   },
   "outputs": [],
   "source": [
    "#----------------------------------------------------------------------------\n",
    "# NDVI values\n",
    "\n",
    "# Freq: D\n",
    "# Daily values of NDVI from 2017-4-24 to 2023-1-13 (complete S2 series)\n",
    "# Data extracted:\n",
    "# - NDVI (daily, interpolated)\n",
    "\n",
    "ndvi_df = pd.read_csv('..\\Data\\\\budrio-half_NDVI_discrete.csv', delimiter='\\t');\n",
    "ndvi_df.Date = ndvi_df.Date.apply(lambda x : pd.to_datetime(x))\n",
    "ndvi_df = ndvi_df.set_index('Date')\n",
    "ndvi_df = ndvi_df.resample('H').asfreq().interpolate(method='linear')\n",
    "if verbose: ndvi_df.info()"
   ]
  },
  {
   "cell_type": "markdown",
   "id": "1ade4329-842f-40d5-b0e2-15d9fa8b2dcc",
   "metadata": {},
   "source": [
    "# Input data"
   ]
  },
  {
   "cell_type": "code",
   "execution_count": 150,
   "id": "144d6672-4670-4eed-9681-36416f5e7a0c",
   "metadata": {
    "ExecuteTime": {
     "end_time": "2023-07-05T23:25:24.642300900Z",
     "start_time": "2023-07-05T23:25:24.610947700Z"
    }
   },
   "outputs": [],
   "source": [
    "# Input SWB\n",
    "# Frequency: daily\n",
    "# Data:\n",
    "# - rain (sum, end of day) from platinum_resampled\n",
    "# - eto (daily) from eto_df\n",
    "\n",
    "if freq=='d':\n",
    "    input_swb = pd.merge(right=eto_df, left=platinum_resampled.sum(),\n",
    "                     right_on='Date', left_on='Datetime', right_index=True)\\\n",
    "                    .drop(['SWC[m3/m3]','Temperatura[°C]'], axis=1)\n",
    "    input_swb['SWC[m3/m3]'] = platinum_resampled.mean()['SWC[m3/m3]']\n",
    "    if verbose: input_swb.info()\n",
    "\n",
    "# Input SWB\n",
    "# Frequency: hourly\n",
    "# Data:\n",
    "# - rain (hourly) from platinum_df, linear interpolation\n",
    "# - irrigation (hourly) from platinum_df\n",
    "# - eto (daily) from eto_df, up-resampled hourly with linear interpolation\n",
    "\n",
    "elif freq=='h':\n",
    "    # eto_df_h = eto_df.resample('H').asfreq().interpolate(method='linear')\n",
    "    eto_df_h = pd.DataFrame(timeseries(t, epot_hourly)).rename(columns={0:'Datetime', 1:'EPOT'})\n",
    "    eto_df_h.set_index('Datetime')\n",
    "    input_swb = pd.merge(right=eto_df_h, left=platinum_df,\n",
    "                         on='Datetime',)\\\n",
    "                        .drop(['Temperatura[°C]'], axis=1)\n",
    "    input_swb.set_index('Datetime', inplace=True)\n",
    "    input_swb['Pioggia[mm]'].interpolate(method='linear',inplace=True)\n",
    "    input_swb['EPOT'].interpolate(method='linear',inplace=True)\n",
    "    if verbose: input_swb.info()"
   ]
  },
  {
   "cell_type": "code",
   "execution_count": 151,
   "id": "38205ba7-4619-4c07-9efe-31119b64ed3f",
   "metadata": {
    "ExecuteTime": {
     "end_time": "2023-07-05T23:25:24.673449500Z",
     "start_time": "2023-07-05T23:25:24.642300900Z"
    }
   },
   "outputs": [
    {
     "name": "stdout",
     "output_type": "stream",
     "text": [
      "<class 'pandas.core.frame.DataFrame'>\n",
      "DatetimeIndex: 1150 entries, 2014-10-12 to 2022-11-28\n",
      "Data columns (total 10 columns):\n",
      " #   Column       Non-Null Count  Dtype         \n",
      "---  ------       --------------  -----         \n",
      " 0   NDVI         916 non-null    float64       \n",
      " 1   Geometry_x   0 non-null      object        \n",
      " 2   Angle[°]     1150 non-null   float64       \n",
      " 3   Geometry_y   1150 non-null   object        \n",
      " 4   Orb          1150 non-null   int64         \n",
      " 5   Pass         1150 non-null   object        \n",
      " 6   VV_norm[dB]  1150 non-null   float64       \n",
      " 7   VH_norm[dB]  1150 non-null   float64       \n",
      " 8   CR           1150 non-null   float64       \n",
      " 9   Datetime     1150 non-null   datetime64[ns]\n",
      "dtypes: datetime64[ns](1), float64(5), int64(1), object(3)\n",
      "memory usage: 98.8+ KB\n"
     ]
    }
   ],
   "source": [
    "# Input WCM\n",
    "# Frequency: daily\n",
    "# Data:\n",
    "# - sigma0 (multi-daily, rounded at nearest midnight)\n",
    "# - NDVI (daily, interpolated)\n",
    "# Merging is performed without any time offset, considering that the change\n",
    "# in ndvi values anywhere is very small from one day to another \n",
    "\n",
    "input_wcm_sat = pd.merge(right=sigma_df, left=ndvi_df, on='Date', how='right')\n",
    "input_wcm_sat.info()"
   ]
  },
  {
   "cell_type": "code",
   "execution_count": 152,
   "id": "7ea50251-5a3b-4533-b967-a724337304ca",
   "metadata": {
    "ExecuteTime": {
     "end_time": "2023-07-05T23:25:24.689073800Z",
     "start_time": "2023-07-05T23:25:24.673449500Z"
    }
   },
   "outputs": [
    {
     "name": "stdout",
     "output_type": "stream",
     "text": [
      "\n",
      "NDVI values are limited below at the 24 of april 2017, so they arebackward propagated for 30 days in order to cover the whole Budrio period. There is a gap in SWC values: this gap is not interpolated but is used toeliminate those days with nan SM values from the days of passage of thesatellite.\n"
     ]
    }
   ],
   "source": [
    "input_wcm = pd.merge(right=input_wcm_sat, left=platinum_df, on='Datetime',\n",
    "                     how='inner')\\\n",
    "            .drop(['Pioggia[mm]','Irrigazione[mm]','Temperatura[°C]',\n",
    "                   'Geometry_x'], axis=1)\\\n",
    "            .rename(columns={'SWC[m3/m3]':'SWC_h', 'Geometry_y':'Geometry',\n",
    "                             'VV_norm[dB]':'VV', 'VH_norm[dB]':'VH', 'Angle[°]':'Angle'})\n",
    "\n",
    "#----------------------------------------------------------------------------\n",
    "# Convenience method for printing labels of columns that are interpolated\n",
    "# only on the basis of their length being less than the length of the df,\n",
    "# and not taking into consideration if they are being interpolated or extr\n",
    "\n",
    "# print('The following columns will be interpolated: '\n",
    "#       +f'{[x for x in input_wcm if len(input_wcm[x].dropna())<len(input_wcm)]}\\n')\n",
    "# if input('Proceed? [y/n]')!='y':\n",
    "#      raise NameError('Stop and stare! I think I\\'m going but I don\\'t know where!')\n",
    "#----------------------------------------------------------------------------\n",
    "\n",
    "print(\n",
    "    '\\nNDVI values are limited below at the 24 of april 2017, so they are'+\n",
    "    'backward propagated for 30 days in order to cover the whole Budrio period.'+\n",
    "    ' There is a gap in SWC values: this gap is not interpolated but is used to'+\n",
    "    'eliminate those days with nan SM values from the days of passage of the'+\n",
    "    'satellite.\\n'\n",
    ")\n",
    "input_wcm.NDVI.interpolate(method='bfill',\n",
    "                           limit_direction='backward',\n",
    "                           limit=30,\n",
    "                           # limit_area='inside', # THIS WORKS VERY BADLY IN EVERY WAY\n",
    "                           inplace=True)\n",
    "if freq=='d': input_wcm.index = input_wcm.Datetime.round('D')\n",
    "elif freq=='h': input_wcm.index = input_wcm.Datetime\n",
    "input_wcm.dropna(inplace=True)\n",
    "if verbose: input_wcm.info()"
   ]
  },
  {
   "cell_type": "code",
   "execution_count": 153,
   "id": "58058cda-e450-495f-8e0c-b9c4508ed18a",
   "metadata": {
    "ExecuteTime": {
     "end_time": "2023-07-05T23:25:24.735979Z",
     "start_time": "2023-07-05T23:25:24.689073800Z"
    }
   },
   "outputs": [],
   "source": [
    "# List of 2017 and 2020 dates\n",
    "\n",
    "# Complete hours in 2017, 2020\n",
    "t = [x for x in input_swb.index if x.year==year]\n",
    "     \n",
    "# Hours of passage of satellite, intersect with complete days\n",
    "set1 = {x for x in input_swb.index}; set2 = {x for x in input_wcm.index};\n",
    "intersect = np.sort(np.array([*set1.intersection(set2)]))\n",
    "t_sat = [x for x in intersect if x.year==year]"
   ]
  },
  {
   "cell_type": "code",
   "execution_count": 154,
   "id": "b028ba1c-177b-43b6-a059-25a497534657",
   "metadata": {
    "ExecuteTime": {
     "end_time": "2023-07-05T23:25:24.782897300Z",
     "start_time": "2023-07-05T23:25:24.704698700Z"
    }
   },
   "outputs": [],
   "source": [
    "P       = input_swb.loc[t]['Pioggia[mm]'].values # [mm]\n",
    "IRR_obs = input_swb.loc[t]['Irrigazione[mm]'].values # [mm]\n",
    "EPOT    = input_swb.loc[t]['EPOT'].values # [mm/day]\n",
    "WW_obs  = input_swb.loc[t]['SWC[m3/m3]'].values # daily mean or hourly, with gaps\n",
    "WW_sat  = input_wcm.loc[t_sat]['SWC_h'].values # punctual at hour (observed) [m3/m3]\n",
    "veg     = input_wcm.loc[t_sat]['NDVI'].values # [-]\n",
    "angle   = input_wcm.loc[t_sat]['Angle'].values # [°]\n",
    "VV      = input_wcm.loc[t_sat]['VV'].values # [dB]\n",
    "VH      = input_wcm.loc[t_sat]['VH'].values # [dB]\n",
    "CR      = input_wcm.loc[t_sat]['CR'].values # [-]\n",
    "Kc_array= Kc_curve(year, t)"
   ]
  },
  {
   "cell_type": "raw",
   "source": [
    "for x in [P,IRR_obs]: plt.plot(t, norm_simple(x));\n",
    "plt.plot(t, Kc_array)\n",
    "plt.plot(t, savgol_filter(EPOT, window_length=24, polyorder=1, mode='interp'))\n",
    "plt.show()\n",
    "for x in [norm_simple(VV),norm_simple(VH),CR,veg,WW_sat]: plt.plot(t_sat,x)\n",
    "plt.show()"
   ],
   "metadata": {
    "collapsed": false
   },
   "id": "40973e45674064ea"
  },
  {
   "cell_type": "markdown",
   "id": "dc2ae21d-96b2-4548-ad27-e2b7871d86da",
   "metadata": {
    "tags": []
   },
   "source": [
    "# Calibration SWB+WCM"
   ]
  },
  {
   "cell_type": "code",
   "execution_count": 155,
   "outputs": [],
   "source": [
    "def IRR_WCM(PAR, inputs, user_in):\n",
    "    \"\"\"Irrigation model and WCM integration.\n",
    "\n",
    "    Based on minimization of KGE between observed and simulated\n",
    "    $\\sigma^0$ values via PSO (pyswarm) optimization.\n",
    "    The soil water balance model (IRR) produces an estimate of the soil water\n",
    "    content WW [%] that is used to simulate $\\sigma^0$ by a water cloud\n",
    "    model (WCM).\n",
    "\n",
    "    Inputs\n",
    "    ----------\n",
    "    - PAR: initial guess values for parameters to calibrate\n",
    "        PAR = [A, B, C, D, W_0, W_max, S_fc, S_w, rho_st, Kc]\n",
    "    - inputs: input quantities for calibration,\n",
    "        [d, d_sat, P, IRR_obs, EPOT, WWobs, LAI, t_deg, obs]\n",
    "    - user_in: user-defined options\n",
    "        irri = user_in: if user_in=True, irrigation is estimated\n",
    "        and not taken as an input, else the input observed irrigation\n",
    "        is used in the soil water balance\n",
    "\n",
    "    Return\n",
    "    -------\n",
    "    KGE from hydroeval between sigma0 observed and simulated.\n",
    "\n",
    "    \"\"\"\n",
    "\n",
    "    # User input\n",
    "    irri, units = user_in\n",
    "\n",
    "    # Unpack inputs\n",
    "    A, B, C, D, WW_fc, WW_w, Kc0 = PAR\n",
    "    t, t_sat, P, IRR_obs, EPOT, Kc, WW_obs, WW_sat, veg, angle, sig0_obs, freq, rho_st = inputs\n",
    "\n",
    "    angle_m = np.mean(angle)\n",
    "    Ks      = 0. # water stress coefficient\n",
    "    rho     = 0. # depletion fraction\n",
    "    WW      = np.array([.2]*len(t), dtype=float) # water content [m3/m3]\n",
    "    WW[0]   = WW_obs[0] # initial value of sm [m3/m3]\n",
    "    depth   = 30 # dynamic depth [mm]\n",
    "\n",
    "    COST   = .0   # additional cost to KGE\n",
    "    LAMBDA = 1000 # Lagrange multiplier\n",
    "\n",
    "    for i in [i+1 for i in range(len(t)-1)]:\n",
    "\n",
    "        # Compute DoI of W[i-1]\n",
    "        depth = doi(freq=freq,\n",
    "                    sand=45, clay=15,\n",
    "                    water=WW[i-1],\n",
    "                    angle=angle_m)\\\n",
    "                    *1000\\\n",
    "                    # *W_max\\\n",
    "            # *1000 is to account for going from [m] to [mm]\n",
    "\n",
    "        # Build Ks curve\n",
    "        # Compute crop coeff and depletion fraction\n",
    "        rho=rho_st+0.04*(5-Kc[i]*Kc0*EPOT[i]*24)\n",
    "        if   rho<0.1: COST += (rho-0.1)**2 # regularization\n",
    "        elif rho>0.8: COST += (rho-0.8)**2 # regularization\n",
    "\n",
    "        if WW[i-1]>=(1-rho)*WW_fc:\n",
    "            Ks=1.\n",
    "        elif (WW[i-1]>WW_w)and(WW[i-1]<(1-rho)*WW_fc):\n",
    "            Ks=((WW[i-1]-WW_w)/((1-rho)*(WW_fc-WW_w)))\n",
    "        else: Ks=0.\n",
    "\n",
    "        # Water balance [mm]\n",
    "        WW[i]=WW[i-1]+(P[i]+IRR_obs[i]-EPOT[i]*Kc[i]*Kc0*Ks)/(depth)\n",
    "\n",
    "        # Computation of deep percolation (water above field capacity)\n",
    "        if WW[i]>WW_fc: WW[i]=WW_fc\n",
    "\n",
    "    WWsat = np.array([ x[1] for x in timeseries(t,WW) if x[0] in t_sat ])\n",
    "\n",
    "    # Water Cloud Model\n",
    "    sig0,KGE = WCM([A,B,C,D], [WWsat,veg,angle,sig0_obs])\n",
    "\n",
    "    KGE += -LAMBDA*COST\n",
    "\n",
    "    return [WW,IRR_obs,sig0,KGE]"
   ],
   "metadata": {
    "collapsed": false,
    "ExecuteTime": {
     "end_time": "2023-07-05T23:25:24.782897300Z",
     "start_time": "2023-07-05T23:25:24.767199700Z"
    }
   },
   "id": "c19901f339cac3d"
  },
  {
   "cell_type": "code",
   "execution_count": 156,
   "outputs": [],
   "source": [
    "def pso_calib_irri(PAR):\n",
    "    \"\"\"Ausiliary function for PSO optimization\"\"\"\n",
    "    global inputs\n",
    "    global user_in\n",
    "    n_particles = PAR.shape[0]\n",
    "    err = np.zeros(n_particles)\n",
    "    for i in range(n_particles):\n",
    "        WW,IRR,sig0,KGE = IRR_WCM(PAR[i], inputs, user_in)\n",
    "        err[i] = 1 - KGE\n",
    "    return err"
   ],
   "metadata": {
    "collapsed": false,
    "ExecuteTime": {
     "end_time": "2023-07-05T23:25:24.798480200Z",
     "start_time": "2023-07-05T23:25:24.782897300Z"
    }
   },
   "id": "fe46cabaac1e4e34"
  },
  {
   "cell_type": "code",
   "execution_count": 157,
   "id": "ab606520-9cbd-4f37-8c8a-4083abc4d509",
   "metadata": {
    "ExecuteTime": {
     "end_time": "2023-07-05T23:25:24.845328800Z",
     "start_time": "2023-07-05T23:25:24.798480200Z"
    }
   },
   "outputs": [
    {
     "name": "stdout",
     "output_type": "stream",
     "text": [
      "Starting calibration...\n",
      "#-------------------------------------------------------------\n"
     ]
    }
   ],
   "source": [
    "# Calibration SWB+WCM\n",
    "\n",
    "print('Starting calibration...\\n'+\n",
    "      '#-------------------------------------------------------------\\n')\n",
    "\n",
    "\n",
    "A      = 0.3; B      = 1.5; C      = -15; D      = 30    # guess params for WCM\n",
    "WW_fc  = 0.32; # [m3/m3] water content at field capacity\n",
    "WW_w   = 0.09; # [m3/m3] water content at wilting point\n",
    "rho_st = 0.4;  # [-] crop specific depletion fraction\n",
    "Kc0    = 1;    # [-] crop specific coefficient\n",
    "freq   = 6     # [GHz] frequency for DoI computation\n",
    "d_0    = 1     # [-] scaling factor for depth of investigation\n",
    "\n",
    "# PAR default\n",
    "# PAR_str = [r'$A$', r'$B$', r'$C$', r'$D$', r'$\\delta_0$', r'$W_{fc}$', r'$W_w$', r'$\\rho_{st}$', r'$K_{c0}$']\n",
    "PAR_str = [r'$A$', r'$B$', r'$C$', r'$D$', r'$\\delta_0$', r'$W_{fc}$', r'$W_w$', r'$\\rho_{st}$', r'$K_{c0}$']\n",
    "\n",
    "# PAR to calibrate\n",
    "# A, B, C, D, d_0, WW_fc, WW_w, rho_st, Kc0\n",
    "PAR     = [A, B, C, D, WW_fc, WW_w, Kc0]\n",
    "PARn_str= [r'$A$', r'$B$', r'$C$', r'$D$', r'$W_{fc}$', r'$W_w$', r'$K_{c0}$']\n",
    "inputs  = [t, t_sat, P, IRR_obs, EPOT, Kc_array,\n",
    "           WW_obs, WW_sat, veg, angle, VV, freq, rho_st]\n",
    "user_in = [irri, units]\n",
    "\n",
    "bounds = (\n",
    "    np.array([0, 0, -30,  10, 0.29, 0.06, 0]), # low\n",
    "    np.array([5, 3,  -5, 100, 0.35, 0.12, 2]), # up\n",
    ")"
   ]
  },
  {
   "cell_type": "code",
   "execution_count": 158,
   "outputs": [],
   "source": [
    "import json"
   ],
   "metadata": {
    "collapsed": false,
    "ExecuteTime": {
     "end_time": "2023-07-05T23:25:24.845328800Z",
     "start_time": "2023-07-05T23:25:24.814106300Z"
    }
   },
   "id": "3d40ed1df4463d1b"
  },
  {
   "cell_type": "code",
   "execution_count": 159,
   "outputs": [
    {
     "name": "stdout",
     "output_type": "stream",
     "text": [
      "Timestring:  230706-012524\n",
      "Run number  1\n",
      "2.85  min for last run, 285.0  min estimated\n",
      "Time left:  282.61 min\n",
      "Run number  2\n",
      "Time left:  279.8 min\n",
      "Run number  3\n",
      "Time left:  276.97 min\n",
      "Run number  4\n",
      "Time left:  274.16 min\n",
      "Run number  5\n",
      "Time left:  271.32 min\n",
      "Run number  6\n",
      "Time left:  268.5 min\n",
      "Run number  7\n",
      "Time left:  265.69 min\n",
      "Run number  8\n",
      "Time left:  262.89 min\n",
      "Run number  9\n",
      "Time left:  260.06 min\n",
      "Run number  10\n",
      "Time left:  257.22 min\n",
      "Run number  11\n",
      "Time left:  254.4 min\n",
      "Run number  12\n",
      "Time left:  251.59 min\n",
      "Run number  13\n",
      "Time left:  248.77 min\n",
      "Run number  14\n",
      "Time left:  245.96 min\n",
      "Run number  15\n",
      "Time left:  243.13 min\n",
      "Run number  16\n",
      "Time left:  240.32 min\n",
      "Run number  17\n",
      "Time left:  237.47 min\n",
      "Run number  18\n",
      "Time left:  234.72 min\n",
      "Run number  19\n",
      "Time left:  231.87 min\n",
      "Run number  20\n",
      "Time left:  229.05 min\n",
      "Run number  21\n",
      "Time left:  226.21 min\n",
      "Run number  22\n",
      "Time left:  223.37 min\n",
      "Run number  23\n",
      "Time left:  220.55 min\n",
      "Run number  24\n",
      "Time left:  217.74 min\n",
      "Run number  25\n",
      "Time left:  214.91 min\n",
      "Run number  26\n",
      "Time left:  212.06 min\n",
      "Run number  27\n",
      "Time left:  209.23 min\n",
      "Run number  28\n",
      "Time left:  206.41 min\n",
      "Run number  29\n",
      "Time left:  203.59 min\n",
      "Run number  30\n",
      "Time left:  200.76 min\n",
      "Run number  31\n",
      "Time left:  197.91 min\n",
      "Run number  32\n",
      "Time left:  195.06 min\n",
      "Run number  33\n",
      "Time left:  192.24 min\n",
      "Run number  34\n",
      "Time left:  189.4 min\n",
      "Run number  35\n",
      "Time left:  186.58 min\n",
      "Run number  36\n",
      "Time left:  183.73 min\n",
      "Run number  37\n",
      "Time left:  180.88 min\n",
      "Run number  38\n",
      "Time left:  178.05 min\n",
      "Run number  39\n",
      "Time left:  175.24 min\n",
      "Run number  40\n",
      "Time left:  172.42 min\n",
      "Run number  41\n",
      "Time left:  169.6 min\n",
      "Run number  42\n",
      "Time left:  166.78 min\n",
      "Run number  43\n",
      "Time left:  163.95 min\n",
      "Run number  44\n",
      "Time left:  161.13 min\n",
      "Run number  45\n",
      "Time left:  158.31 min\n",
      "Run number  46\n",
      "Time left:  155.51 min\n",
      "Run number  47\n",
      "Time left:  152.69 min\n",
      "Run number  48\n",
      "Time left:  149.87 min\n",
      "Run number  49\n",
      "Time left:  147.05 min\n",
      "Run number  50\n",
      "Time left:  144.24 min\n",
      "Run number  51\n",
      "Time left:  141.42 min\n",
      "Run number  52\n",
      "Time left:  138.62 min\n",
      "Run number  53\n",
      "Time left:  135.79 min\n",
      "Run number  54\n",
      "Time left:  132.97 min\n",
      "Run number  55\n",
      "Time left:  130.16 min\n",
      "Run number  56\n",
      "Time left:  127.34 min\n",
      "Run number  57\n",
      "Time left:  124.52 min\n",
      "Run number  58\n",
      "Time left:  121.68 min\n",
      "Run number  59\n",
      "Time left:  118.86 min\n",
      "Run number  60\n",
      "Time left:  116.04 min\n",
      "Run number  61\n",
      "Time left:  113.21 min\n",
      "Run number  62\n",
      "Time left:  110.36 min\n",
      "Run number  63\n",
      "Time left:  107.53 min\n",
      "Run number  64\n",
      "Time left:  104.71 min\n",
      "Run number  65\n",
      "Time left:  101.89 min\n",
      "Run number  66\n",
      "Time left:  99.08 min\n",
      "Run number  67\n",
      "Time left:  96.27 min\n",
      "Run number  68\n",
      "Time left:  93.44 min\n",
      "Run number  69\n",
      "Time left:  90.64 min\n",
      "Run number  70\n",
      "Time left:  87.8 min\n",
      "Run number  71\n",
      "Time left:  84.99 min\n",
      "Run number  72\n",
      "Time left:  82.12 min\n",
      "Run number  73\n",
      "Time left:  79.28 min\n",
      "Run number  74\n",
      "Time left:  76.47 min\n",
      "Run number  75\n",
      "Time left:  73.64 min\n",
      "Run number  76\n",
      "Time left:  70.83 min\n",
      "Run number  77\n",
      "Time left:  68.01 min\n",
      "Run number  78\n",
      "Time left:  65.19 min\n",
      "Run number  79\n",
      "Time left:  62.38 min\n",
      "Run number  80\n",
      "Time left:  59.56 min\n",
      "Run number  81\n",
      "Time left:  56.74 min\n",
      "Run number  82\n",
      "Time left:  53.92 min\n",
      "Run number  83\n",
      "Time left:  51.1 min\n",
      "Run number  84\n",
      "Time left:  48.25 min\n",
      "Run number  85\n",
      "Time left:  45.43 min\n",
      "Run number  86\n",
      "Time left:  42.63 min\n",
      "Run number  87\n",
      "Time left:  39.82 min\n",
      "Run number  88\n",
      "Time left:  36.97 min\n",
      "Run number  89\n",
      "Time left:  34.13 min\n",
      "Run number  90\n",
      "Time left:  31.29 min\n",
      "Run number  91\n",
      "Time left:  28.47 min\n",
      "Run number  92\n",
      "Time left:  25.62 min\n",
      "Run number  93\n",
      "Time left:  22.8 min\n",
      "Run number  94\n",
      "Time left:  19.96 min\n",
      "Run number  95\n",
      "Time left:  17.11 min\n",
      "Run number  96\n",
      "Time left:  14.29 min\n",
      "Run number  97\n",
      "Time left:  11.47 min\n",
      "Run number  98\n",
      "Time left:  8.65 min\n",
      "Run number  99\n",
      "Time left:  5.83 min\n",
      "Run number  100\n",
      "Time left:  3.01 min\n"
     ]
    }
   ],
   "source": [
    "\n",
    "#-----------------------------------------------------------------------------\n",
    "from pyswarms.backend.handlers import OptionsHandler\n",
    "\n",
    "# if opt_params=='y':\n",
    "params = []\n",
    "start = time.time()\n",
    "timestr = time.strftime(\"%y%m%d-%H%M%S\"); print('Timestring: ', timestr)\n",
    "root = \".\\Plot\"\n",
    "fname_params = '_params.json'\n",
    "path_params = os.path.join(root, timestr+fname_params)\n",
    "\n",
    "for i in range(int(nrun)):\n",
    "    print('Run number ', i+1)\n",
    "\n",
    "    optim='global'\n",
    "    options = {'c1': 2.05, 'c2': 2.05, 'w': 0.6}\n",
    "    oh_strategy = {\"w\":'lin_variation', 'c1':'lin_variation', 'c2':'lin_variation'}\n",
    "    bh_strategy = 'shrink'\n",
    "    vh_strategy = 'invert'\n",
    "    init_pos = np.array([PAR]*int(n_particles))\n",
    "    optimizer = ps.single.GlobalBestPSO(n_particles=int(n_particles),\n",
    "                                        dimensions=len(PAR),\n",
    "                                        options=options,\n",
    "                                        bounds=bounds,\n",
    "                                        oh_strategy=oh_strategy,\n",
    "                                        bh_strategy=bh_strategy,\n",
    "                                        vh_strategy=vh_strategy,\n",
    "                                        init_pos=init_pos,\n",
    "                                       )\n",
    "\n",
    "    cost, PARn = optimizer.optimize(pso_calib_irri, n_step, verbose=verbose_calib)\n",
    "    params.append(list(PARn))\n",
    "    end = time.time()\n",
    "\n",
    "    with open(path_params, 'w') as file: json.dump(params, file)\n",
    "    file.close()\n",
    "\n",
    "    if i==0:\n",
    "        time_sec = round(end-start, 2)\n",
    "        time_min =  round((end-start)/60, 2)\n",
    "        print(time_min, ' min for last run,', time_min*nrun , ' min estimated')\n",
    "    print('Time left: ', round((start+time_sec*nrun-end)/60,2), 'min')"
   ],
   "metadata": {
    "collapsed": false,
    "ExecuteTime": {
     "end_time": "2023-07-06T04:07:52.738535600Z",
     "start_time": "2023-07-05T23:25:24.829699100Z"
    }
   },
   "id": "f389308677dd6ccb"
  },
  {
   "cell_type": "markdown",
   "source": [],
   "metadata": {
    "collapsed": false
   },
   "id": "579bb12bfb5712dc"
  },
  {
   "cell_type": "code",
   "execution_count": 160,
   "id": "b9500d89-f6ca-4a06-a423-5d40e140f3b6",
   "metadata": {
    "ExecuteTime": {
     "end_time": "2023-07-06T04:07:52.738535600Z",
     "start_time": "2023-07-06T04:07:52.457275500Z"
    }
   },
   "outputs": [
    {
     "name": "stdout",
     "output_type": "stream",
     "text": [
      "Timing:  2.82  min for 1 run, 282.46 min total\n"
     ]
    }
   ],
   "source": [
    "print('Timing: ', round((end-start)/60/nrun, 2), ' min for 1 run,', round((end-start)/60, 2), 'min total')"
   ]
  },
  {
   "cell_type": "markdown",
   "id": "f28a54af-d468-477d-8b57-23b6c59f968e",
   "metadata": {},
   "source": [
    "# Parameters' study"
   ]
  },
  {
   "cell_type": "code",
   "execution_count": 163,
   "id": "e73cb000-0776-4065-b7cd-0b426fe06603",
   "metadata": {
    "ExecuteTime": {
     "end_time": "2023-07-06T05:25:56.048624100Z",
     "start_time": "2023-07-06T05:25:56.033057Z"
    }
   },
   "outputs": [],
   "source": [
    "#############################################################################\n",
    "# Analysis on parameters out of multiple runs\n",
    "#############################################################################\n",
    "\n",
    "def parameters_analysis(params, PAR, PARn_str, bounds, timestr, automate, nbins=10):\n",
    "    \n",
    "    matrix = np.array(\n",
    "        [\n",
    "            np.array(\n",
    "                [ params[i][j] for i in range(len(params)) ])\n",
    "            for j in range(len(PAR))\n",
    "        ]\n",
    "    )\n",
    "    \n",
    "    PAR_dict = {\n",
    "        r'$A$':         [r'$[-]$',          round(A, 2) ],\n",
    "        r'$B$':         [r'$[-]$',          round(B, 2) ],\n",
    "        r'$C$':         [r'$[dB]$',         round(C, 2) ],\n",
    "        r'$D$':         [r'$[dB m^3/m^3]$', round(D, 2) ],\n",
    "        r'$\\delta_0$':  [r'$[mm]$',         round(d_0, 2) ],\n",
    "        r'$W_{fc}$':    [r'$[m^3/m^3]$',    round(WW_fc, 2) ],\n",
    "        r'$W_w$':       [r'$[m^3/m^3]$',    round(WW_w, 2) ],\n",
    "        r'$\\rho_{st}$': [r'$[mm/h]$',       round(rho_st, 2) ],\n",
    "        r'$K_{c0}$' :   [r'$[-]$',          round(Kc0, 2)],\n",
    "    }\n",
    "\n",
    "    PARn = []\n",
    "    PARn_dev = []\n",
    "    rowLabels = []\n",
    "    \n",
    "    if automate: opt_save=True\n",
    "    else: opt_save = True if input('Save histograms of params? [y/n]')=='y' else False\n",
    "    \n",
    "    for label in PAR_dict:\n",
    "        if label in PARn_str:\n",
    "            i = PARn_str.index(label)\n",
    "            data = matrix[i]\n",
    "            \n",
    "            if len(data)==1:\n",
    "                PARn=[x[0] for x in matrix]\n",
    "                PARn_dev=[0 for x in matrix]\n",
    "            else:\n",
    "                hist_kwargs={'alpha':.5, }\n",
    "                fitline_kwargs={'linestyle':'-',}\n",
    "                counts, bins, pads, popt, pcov = hist_gauss_fit(\n",
    "                    data, nbins=nbins, hist_kwargs=hist_kwargs,\n",
    "                    fitline_kwargs=fitline_kwargs,\n",
    "                    title=f'{label} {PAR_dict[label][0]}', density=True,\n",
    "                    opt_save=opt_save, dir_name='Plot\\\\',\n",
    "                    opt_name=f'{timestr}_hist_{i}',\n",
    "                    func=gauss, fit_method='dogbox')\n",
    "                mean=np.mean(data); rang=np.ptp(data)\n",
    "                plt.xlim(mean-rang, mean+rang);\n",
    "                \n",
    "                PARn.append(popt[1])\n",
    "                PARn_dev.append(popt[0])\n",
    "                plt.show()\n",
    "            \n",
    "            PAR_dict[label].pop(1)\n",
    "            PAR_dict[label].append('cal');\n",
    "            PAR_dict[label].append([round(bounds[0][i],2), round(bounds[1][i],2)]);\n",
    "            PAR_dict[label].append(np.round(PARn[i], 3));\n",
    "            PAR_dict[label].append(np.round(PARn_dev[i], 3));\n",
    "            PAR_dict[label].append(matrix[i]);            \n",
    "            \n",
    "            if not 'Cal/fix' in rowLabels: rowLabels.append('Cal/fix')\n",
    "            if not 'Bounds' in rowLabels: rowLabels.append('Bounds')\n",
    "            if not 'Median' in rowLabels: rowLabels.append('Median')\n",
    "            if not 'Err' in rowLabels: rowLabels.append('Err')\n",
    "            \n",
    "        else:\n",
    "            PAR_dict[label].append('fix')\n",
    "            PAR_dict[label].append(['/', '/'])\n",
    "            PAR_dict[label].append(PAR_dict[label][1])\n",
    "            PAR_dict[label].append('/')\n",
    "            PAR_dict[label].pop(1)\n",
    "    \n",
    "    print(PAR_dict, '\\n', rowLabels)\n",
    "    return PAR_dict, rowLabels"
   ]
  },
  {
   "cell_type": "code",
   "execution_count": 168,
   "outputs": [],
   "source": [
    "#############################################################################\n",
    "# Analysis on parameters out of multiple runs\n",
    "#############################################################################\n",
    "\n",
    "def parameters_analysis(params, PAR, PARn_str, bounds, timestr, automate, nbins=10, opt_fit=True):\n",
    "\n",
    "    matrix = np.array(\n",
    "        [\n",
    "            np.array(\n",
    "                [ params[i][j] for i in range(len(params)) ])\n",
    "            for j in range(len(PAR))\n",
    "        ]\n",
    "    )\n",
    "\n",
    "    PAR_dict = {\n",
    "        r'$A$':         [r'$[-]$',          round(A, 2) ],\n",
    "        r'$B$':         [r'$[-]$',          round(B, 2) ],\n",
    "        r'$C$':         [r'$[dB]$',         round(C, 2) ],\n",
    "        r'$D$':         [r'$[dB m^3/m^3]$', round(D, 2) ],\n",
    "        # r'$\\delta_0$':  [r'$[mm]$',         round(d_0, 2) ],\n",
    "        r'$W_{fc}$':    [r'$[m^3/m^3]$',    round(WW_fc, 2) ],\n",
    "        r'$W_w$':       [r'$[m^3/m^3]$',    round(WW_w, 2) ],\n",
    "        r'$\\rho_{st}$': [r'$[mm/h]$',       round(rho_st, 2) ],\n",
    "        r'$K_{c0}$' :   [r'$[-]$',          round(Kc0, 2)],\n",
    "    }\n",
    "\n",
    "    PARn = []\n",
    "    PARn_dev = []\n",
    "    rowLabels = []\n",
    "\n",
    "    if automate: opt_save=True\n",
    "    else: opt_save = True if input('Save histograms of params? [y/n]')=='y' else False\n",
    "\n",
    "    for label in PAR_dict:\n",
    "        if label in PARn_str:\n",
    "            i = PARn_str.index(label)\n",
    "            data = matrix[i]\n",
    "\n",
    "            if len(data)==1:\n",
    "                PARn=[x[0] for x in matrix]\n",
    "                PARn_dev=[0 for x in matrix]\n",
    "            else:\n",
    "                hist_kwargs={'alpha':.5, }\n",
    "                fitline_kwargs={'linestyle':'-',}\n",
    "                counts, bins, pads, popt, pcov, q1, q2, q3, mode = hist_gauss_fit(\n",
    "                    data, nbins=nbins, hist_kwargs=hist_kwargs,\n",
    "                    fitline_kwargs=fitline_kwargs,\n",
    "                    title=f'{label} {PAR_dict[label][0]}', density=True,\n",
    "                    opt_save=opt_save, dir_name=root,\n",
    "                    opt_name=f'{timestr}_hist_{i}',\n",
    "                    opt_fit=opt_fit,\n",
    "                    func=gauss, fit_method='dogbox')\n",
    "                mean=np.mean(data); rang=np.ptp(data)\n",
    "                plt.xlim(mean-rang, mean+rang);\n",
    "\n",
    "                PARn.append(q2)\n",
    "                PARn_dev.append((q3-q1)/2)\n",
    "                plt.show()\n",
    "\n",
    "            if opt_show: plt.show()\n",
    "            else: plt.close()\n",
    "\n",
    "            PAR_dict[label].pop(1)\n",
    "            PAR_dict[label].append('cal');\n",
    "            PAR_dict[label].append([int(round(bounds[0][i],2)), int(round(bounds[1][i],2))]);\n",
    "            PAR_dict[label].append(round(PARn[i], 3));\n",
    "            PAR_dict[label].append(round(PARn_dev[i], 3));\n",
    "            PAR_dict[label].append(list(matrix[i]));\n",
    "\n",
    "            if not 'Cal/fix' in rowLabels: rowLabels.append('Cal/fix')\n",
    "            if not 'Bounds' in rowLabels: rowLabels.append('Bounds')\n",
    "            if not 'Median' in rowLabels: rowLabels.append('Median')\n",
    "            if not 'Err' in rowLabels: rowLabels.append('Err')\n",
    "\n",
    "        else:\n",
    "            PAR_dict[label].append('fix')\n",
    "            PAR_dict[label].append(['/', '/'])\n",
    "            PAR_dict[label].append(PAR_dict[label][1])\n",
    "            PAR_dict[label].append('/')\n",
    "            PAR_dict[label].pop(1)\n",
    "\n",
    "    # print(PAR_dict, '\\n', rowLabels)\n",
    "    return PAR_dict, rowLabels"
   ],
   "metadata": {
    "collapsed": false,
    "ExecuteTime": {
     "end_time": "2023-07-06T05:29:21.259973100Z",
     "start_time": "2023-07-06T05:29:21.228713600Z"
    }
   },
   "id": "f3a010936a1f06f6"
  },
  {
   "cell_type": "code",
   "execution_count": 170,
   "id": "7065e63f-81c9-4bdb-be32-1caf08ec085c",
   "metadata": {
    "ExecuteTime": {
     "end_time": "2023-07-06T05:31:38.196903400Z",
     "start_time": "2023-07-06T05:31:36.729116600Z"
    }
   },
   "outputs": [
    {
     "data": {
      "text/plain": "<Figure size 432x288 with 1 Axes>",
      "image/png": "[encoded data removed]"
     },
     "metadata": {
      "needs_background": "light"
     },
     "output_type": "display_data"
    },
    {
     "data": {
      "text/plain": "<Figure size 432x288 with 1 Axes>",
      "image/png": "[encoded data removed]"
     },
     "metadata": {
      "needs_background": "light"
     },
     "output_type": "display_data"
    },
    {
     "data": {
      "text/plain": "<Figure size 432x288 with 1 Axes>",
      "image/png": "[encoded data removed]"
     },
     "metadata": {
      "needs_background": "light"
     },
     "output_type": "display_data"
    },
    {
     "data": {
      "text/plain": "<Figure size 432x288 with 1 Axes>",
      "image/png": "[encoded data removed]"
     },
     "metadata": {
      "needs_background": "light"
     },
     "output_type": "display_data"
    },
    {
     "data": {
      "text/plain": "<Figure size 432x288 with 1 Axes>",
      "image/png": "[encoded data removed]"
     },
     "metadata": {
      "needs_background": "light"
     },
     "output_type": "display_data"
    },
    {
     "data": {
      "text/plain": "<Figure size 432x288 with 1 Axes>",
      "image/png": "[encoded data removed]"
     },
     "metadata": {
      "needs_background": "light"
     },
     "output_type": "display_data"
    },
    {
     "data": {
      "text/plain": "<Figure size 432x288 with 1 Axes>",
      "image/png": "[encoded data removed]"
     },
     "metadata": {
      "needs_background": "light"
     },
     "output_type": "display_data"
    },
    {
     "name": "stdout",
     "output_type": "stream",
     "text": [
      "{'$A$': ['$[-]$', 'cal', [0, 5], 0.343, 0.005, [0.3440661793668602, 0.34911812272605747, 0.36892832816097215, 0.3455522870616489, 0.34243675258012723, 0.3446274322456994, 0.30317930002312116, 0.3375680156385627, 0.3436563448132778, 0.35137100755689527, 0.3229426620880762, 0.3343649235617579, 0.3386750115386277, 0.3666929119123851, 0.3417886797457612, 0.3246710091681252, 0.301488699414031, 0.0023475290016649235, 0.48580966923132873, 0.343790983848703, 0.3407473792087061, 0.39382513064813274, 0.3380511310958557, 0.34842181267693845, 0.34730710548911237, 0.37722103467123386, 0.3442418786320908, 0.3279136153311726, 0.3497637546254971, 0.3473969904999194, 0.30292596233758706, 0.3045293143232256, 0.338853040683734, 0.3490895945756174, 0.34570964871848386, 0.36329871390493573, 0.3847315890426854, 0.3447185263200044, 0.028809242466439663, 0.34090908708245016, 0.3417850236869917, 0.34298152747148214, 0.3512896800571699, 0.34357749566668516, 0.3327688777778906, 0.3335707008394919, 0.3517249619673724, 0.35444657119878736, 0.3429420798643857, 0.33338048539504345, 0.3396834158624972, 0.33938654126205775, 0.3565856824457373, 0.34973856117323804, 0.34542336638781357, 0.3324002254147158, 0.3408414049333034, 0.33856751590145473, 0.3446995584273953, 0.34208763320461083, 0.23898144292458665, 0.2870099617118196, 0.34198873695169896, 0.34858380573117076, 0.3399290207420698, 0.4240041635405009, 0.342595910262554, 0.34012011762324795, 0.3425006337699304, 0.3547613731776533, 0.3217145760147371, 0.23873574960232918, 0.3486636301103607, 0.3359916540113942, 0.34736685672413287, 0.34240295899598433, 0.3471536246256732, 0.34464028616792786, 0.3444977701599812, 0.3160380401301641, 0.33875505342950424, 0.3473055332170363, 0.34473362167313254, 0.34759863365807864, 0.34416420438417, 0.3329141670149957, 0.33428557191770103, 0.3014647507513534, 0.3335211959199453, 0.34251637097394233, 0.34042091254568235, 0.3428900206206333, 0.37079283696252846, 0.4045304295119538, 0.3255706971313508, 0.3446800454826473, 0.34559531197446836, 0.3438966979871565, 0.34557282464941186, 0.3403783054187816]], '$B$': ['$[-]$', 'cal', [0, 3], 0.716, 0.048, [0.7150623867101976, 0.7224529759991192, 0.5540218987964118, 0.705536127974427, 0.7843455814573549, 0.7016532281342601, 1.4139810459015454, 0.8048086663501123, 0.6885384044839368, 0.6648313274247746, 1.0497045394371818, 0.7866785962056633, 0.7518570502694876, 0.5873119776086178, 0.736453116794614, 0.932678612655647, 0.49799391549770733, 0.0, 0.3318594589044675, 0.7082284415657165, 0.7893409519828897, 0.4819525986902117, 0.7913678210496228, 0.6824260531010888, 0.6884589153520542, 0.5210903101284328, 0.681211644530656, 0.9529882982474525, 0.6670705537951027, 0.6886761557488893, 1.5068053934302217, 1.3671435115862243, 0.8094330655169235, 0.6715262134519381, 0.6950891352230132, 0.6015556618023371, 0.49971775747137626, 0.7029331260330169, 0.0, 0.7311009632039772, 0.7089411762973491, 0.7056865020300648, 0.6645318794910015, 0.7558577965905012, 0.8901827459390663, 0.7560486779597261, 0.6876722197351395, 0.6667827946064782, 0.7163614710819044, 0.7619822534739235, 0.9901739134502545, 0.7203313283612773, 0.6814239239530583, 0.6776794686558882, 0.6965213407900275, 0.7700404430358616, 0.7468423632468453, 0.7547073594678511, 0.7079674140011617, 0.7097688362138321, 1.4140137957511876, 1.4607979625593266, 0.7157267198544244, 0.6735939331853151, 0.7389317044981067, 0.8845674226996278, 0.7119920343682921, 0.7063272035362542, 0.744183246045746, 1.2167209225086615, 1.0569050400507192, 1.462166393912151, 0.6817873442613412, 0.7600547666399773, 0.686821415062991, 0.777553074529049, 0.6917386775233545, 0.7000113753000083, 0.7354325000906877, 1.0346403738992656, 0.7631488002171694, 0.6847328804793635, 0.7166962422806448, 0.7606634123767566, 0.7105463346699783, 0.7769856740155979, 0.8049484021279926, 1.033311877576647, 0.8734319771792999, 0.7378618329258411, 0.7158610106959216, 0.7561670271650222, 0.5745738968527809, 0.4544733958798981, 1.4145970579700824, 0.7082930893307154, 0.7052255572644531, 0.7096923775955847, 0.7333180352316411, 0.7123853762880437]], '$C$': ['$[dB]$', 'cal', [-30, -5], -14.531, 0.144, [-14.522923160493647, -14.56935915096206, -14.662224312683982, -14.507267014409852, -14.48202328319254, -14.509266426013575, -14.85680795701699, -14.754915222992738, -14.77985414234617, -14.460188715567472, -14.762963305999916, -14.802364481110253, -14.507697860476451, -14.749710788311692, -14.522553035895905, -14.40376131215462, -15.053008668442146, -19.06131219788248, -14.733105371222342, -14.517882207585387, -14.473215007831032, -14.259530550667762, -14.731325848794791, -14.516253938519702, -14.482970403210093, -14.870138836657674, -14.513892922980421, -14.820643350682221, -14.56273740153417, -14.52676199901833, -14.9856073294804, -14.659004348952672, -14.74221956911067, -14.536094413869566, -14.520389888499366, -14.101491382265845, -14.661577483072582, -14.546944648946772, -16.12552637830055, -14.515645594764411, -14.492472695241053, -14.504549514709288, -14.536805159659176, -14.381269801260373, -15.008859753610018, -15.02056843133619, -14.464611265628783, -13.986341432051553, -14.491794099757866, -14.563296112396596, -13.195146900447495, -14.8701353968612, -13.97905744365409, -14.585168663979026, -14.530995321194684, -14.49695239813755, -14.779770755014551, -14.586910363177008, -14.716394071748596, -14.497319213970892, -15.685262148784904, -14.804201600214203, -14.458136761193153, -14.528736470672943, -14.517503084706743, -15.078562782427625, -14.506162409797165, -14.554384229250251, -14.83259450169814, -14.362069188487387, -14.786214680471364, -14.999125369931486, -14.483452374212318, -14.82937609750334, -14.478682156965935, -14.67697598271021, -14.510398617534985, -14.530585913221115, -14.804748983236278, -14.810370553532207, -14.864750069192977, -14.477298473384337, -14.525060072349655, -14.440661177538232, -14.493892964151787, -15.197553790122564, -14.577480411495454, -15.020986697332221, -14.223895317907697, -14.07162967929762, -14.622780079002718, -14.067040009309869, -14.640816157164673, -14.397335505413004, -13.742368261310288, -14.514629991373036, -14.533521699718571, -14.514415172003279, -14.049818731283974, -14.829739404136921]], '$D$': ['$[dB m^3/m^3]$', 'cal', [10, 100], 29.753, 0.531, [30.128638179329045, 31.51182328034225, 30.231293713747448, 30.131737273603395, 29.866411909045205, 28.719673896767404, 30.113082292176482, 29.828887725321366, 27.426101539744124, 29.992373700322204, 29.893405368903075, 29.822655783379638, 29.899610230952376, 27.067748252271294, 29.505668255967528, 27.305339166284305, 30.164762500274158, 33.804207596176404, 30.16549296378508, 27.788051913466195, 30.204933856121524, 30.021303874625655, 30.008782245067636, 29.156907939399552, 27.680151764278026, 32.34787600181725, 30.78393300526654, 28.45175714452028, 29.8240986241896, 29.384862913389828, 30.409467481634522, 29.737287464917184, 29.884197424258588, 29.631273263380905, 29.427602800639164, 29.963855697863963, 29.75293839148889, 28.739229215892856, 29.910882245933195, 29.629016773922075, 27.080342762992302, 29.106458853679626, 29.793973392210866, 26.93640528875386, 29.47700710527554, 29.937704587899788, 31.17256850284605, 30.293275586910344, 29.512218943826728, 27.533787904507083, 30.186187403276552, 28.31467217246998, 30.440242394255783, 31.59593783155816, 29.785600377725295, 27.29036011641132, 28.651233415057558, 29.612558832496635, 27.661153721679824, 27.03025217417852, 29.693644239160456, 29.956748900251863, 29.826736105111767, 28.88529675525415, 29.144501891109837, 29.715002820660853, 28.958346465698526, 29.39536169560216, 28.98513671556087, 30.311645639475692, 29.957410299177514, 28.98367741838181, 32.468142061927196, 27.589974292955556, 28.04240599537036, 29.285932569875147, 29.192614325670775, 29.347654639765167, 27.412718897683, 29.676173197777945, 29.9990195711721, 28.46400442052908, 28.547818914972787, 29.10691608503883, 26.991653731645616, 29.89240718312846, 29.83447585134145, 29.76093377987335, 28.774706192631893, 30.83655655967732, 29.76240550358811, 30.54096622958146, 32.111446649554686, 30.44488218530808, 30.002929378703225, 29.196111597470363, 29.987864785990062, 29.62270492578848, 30.706589828177876, 28.191433475826987]], '$W_{fc}$': ['$[m^3/m^3]$', 'cal', [0, 0], 0.322, 0.016, [0.3152576029868455, 0.2900048101334921, 0.29, 0.31432447331839386, 0.30774820209274306, 0.3296905071935724, 0.35, 0.3208878281243204, 0.35, 0.3107997519941306, 0.35, 0.3255030891788814, 0.31811373199277654, 0.3499981414820456, 0.3216356975720932, 0.3498685755237182, 0.29, 0.33250564290538526, 0.29, 0.341179680828088, 0.3042475143865288, 0.29, 0.3216366490711433, 0.32382683891008984, 0.3402817735131159, 0.29, 0.3066997183673819, 0.3389303601232216, 0.31766304296823294, 0.32166320854547775, 0.35, 0.34158663036031445, 0.3137934982073595, 0.31785151112866084, 0.3214091180658924, 0.2901217905410449, 0.29271088705607706, 0.33161487742831985, 0.30773820794917933, 0.3210770352947074, 0.34948792382220006, 0.3258827013525908, 0.3158558820776556, 0.3343232343674766, 0.35, 0.3346391956670519, 0.30402455831931485, 0.2901063979025395, 0.321175264314716, 0.35, 0.2900000001107341, 0.3499811471998165, 0.2900000019170575, 0.29990300068869813, 0.3176788952758029, 0.3497816135338622, 0.33437883264702334, 0.30839233451773757, 0.34724697952112615, 0.34987091917240454, 0.35, 0.29, 0.3163399463283465, 0.32609789054879657, 0.3267808899794627, 0.29, 0.32773805383362586, 0.3230526978435464, 0.3277344191519484, 0.29, 0.35, 0.29, 0.29, 0.35, 0.33525506215246903, 0.3255511694516165, 0.3234299188122643, 0.3235346368362987, 0.34977754963426616, 0.35, 0.33209585926260493, 0.3300373614457408, 0.331769574362281, 0.31301639210392534, 0.34994123588587156, 0.33431757851943833, 0.31785693183088093, 0.29, 0.3180891670749813, 0.29, 0.3201991457348055, 0.2940170112443063, 0.29, 0.29, 0.29, 0.3248591460055319, 0.3170128466437372, 0.3200508439676757, 0.29037298274436346, 0.34682560924351846]], '$W_w$': ['$[m^3/m^3]$', 'cal', [0, 0], 0.096, 0.02, [0.09553721389357027, 0.06, 0.06034216169759665, 0.09492884224134283, 0.06, 0.0999970307819843, 0.06, 0.08765991052548741, 0.11313262254445161, 0.0905855547047697, 0.11368356230496986, 0.09995234111131199, 0.09336538492857073, 0.11672602098160553, 0.09507399765880299, 0.09671766797292124, 0.06, 0.06045056996429109, 0.06, 0.1034404850210667, 0.06, 0.07637913047075152, 0.09573433700742769, 0.09830308310300581, 0.10304423815327071, 0.09165319944229958, 0.09239781496138388, 0.06, 0.0961595174497542, 0.09758691227281148, 0.06, 0.06, 0.06, 0.09626489360776533, 0.09731639825473444, 0.06, 0.06, 0.10324749613207056, 0.06956429641210704, 0.0974510065383572, 0.10583066840529873, 0.09875713784158469, 0.09571762432773709, 0.06004909999444792, 0.12, 0.12, 0.09214257800838943, 0.06, 0.09724581563437162, 0.1072611774249549, 0.06, 0.12, 0.06012327495732938, 0.09112186033530714, 0.09616212771273001, 0.10572933954368235, 0.10041585664809083, 0.06, 0.11166770988212163, 0.10544818461146563, 0.12, 0.06, 0.094697896082982, 0.09876211156191146, 0.09900277641081531, 0.06, 0.09872958655925278, 0.09800135477322111, 0.09331854518104214, 0.06, 0.11522109576347965, 0.06, 0.08580679817474145, 0.10985507625269335, 0.10037803315949274, 0.09378105745656944, 0.09788964563710013, 0.09816339580764744, 0.1087499339228296, 0.11957944495934549, 0.12, 0.09794781757661508, 0.10056463905703564, 0.06, 0.10569827348703281, 0.11986377338391623, 0.08528452237502425, 0.06, 0.06, 0.06001604255325127, 0.09715607388348667, 0.06, 0.08683604812190891, 0.08093534603786884, 0.06, 0.09858736997680093, 0.09618745330326774, 0.09710579354936982, 0.06, 0.11999998101139642]], '$\\\\rho_{st}$': ['$[mm/h]$', 'fix', ['/', '/'], 0.4, '/'], '$K_{c0}$': ['$[-]$', 'cal', [0, 2], 0.282, 0.03, [0.2844078461707153, 0.20909854747894524, 0.20975951569705586, 0.28431195356265165, 0.20805018266332523, 0.283600271020959, 0.17480103742046904, 0.20824805200979735, 0.2617398964100329, 0.28379221655069875, 0.2616010144905258, 0.23290307435370647, 0.2725724456574492, 0.27375327705867447, 0.2845747807590158, 0.20578857522767188, 0.24021168930006662, 5.127490332371493e-18, 0.22478384219886438, 0.28304290406788984, 0.20793751797814453, 0.2856223564464726, 0.23000000477636817, 0.28403577137275693, 0.28302099745449044, 0.2971566317198964, 0.284824015362051, 0.18529422152181052, 0.28420876404343315, 0.2841326017226986, 0.16147881983069354, 0.17990015310199778, 0.18624180641456525, 0.284231966830448, 0.284050905921698, 0.2739309443431106, 0.2155765973828885, 0.2924088804386584, 0.1053278293178519, 0.2841152271033198, 0.282574286374409, 0.28387193450113996, 0.2843751666813954, 0.20758357827311238, 0.24722245710955607, 0.2639578566899711, 0.28578420487478934, 0.2862428129920918, 0.28401068538104146, 0.28289446507491195, 0.30933411608088746, 0.2698097471545084, 0.2865520768529475, 0.2856706381966833, 0.28420592446187115, 0.2822627747723252, 0.22933511051870648, 0.20666230883971345, 0.26151475257757506, 0.282120002986479, 0.1937569066072914, 0.22222586658515517, 0.2838106377479277, 0.2837093641458657, 0.2836754652401463, 0.18664096484070614, 0.28338295587201695, 0.28398090577270546, 0.21381724898842522, 0.2250387138336006, 0.26273474836623223, 0.4982730157521128, 0.29537871494016754, 0.24106539352298448, 0.2826634297565679, 0.21477219877287188, 0.2838393494005524, 0.28394137379027523, 0.23685645095388688, 0.26938889869768706, 0.26393766169398514, 0.2822727546721908, 0.28348935943477943, 0.20842581592616172, 0.28225994033672563, 0.20753074700642718, 0.231494674586633, 0.28733615576523214, 0.22315634659153172, 0.2678496053803538, 0.2842385198868622, 0.2671678523994694, 0.2862777840858245, 0.28628048280784596, 0.24518120561555048, 0.28387211227327425, 0.2843739167635692, 0.2841572248765315, 0.26756894831777484, 0.2706859191133297]]} \n",
      " ['Cal/fix', 'Bounds', 'Median', 'Err']\n"
     ]
    }
   ],
   "source": [
    "PAR_dict, rowLabels = parameters_analysis(params, PAR, PARn_str, bounds, timestr, automate, nbins=10, opt_fit=False)"
   ]
  },
  {
   "cell_type": "code",
   "execution_count": 171,
   "id": "1a4f72f0-fc6f-480d-8586-f898b68c268d",
   "metadata": {
    "ExecuteTime": {
     "end_time": "2023-07-06T05:31:44.452374Z",
     "start_time": "2023-07-06T05:31:44.441463100Z"
    }
   },
   "outputs": [],
   "source": [
    "if automate: opt_save=True\n",
    "else: opt_save = True if input('Save log with parameters\\' values? [y/n]')=='y' else False\n",
    "\n",
    "if opt_save:\n",
    "    for label in PAR_dict:\n",
    "        try:\n",
    "            with open('Plot\\\\'+timestr+'_params.txt', 'w') as f: \n",
    "                f.write('PAR_dict={\\n')\n",
    "                for key, value in PAR_dict.items(): \n",
    "                    f.write(\"r'%s':%s,\\n\" % (key, value))\n",
    "                f.write('}')\n",
    "        except ValueError:\n",
    "            pass"
   ]
  },
  {
   "cell_type": "code",
   "execution_count": 179,
   "outputs": [
    {
     "data": {
      "text/plain": "[0.343, 0.716, -14.531, 29.753, 0.322, 0.096, 0.4, 0.282]"
     },
     "execution_count": 179,
     "metadata": {},
     "output_type": "execute_result"
    }
   ],
   "source": [
    "[PAR_dict[key][3] for key in PAR_dict]"
   ],
   "metadata": {
    "collapsed": false,
    "ExecuteTime": {
     "end_time": "2023-07-06T07:44:37.163218700Z",
     "start_time": "2023-07-06T07:44:37.147501Z"
    }
   },
   "id": "34c386d13c0bbe0f"
  },
  {
   "cell_type": "markdown",
   "id": "c5aeea1c-2dba-4bde-8469-cc5d4df015e8",
   "metadata": {},
   "source": [
    "# Model output - plots sim VS obs for SM, sigma0"
   ]
  },
  {
   "cell_type": "code",
   "execution_count": 172,
   "id": "aa2d901b-08ff-40fd-8f16-7827ab0aa8dd",
   "metadata": {
    "ExecuteTime": {
     "end_time": "2023-07-06T05:31:48.558365100Z",
     "start_time": "2023-07-06T05:31:48.448080800Z"
    }
   },
   "outputs": [],
   "source": [
    "# Model validation and output\n",
    "\n",
    "if not automate:\n",
    "    if input('Do you want to plot with user-defined parameters\\' values ? [y/n]')=='y':\n",
    "        \n",
    "        timestr = time.strftime(\"%y%m%d-%H%M%S\"); print('Timestring: ', timestr)\n",
    "        \n",
    "        # PAR_tot = [PAR_dict[label][3] for label in PAR_dict]\n",
    "        PAR_tot = [0.329, 0.56, -15, 30, 10, 0.32, 0.10, 0.3, 0.5]\n",
    "        print(PAR_tot)\n",
    "        WW,IRR,sigma0,KGE = IRR_WCM(PAR_tot, inputs, user_in)\n",
    "    else: WW,IRR,sigma0,KGE = IRR_WCM(PARn, inputs, user_in)\n",
    "\n",
    "else:\n",
    "    PARn = [PAR_dict[label][3] for label in PAR_dict if label in PARn_str]\n",
    "    WW,IRR,sigma0,KGE = IRR_WCM(PARn, inputs, user_in)"
   ]
  },
  {
   "cell_type": "code",
   "execution_count": 173,
   "id": "3b6c2429-fd5d-4572-bae2-0d8c679705cd",
   "metadata": {
    "ExecuteTime": {
     "end_time": "2023-07-06T05:31:50.010843900Z",
     "start_time": "2023-07-06T05:31:49.870231600Z"
    }
   },
   "outputs": [
    {
     "data": {
      "text/plain": "<Figure size 1008x360 with 1 Axes>",
      "image/png": "[encoded data removed]"
     },
     "metadata": {
      "needs_background": "light"
     },
     "output_type": "display_data"
    }
   ],
   "source": [
    "if automate: opt_save_table = True\n",
    "else: opt_save_table = True if input('Save table with machine params? [y/n]')=='y' else False\n",
    "\n",
    "fig, ax = plt.subplots(figsize=(14,5))\n",
    "row_height=0.1; col_width=0.7\n",
    "\n",
    "# Table with machine, inputs params\n",
    "timing = 'daily' if freq=='d' else 'hourly'\n",
    "calib = 'sigma0' if opt_calib=='1' else 'sigma0+sm'\n",
    "cellText = [\n",
    "    # ['Units', units],\n",
    "    # ['Cost function', opt_cost],\n",
    "    # ['Calib on', calib],\n",
    "    ['Optimizer:', optim],\n",
    "    ['Optimizer: options', options],\n",
    "    ['Optimizer: strategy', oh_strategy],\n",
    "    ['N runs, particles, optim. steps', str(len(params))+', '+str(n_particles)+', '+str(n_step)],\n",
    "    # ['Time frequency', timing],\n",
    "    # ['Vegetation descriptor', opt_veg],\n",
    "]\n",
    "table = ax.table(cellText=cellText,\n",
    "                     cellLoc='center', loc='center',\n",
    "                     colLabels=None, rowLabels=None)\n",
    "\n",
    "for (row, col), cell in table.get_celld().items():\n",
    "    cell.set_height(row_height)\n",
    "    cell._loc = 'center'\n",
    "\n",
    "table.auto_set_font_size(False); table.set_fontsize(20)\n",
    "table.auto_set_column_width(col=[x for x in range(len(PAR_dict))])\n",
    "ax.axis('tight'); ax.axis('off')\n",
    "\n",
    "if opt_save_table: plt.savefig(f'Plot\\\\{timestr}_table_mach.png', dpi=100)\n",
    "plt.show()"
   ]
  },
  {
   "cell_type": "code",
   "execution_count": 177,
   "id": "e56020d7-32b1-4d81-8fa5-3d01ea34315b",
   "metadata": {
    "ExecuteTime": {
     "end_time": "2023-07-06T07:41:18.326025800Z",
     "start_time": "2023-07-06T07:41:17.942566600Z"
    }
   },
   "outputs": [
    {
     "data": {
      "text/plain": "<Figure size 1728x360 with 1 Axes>",
      "image/png": "[encoded data removed]"
     },
     "metadata": {
      "needs_background": "light"
     },
     "output_type": "display_data"
    }
   ],
   "source": [
    "if automate: opt_save_table = True\n",
    "else: opt_save_table = True if input('Save table with params? [y/n]')=='y' else False\n",
    "\n",
    "fig, ax = plt.subplots(figsize=(24,5))\n",
    "row_height=0.1; col_width=0.1\n",
    "\n",
    "single_label = [label for label in PAR_dict][0]\n",
    "cellText = [\n",
    "    [\n",
    "        significant_figures_str(PAR_dict[label][4],PAR_dict[label][i])[1] if type(PAR_dict[label][i])==np.float64\n",
    "        else PAR_dict[label][i]\n",
    "        for label in PAR_dict\n",
    "    ] \n",
    "    for i in range(1,1+len(rowLabels))]\n",
    "\n",
    "colLabels = [ f'{label} {PAR_dict[label][0]}' for label in PAR_dict ]\n",
    "# rowLabels = [ 'Guess/fix value', 'Cal/fix', 'Bounds', 'Mean', 'St.dev.']\n",
    "\n",
    "#---------------------------------\n",
    "table = ax.table(cellText=cellText,\n",
    "                  cellLoc='center', loc='center',\n",
    "                  colLabels=colLabels,\n",
    "                  rowLabels=rowLabels,\n",
    "                )\n",
    "\n",
    "for (row, col), cell in table.get_celld().items():\n",
    "    if row == 0: # or col == 0:\n",
    "        cell.set_text_props(weight='bold')\n",
    "    cell.set_height(row_height)\n",
    "    cell._loc = 'center'\n",
    "\n",
    "table.auto_set_font_size(False); table.set_fontsize(20)\n",
    "table.auto_set_column_width(col=[x for x in range(len(PAR_dict))])\n",
    "ax.axis('tight'); ax.axis('off')\n",
    "\n",
    "if opt_save_table: plt.savefig(f'Plot\\\\{timestr}_table.png')\n",
    "plt.show()"
   ]
  },
  {
   "cell_type": "markdown",
   "id": "8cb30d11-cb3a-44fc-9027-7ffd9917dbd1",
   "metadata": {},
   "source": [
    "## Triple plot SM+$\\sigma^0$+inputs"
   ]
  },
  {
   "cell_type": "code",
   "execution_count": 1,
   "id": "f1011469-3838-4aef-a0f4-357859d0f941",
   "metadata": {
    "ExecuteTime": {
     "end_time": "2023-07-06T08:19:13.471502800Z",
     "start_time": "2023-07-06T08:19:12.324101500Z"
    }
   },
   "outputs": [
    {
     "ename": "NameError",
     "evalue": "name 'automate' is not defined",
     "output_type": "error",
     "traceback": [
      "\u001B[1;31m---------------------------------------------------------------------------\u001B[0m",
      "\u001B[1;31mNameError\u001B[0m                                 Traceback (most recent call last)",
      "Input \u001B[1;32mIn [1]\u001B[0m, in \u001B[0;36m<cell line: 7>\u001B[1;34m()\u001B[0m\n\u001B[0;32m      4\u001B[0m opt_show\u001B[38;5;241m=\u001B[39m\u001B[38;5;28;01mTrue\u001B[39;00m    \n\u001B[0;32m      5\u001B[0m \u001B[38;5;28;01mfrom\u001B[39;00m \u001B[38;5;21;01mscipy\u001B[39;00m\u001B[38;5;21;01m.\u001B[39;00m\u001B[38;5;21;01msignal\u001B[39;00m \u001B[38;5;28;01mimport\u001B[39;00m savgol_filter\n\u001B[1;32m----> 7\u001B[0m \u001B[38;5;28;01mif\u001B[39;00m automate: opt_save \u001B[38;5;241m=\u001B[39m \u001B[38;5;28;01mTrue\u001B[39;00m\n\u001B[0;32m      8\u001B[0m \u001B[38;5;28;01melse\u001B[39;00m: opt_save \u001B[38;5;241m=\u001B[39m \u001B[38;5;28;01mTrue\u001B[39;00m \u001B[38;5;28;01mif\u001B[39;00m \u001B[38;5;28minput\u001B[39m(\u001B[38;5;124m'\u001B[39m\u001B[38;5;124mSave triple plot SM+s0+inputs? [y/n]\u001B[39m\u001B[38;5;124m'\u001B[39m)\u001B[38;5;241m==\u001B[39m\u001B[38;5;124m'\u001B[39m\u001B[38;5;124my\u001B[39m\u001B[38;5;124m'\u001B[39m \u001B[38;5;28;01melse\u001B[39;00m \u001B[38;5;28;01mFalse\u001B[39;00m\n\u001B[0;32m     10\u001B[0m fig, ax \u001B[38;5;241m=\u001B[39m plt\u001B[38;5;241m.\u001B[39msubplots(\u001B[38;5;241m3\u001B[39m, \u001B[38;5;241m1\u001B[39m,constrained_layout\u001B[38;5;241m=\u001B[39m\u001B[38;5;28;01mFalse\u001B[39;00m,figsize\u001B[38;5;241m=\u001B[39m(\u001B[38;5;241m14\u001B[39m, \u001B[38;5;241m12\u001B[39m), sharex\u001B[38;5;241m=\u001B[39m\u001B[38;5;28;01mTrue\u001B[39;00m,dpi\u001B[38;5;241m=\u001B[39m\u001B[38;5;241m300\u001B[39m,)\n",
      "\u001B[1;31mNameError\u001B[0m: name 'automate' is not defined"
     ]
    }
   ],
   "source": [
    "#####################################################################\n",
    "# Triple plot\n",
    "#####################################################################\n",
    "opt_show=True    \n",
    "from scipy.signal import savgol_filter\n",
    "        \n",
    "if automate: opt_save = True\n",
    "else: opt_save = True if input('Save triple plot SM+s0+inputs? [y/n]')=='y' else False\n",
    "\n",
    "fig, ax = plt.subplots(3, 1,constrained_layout=False,figsize=(14, 12), sharex=True,dpi=300,)\n",
    "filename = f'_triple_'+units+'_'+PAR_str_add\n",
    "from scipy.signal import savgol_filter\n",
    "\n",
    "plot_triple(fig, ax, times1=t_sat, data1=[VV, sigma0], data1_label=r'$\\sigma^0$', \n",
    "            input1=veg, input1_label=opt_veg,\n",
    "            times2=t, data2=[WW_obs, WW], data2_label=r'SM',\n",
    "            input2=[], input2_label='',\n",
    "            times3=t, data3=\n",
    "            [P,\n",
    "             IRR_obs,\n",
    "             savgol_filter(EPOT, window_length=24, polyorder=1, mode='interp')],\n",
    "            data3_label=['Rain', ' Irrigation', 'mean ET0'],\n",
    "            user_input=[irri],\n",
    "           )\n",
    "\n",
    "\n",
    "name=''\n",
    "if opt_save:\n",
    "    optim_choice = 'glo' if (optim=='')or(optim=='global') else 'local'\n",
    "    name = timestr+filename # +f'_{n_particles}_{n_step}_{optim_choice}_{norma}'\n",
    "    plt.savefig('Plot\\\\'+name+'.png')\n",
    "\n",
    "if opt_show: plt.show()\n",
    "plt.close()"
   ]
  },
  {
   "cell_type": "markdown",
   "id": "a8d10cf3-e56b-470c-8c09-31ab2b8d6430",
   "metadata": {},
   "source": [
    "## Scatterplot"
   ]
  },
  {
   "cell_type": "code",
   "execution_count": null,
   "id": "3e654ae0-e846-433d-9bd2-673eefe71ab5",
   "metadata": {},
   "outputs": [],
   "source": [
    "if automate: opt_save = True\n",
    "else: opt_save = True if input('Save scatterplot of SM? [y/n]')=='y' else False\n",
    "\n",
    "filename = f'scatter_'+'sm_'+units+PAR_str_add # 'SM'\n",
    "\n",
    "plot_sim_vs_obs(sim=WW, obs=WW_obs, quantity='SM', um='[-]')\n",
    "    \n",
    "if opt_save: plt.savefig('Plot\\\\'+timestr+'_'+filename+'.png')"
   ]
  },
  {
   "cell_type": "code",
   "execution_count": null,
   "id": "cd6328c7-5b26-4b41-80e7-869c5ef64de5",
   "metadata": {},
   "outputs": [],
   "source": [
    "if automate: opt_save = True\n",
    "else: opt_save = True if input('Save scatterplot of SM? [y/n]')=='y' else False\n",
    "\n",
    "filename = f'scatter_'+'sigma0_'+units+PAR_str_add # 'sigma0'\n",
    "\n",
    "plot_sim_vs_obs(sim=sigma0, obs=VV, quantity=r'$\\sigma^0$', um='[dB]')\n",
    "    \n",
    "if opt_save: plt.savefig('Plot\\\\'+timestr+'_'+filename+'.png')"
   ]
  },
  {
   "cell_type": "code",
   "execution_count": null,
   "id": "2d0674c3-6181-4afe-9064-71edc9e386c9",
   "metadata": {},
   "outputs": [],
   "source": [
    "PAR_dict"
   ]
  },
  {
   "cell_type": "raw",
   "source": [
    "# Components"
   ],
   "metadata": {
    "collapsed": false
   },
   "id": "c0eee301ea39c4b5"
  },
  {
   "cell_type": "raw",
   "id": "042aa8f8-44da-4357-987a-3d67448efc76",
   "metadata": {},
   "source": [
    "PAR_tot = [0.329, 0.56, -15, 30, 1.5, 0.32, 0.1, 0.4, .5]"
   ]
  },
  {
   "cell_type": "raw",
   "id": "5052c653-2223-448a-bfb2-5bc28f574ecb",
   "metadata": {},
   "source": [
    "# A, B, C, D, W_max, WW_fc, WW_w, rho_st, Kc0 = [PAR_dict[label][3] for label in PAR_dict]\n",
    "A, B, C, D, W_max, WW_fc, WW_w, rho_st, Kc0 = PAR_tot\n",
    "t, t_sat, P, IRR_obs, EPOT, Kc, WW_obs, WW_sat, veg, angle, sig0_obs = inputs\n",
    "\n",
    "angle_m= np.mean(angle)\n",
    "Ks     = np.array([.0]*len(t)) # water stress coefficient\n",
    "ET     = np.array([.0]*len(t)) # evapotranspiration\n",
    "rho    = np.array([.0]*len(t)) # depletion fraction\n",
    "PS     = np.array([.0]*len(t)) # deep percolation\n",
    "W      = np.array([.0]*len(t)) # water content [mm]\n",
    "WW     = np.array([.0]*len(t)) # water content [m3/m3]\n",
    "WW[0]  = WW_obs[0] # initial value of sm [m3/m3]\n",
    "depth  = np.array([.0]*len(t)) # dynamic depth [mm]\n",
    "depth[0]=doi(freq=4, sand=45, clay=15, water=WW[0], angle=angle_m)*1000\n",
    "W[0]   = WW_obs[0]*depth[0] # initial value of sm [mm]\n",
    "sig0   = np.array([.0]*len(t_sat))\n",
    "\n",
    "COST   = .0\n",
    "LAMBDA = 1000\n",
    "if irri==True: IRR = [0]*len(d) # daily, water content\n",
    "else: IRR = IRR_obs\n",
    "\n",
    "\n",
    "for i in [i+1 for i in range(len(t)-1)]:\n",
    "#for i in [i+1 for i in range(1500)]:\n",
    "    \n",
    "    # Compute DoI of W[i-1]\n",
    "    depth[i] = doi(freq=4,\n",
    "                sand=45, clay=15,\n",
    "                water=WW[i-1],\n",
    "                angle=angle_m)*1000\n",
    "    \n",
    "    W_fc = W_max*depth[i]*WW_fc # field capacity [mm]\n",
    "    W_w  = W_max*depth[i]*WW_w  # wilting point [mm]\n",
    "    \n",
    "    # Build Ks curve    \n",
    "    # Compute crop coeff and depletion fraction\n",
    "    Kci = Kc[i]*Kc0\n",
    "    rho[i]=rho_st+0.04*(5-Kci*EPOT[i]*24)\n",
    "    if   rho[i]<0.1: COST += (rho[i]-0.1)**2 # regularization\n",
    "    elif rho[i]>0.8: COST += (rho[i]-0.8)**2 # regularization\n",
    "    \n",
    "    if W[i-1]>=(1-rho[i])*W_fc:\n",
    "        Ks[i]=1\n",
    "    elif (W[i-1]>W_w)and(W[i-1]<(1-rho[i])*W_fc):\n",
    "        Ks[i]=float(float(W[i-1]-W_w)/float((1-rho[i])*(W_fc-W_w)))\n",
    "    elif W[i-1]<=W_w: Ks[i]=0\n",
    "    else: Ks[i]=0\n",
    "    \n",
    "    # Water balance [mm]\n",
    "    W[i]=W[i-1]+P[i]+IRR[i]-EPOT[i]*Kci*Ks[i]\n",
    "    WW[i]=W[i]/(depth[i]*W_max)\n",
    "    \n",
    "    # Computation of deep percolation (water above field capacity)\n",
    "    if W[i]>W_fc:\n",
    "        PS[i]=W[i]-W_fc\n",
    "        W[i]=W_fc"
   ]
  },
  {
   "cell_type": "raw",
   "source": [
    "PAR_tot = [0.329, 0.56, -15, 30, 10, 0.32, 0.1, 0.4, 0.3]\n",
    "\n",
    "A, B, C, D, W_max, WW_fc, WW_w, Kc0 = [PAR_dict[label][3] for label in PAR_dict]\n",
    "t, t_sat, P, IRR_obs, EPOT, Kc, WW_obs, WW_sat, veg, angle, sig0_obs, freq, rho_st = inputs\n",
    "\n",
    "angle_m = np.mean(angle)\n",
    "Ks      = np.array([.0]*len(t)) # water stress coefficient\n",
    "ET      = np.array([.0]*len(t)) # evapotranspiration\n",
    "rho     = np.array([.0]*len(t)) # depletion fraction\n",
    "PS      = np.array([.0]*len(t)) # deep percolation\n",
    "W       = np.array([.0]*len(t)) # water content [mm]\n",
    "WW      = np.array([.0]*len(t)) # water content [m3/m3]\n",
    "WW[0]   = WW_obs[0] # initial value of sm [m3/m3]\n",
    "depth   = np.array([.0]*len(t)) # dynamic depth [mm]\n",
    "depth[0]= doi(freq=4, sand=45, clay=15, water=WW[0], angle=angle_m)*1000\n",
    "\n",
    "W[0]    = WW_obs[0]*depth[0] # initial value of sm [mm]\n",
    "sig0    = np.array([.0]*len(t_sat))\n",
    "\n",
    "COST   = .0\n",
    "LAMBDA = 1000\n",
    "if irri==True: IRR = [0]*len(d) # daily, water content\n",
    "else: IRR = IRR_obs\n",
    "\n",
    "\n",
    "for i in [i+1 for i in range(len(t)-1)]:\n",
    "    \n",
    "    # Compute DoI of W[i-1]\n",
    "    depth[i] = doi(freq=freq,\n",
    "                sand=45, clay=15,\n",
    "                water=WW[i-1],\n",
    "                angle=angle_m)*1000\n",
    "    \n",
    "    # Build Ks curve    \n",
    "    # Compute crop coeff and depletion fraction\n",
    "    Kci = Kc[i]*Kc0\n",
    "    rho[i]=rho_st+0.04*(5-Kci*EPOT[i]*24)\n",
    "    if   rho[i]<0.1: COST += (rho[i]-0.1)**2 # regularization\n",
    "    elif rho[i]>0.8: COST += (rho[i]-0.8)**2 # regularization\n",
    "    \n",
    "    if WW[i-1]>=(1-rho[i])*WW_fc:\n",
    "        Ks[i]=1\n",
    "    elif (WW[i-1]>WW_w)and(WW[i-1]<(1-rho[i])*WW_fc):\n",
    "        Ks[i]=float(float(WW[i-1]-WW_w)/float((1-rho[i])*(WW_fc-WW_w)))\n",
    "    else: Ks[i]=0\n",
    "    \n",
    "    # Water balance [mm]\n",
    "    # W[i]=WW[i-1]*depth[i-1]+P[i]+IRR[i]-EPOT[i]*Kci*Ks[i]\n",
    "    WW[i]=WW[i-1]+(P[i]+IRR[i]-EPOT[i]*Kci*Ks[i])/(depth[i])\n",
    "    \n",
    "    # Computation of deep percolation (water above field capacity)\n",
    "    WW_s = 0.48\n",
    "    if WW[i]>WW_s:\n",
    "        WW[i]=WW_s\n",
    "    elif WW[i]>WW_fc:\n",
    "        WW[i]-=(WW[i]-WW_fc)*np.sqrt(60)"
   ],
   "metadata": {
    "collapsed": false
   },
   "id": "adf17a67b66e0de8"
  },
  {
   "cell_type": "raw",
   "source": [
    "theta  = angle*np.pi/180. # angle of incidence (rad)\n",
    "\n",
    "sig0s_dB = C+D*WW_sat # sigma0_soil [dB]\n",
    "T2 = np.exp((-2*B*veg)/np.cos(theta)) # attenuation\n",
    "sig0v = A*veg*np.cos(theta)*(1-T2) # sigma0_veg [units]\n",
    "\n",
    "if units=='lin':\n",
    "    sig0s = db_lin(sig0s_dB) # sigma0_soil [lin]\n",
    "    sig0_lin = T2*sig0s+sig0v # sigma0_tot [lin]\n",
    "    sig0=lin_db(sig0_lin) # sigma0_tot [dB]\n",
    "elif units=='db':\n",
    "    sig0 = T2*sig0s_dB+sig0v # sigma0_tot [db]\n",
    "else: raise NameError('Please choose one of the options: lin/db')"
   ],
   "metadata": {
    "collapsed": false
   },
   "id": "3019a9400ab0707b"
  },
  {
   "cell_type": "raw",
   "source": [
    "plt.plot(Kc*Kc0)\n",
    "plt.plot(Ks)"
   ],
   "metadata": {
    "collapsed": false
   },
   "id": "1fe4596e2777fa6a"
  },
  {
   "cell_type": "raw",
   "source": [
    "Ks"
   ],
   "metadata": {
    "collapsed": false
   },
   "id": "94a7c41ade569c85"
  },
  {
   "cell_type": "raw",
   "source": [
    "plt.plot(EPOT*Kc*Kc0*Ks)"
   ],
   "metadata": {
    "collapsed": false
   },
   "id": "69a73ad483cbf371"
  },
  {
   "cell_type": "raw",
   "source": [
    "plt.plot((1-0.01+0.04*(5-EPOT*Kc*24*Kc0))*WW_fc)\n",
    "plt.plot(np.array([1]*len(t))*WW_w)\n",
    "# plt.ylim(0,0.2)"
   ],
   "metadata": {
    "collapsed": false
   },
   "id": "4377a892b18eb729"
  },
  {
   "cell_type": "raw",
   "source": [
    "plt.plot(WW)\n",
    "plt.plot(WW_obs)"
   ],
   "metadata": {
    "collapsed": false
   },
   "id": "7dd3f5e4f16d42ca"
  },
  {
   "cell_type": "raw",
   "source": [
    "plt.scatter(WW,WW_obs)"
   ],
   "metadata": {
    "collapsed": false
   },
   "id": "df2bea26f248d208"
  },
  {
   "cell_type": "raw",
   "source": [
    "plt.plot(depth)"
   ],
   "metadata": {
    "collapsed": false
   },
   "id": "1e6dbe95a66c7a3a"
  },
  {
   "cell_type": "raw",
   "source": [
    "fig, ax = plt.subplots(1,1)\n",
    "ax.plot(doi(freq=6, sand=45, clay=15, water=WW_obs, angle=angle_m)*1000)\n",
    "ax0 = ax.twinx()\n",
    "ax0.plot(WW_obs, color='tab:orange')"
   ],
   "metadata": {
    "collapsed": false
   },
   "id": "becafddd5b8db225"
  },
  {
   "cell_type": "raw",
   "id": "5e532353-6c04-4ab0-aaf0-bb1a95b1c3d8",
   "metadata": {},
   "source": [
    "if automate: opt_save = True\n",
    "else: opt_save = True if input('Save triple plot with components? [y/n]')=='y' else False\n",
    "\n",
    "fig, ax = plt.subplots(4, 1,constrained_layout=False,figsize=(16, 9), sharex=True,dpi=300,)\n",
    "filename = f'components_'+units+'_'+PAR_str_add\n",
    "\n",
    "#----------------------------------------------------------------------------\n",
    "# Box with params\n",
    "\n",
    "PAR_text='Parameters\\n'\n",
    "\n",
    "try:\n",
    "    for i in range(len(PAR_str)): PAR_text+=f'    {PAR_str[i]} = {PAR_tot[i]}'\n",
    "except NameError:\n",
    "    for label in PAR_dict: PAR_text+=f'    {label} = {PAR_dict[label][3]}'\n",
    "\n",
    "fig.text(0.5, 0.95,\n",
    "         PAR_text, ha='center', va='center',\n",
    "         bbox={'facecolor':'white', 'edgecolor':'black'},\n",
    "         transform=fig.transFigure,\n",
    "         fontsize='large',\n",
    "        )\n",
    "\n",
    "#----------------------------------------------------------------------------\n",
    "# Plot of sigma0 components\n",
    "\n",
    "obs = (sig0s); obs_label=r'$\\sigma^0_{soil}$'\n",
    "sim = norm_fit(sig0v, min(sig0s), max(sig0s)); sim_label=r'$\\sigma^0_{veg}$'\n",
    "input0 = veg; input0_label='veg'\n",
    "labely = r'$\\sigma^0$[dB]'\n",
    "times = t_sat\n",
    "marker='o'; linestyle='-'\n",
    "\n",
    "title=f'{sim_label}, {obs_label}, {input0_label}'\n",
    "\n",
    "ax[0].set_xlim(xmin=times[0], xmax=times[len(times)-1])\n",
    "ax[0].plot(times, sim, c='darkkhaki', label=sim_label,\n",
    "           linestyle=linestyle, marker=marker, )#alpha=.4, zorder=-1)\n",
    "ax[0].plot(times, obs, c='goldenrod', label=obs_label,\n",
    "           linestyle=linestyle, marker=marker, zorder=-1)\n",
    "ax[0].legend(loc='upper left')\n",
    "ax[0].set_title(title)\n",
    "ax[0].set_ylabel(labely)\n",
    "\n",
    "ax0 = ax[0].twinx()\n",
    "ax0.plot(times, input0, label=input0_label, color='tab:green')\n",
    "ax0.legend(loc='upper right')\n",
    "ax0.set_ylabel(input0_label+' [-]')\n",
    "\n",
    "#----------------------------------------------------------------------------\n",
    "# Plot of soil moisture and sigma0, simulations\n",
    "\n",
    "obs = sig0; obs_label=r'$\\sigma^0$'\n",
    "input3 = W; input3_label='SM'\n",
    "labely = r'$\\sigma^0$[dB]'\n",
    "marker='o'; linestyle='-'\n",
    "\n",
    "ax[1].plot(t, input3, color='tab:blue', label=input3_label, zorder=-10)\n",
    "ax[1].legend(loc='upper left')\n",
    "ax[1].set_ylabel('SM [mm]')\n",
    "\n",
    "ax3 = ax[1].twinx()\n",
    "ax3.plot(t_sat, sig0, color='tab:orange', label=obs_label, marker=marker, linestyle=linestyle, zorder=10)\n",
    "ax3.legend(loc='upper right')\n",
    "ax3.set_ylabel(labely)\n",
    "\n",
    "#----------------------------------------------------------------------------\n",
    "# Plot of SWB components\n",
    "\n",
    "obs = norm(Kc_array); obs_label='Kc'\n",
    "sim = norm(Ks); sim_label='Ks'\n",
    "input1 = norm(Kc_array); input1_label='Kc'\n",
    "labely = '[-]'\n",
    "times = t\n",
    "\n",
    "if irri:\n",
    "    IRRmatrix = np.array( [ [IRR[i], IRR_obs[i]] for i in range(len(IRR)) if not np.isnan(IRR_obs[i]) ] )\n",
    "    R_IRR=np.corrcoef(IRRmatrix,rowvar=False)[0][1]; print('R_IRR (IRR vs IRR_obs)=', R_IRR)\n",
    "    B_IRR=bias(np.array([e[0] for e in IRRmatrix]), np.array([e[1] for e in IRRmatrix]))\n",
    "    irri_title = f'sumIRR_obs={np.sum(IRR_obs):.2f}, '+\\\n",
    "                 f'sumIRR_sim={np.sum(IRR):.2f}, '+\\\n",
    "                 f'R_IRR={R_IRR:.2f}, '+\\\n",
    "                 f'bias_IRR={B_IRR:.2f}, '\n",
    "else: irri_title=''\n",
    "\n",
    "title= ''#  f'SM_obs VS SM_sim - '+f'{irri_title}'+\\\n",
    "    # f'R_SM={R:.2f}, bias_SM={BIAS:.2f}'\n",
    "\n",
    "ax[2].set_xlim(xmin=times[0], xmax=times[-1])\n",
    "ax[2].plot(times, Ks, c='teal', label=sim_label, linestyle='-', alpha=.8)\n",
    "# ax[2].plot(times, obs, c='seagreen', label=obs_label, linestyle='-', lw=2)\n",
    "ax[2].legend(loc='upper left')\n",
    "ax[2].set_title(title)\n",
    "ax[2].set_ylabel(labely)\n",
    "\n",
    "ax1 = ax[2].twinx()\n",
    "ax1.plot(times, Kc_array, label=input1_label, color='tab:green')\n",
    "ax1.legend(loc='upper right')\n",
    "ax1.set_ylabel(input1_label+' [mm/h]')\n",
    "\n",
    "#----------------------------------------------------------------------------\n",
    "# Plot of inputs P, IRR, veg\n",
    "\n",
    "obs = P; obs_label='Rain'\n",
    "sim = IRR_obs; sim_label='Irri'\n",
    "input2 = ET; input2_label='ET'\n",
    "input4 = EPOT; input4_label='EPOT'\n",
    "labely = f'{obs_label}, {sim_label} [mm/h]'\n",
    "times = t\n",
    "\n",
    "ax[3].bar(times, P, color='tab:gray', label=r'Rain')\n",
    "ax[3].bar(times, IRR_obs, color='tab:blue', label=r'Irri', zorder=2)\n",
    "ax[3].plot(times, input4, label=input4_label, color='tab:green', alpha=.5)\n",
    "ax[3].legend(loc='upper left')\n",
    "ax[3].set_ylabel(labely)\n",
    "\n",
    "ax2 = ax[3].twinx()\n",
    "ax2.plot(times, input2, label=input2_label, color='tab:green', alpha=.8)\n",
    "ax2.legend(loc='upper right')\n",
    "ax2.set_ylabel(f'{input2_label} [mm/h]')\n",
    "\n",
    "name=''\n",
    "if opt_save:\n",
    "    optim_choice = 'glo' if (optim=='')or(optim=='global') else 'local'\n",
    "    name = timestr+filename # +f'_{n_particles}_{n_step}_{optim_choice}_{norma}'\n",
    "    plt.savefig('Plot\\\\'+name+'.png')\n",
    "\n",
    "# plt.close()"
   ]
  },
  {
   "cell_type": "raw",
   "source": [
    "# Extrapolate depth curves"
   ],
   "metadata": {
    "collapsed": false
   },
   "id": "ef7a39421ea2d56c"
  },
  {
   "cell_type": "raw",
   "source": [
    "from scipy.optimize import curve_fit\n",
    "\n",
    "def doi(freq:float, sand:float, clay:float, water:np.array, angle:float):\n",
    "    \"\"\"\n",
    "    freq [GHz]\n",
    "    angle [°]\n",
    "    \n",
    "    return depth [m]\n",
    "    \"\"\"\n",
    "    c = 299792458 # m/s\n",
    "    theta  = angle*np.pi/180. # angle [rad]\n",
    "    \n",
    "    coeff = {\n",
    "        1.4:\n",
    "        {\n",
    "        'real' : [2.862, -0.012, 0.001, 3.803, 0.462,\n",
    "                  -0.341, 119.006, -0.500, 0.633],\n",
    "        'img' : [0.356, -0.003, -0.008, 5.507, 0.044,\n",
    "                 -0.002, 17.753, -0.313, 0.206]\n",
    "        },\n",
    "        4:\n",
    "        {\n",
    "        'real':[ 2.927,-0.012,-0.001,5.505,0.371,\n",
    "                0.062,114.826,-0.389,-0.547],\n",
    "        'img':[0.004,0.001,0.002,0.951,0.005,\n",
    "               -0.01,16.759,0.192,0.29]\n",
    "        },\n",
    "        6:\n",
    "        {\n",
    "        'real':[1.993,0.002,0.015,38.086,-0.176,\n",
    "                -0.633,10.72,1.256,1.522],\n",
    "        'img':[-0.123,0.002,0.003,7.502,-0.058,\n",
    "               -0.116,2.942,0.452,0.543]\n",
    "        }\n",
    "    }\n",
    "    \n",
    "    coeff_r = np.array(coeff[freq]['real'])\n",
    "    real = coeff_r[0]+coeff_r[1]*sand+coeff_r[2]*clay+\\\n",
    "    (coeff_r[3]+coeff_r[4]*sand+coeff_r[5]*clay)*water+\\\n",
    "    (coeff_r[6]+coeff_r[7]*sand+coeff_r[8]*clay)*(water**2)\n",
    "        \n",
    "    coeff_i = np.array(coeff[freq]['img'])\n",
    "    img = coeff_i[0]+coeff_i[1]*sand+coeff_i[2]*clay+\\\n",
    "    (coeff_i[3]+coeff_i[4]*sand+coeff_i[5]*clay)*water+\\\n",
    "    (coeff_i[6]+coeff_i[7]*sand+coeff_i[8]*clay)*(water**2)\n",
    "    \n",
    "    depth =  c/(2*np.pi*freq*1e9)*(np.sqrt(real)/img)*np.cos(theta)\n",
    "    \n",
    "    return depth\n",
    "\n",
    "\n",
    "# Define the function to fit to the data\n",
    "def fit_func(freq, a, b, c):\n",
    "    return a*freq**2 + b*freq + c\n",
    "\n",
    "# Define the frequencies and depths for each set of data points\n",
    "sand = 45\n",
    "clay = 15\n",
    "angle = 40\n",
    "freqs = [1.4, 4, 6]\n",
    "depths = []\n",
    "for freq in freqs:\n",
    "    depths.append([doi(freq, sand, clay, water, angle) for water in np.arange(0, 0.51, 0.01)])\n",
    "\n",
    "# Fit a curve to each set of data points\n",
    "fits = []\n",
    "for i in range(len(freqs)):\n",
    "    popt, _ = curve_fit(fit_func, freqs[i], depths[i])\n",
    "    fits.append(popt)\n",
    "\n",
    "# Define the frequencies at which to estimate the depth\n",
    "new_freqs = np.arange(0.1, 10.1, 0.1)\n",
    "\n",
    "# Estimate the depth at the new frequencies using the fitted curves\n",
    "new_depths = []\n",
    "for i in range(len(new_freqs)):\n",
    "    depth = fit_func(new_freqs[i], *fits[0])\n",
    "    if new_freqs[i] > freqs[0]:\n",
    "        depth = fit_func(new_freqs[i], *fits[1])\n",
    "    if new_freqs[i] > freqs[1]:\n",
    "        depth = fit_func(new_freqs[i], *fits[2])\n",
    "    new_depths.append(depth)"
   ],
   "metadata": {
    "collapsed": false
   },
   "id": "c4093e9f6e1cb9ca"
  },
  {
   "cell_type": "raw",
   "source": [
    "plt.plot(new_depths)"
   ],
   "metadata": {
    "collapsed": false
   },
   "id": "238653a82fb0bb86"
  }
 ],
 "metadata": {
  "kernelspec": {
   "display_name": "Python (satellite)",
   "language": "python",
   "name": "satellite"
  },
  "language_info": {
   "codemirror_mode": {
    "name": "ipython",
    "version": 3
   },
   "file_extension": ".py",
   "mimetype": "text/x-python",
   "name": "python",
   "nbconvert_exporter": "python",
   "pygments_lexer": "ipython3",
   "version": "3.10.5"
  }
 },
 "nbformat": 4,
 "nbformat_minor": 5
}
