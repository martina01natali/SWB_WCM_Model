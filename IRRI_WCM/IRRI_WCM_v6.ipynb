{
 "cells": [
  {
   "cell_type": "markdown",
   "id": "4a7faa9f-21ef-41d0-b1d3-dbb0f9d8a740",
   "metadata": {},
   "source": [
    "# IRRmodel\\*WCM calibration with PSO on KGE of $\\sigma^0$\n",
    "\n",
    "The v6 code is a final, cleaned and commented version.\n",
    "This version, wrt to v5, implements some novelties:\n",
    "- [SWB] a dynamic Kc based on a standard curve of growth of tomato crops\n",
    "- [SWB] hourly ET from both Hargreaves model and FAO Penman-Monteith \n",
    "- [SWB] hourly soil moisture estimates from the soil water balance\n",
    "- [WCM] hourly matching between SM estimates and sigma0 data\n",
    "- [WCM] theta is substituted by the mean value of the angle of the reference orbit"
   ]
  },
  {
   "cell_type": "code",
   "execution_count": 1,
   "id": "7bf409eb-8332-4bd8-adc3-c96f31d066e2",
   "metadata": {},
   "outputs": [],
   "source": [
    "import sys\n",
    "sys.path.append('../')\n",
    "\n",
    "from modules.funcs import *\n",
    "from modules.funcs_pso import *\n",
    "# from modules.pyeto import *\n",
    "\n",
    "# KEEP YOUR MODELS IN THE NOTEBOOK UNTIL THEY ARE PERFECT\n",
    "# CAUSE EXTERNAL IMPORT IS AWFUL IN JUPYTER\n",
    "# from IRRI_WCM.IRRI_WCM_model import *"
   ]
  },
  {
   "cell_type": "code",
   "execution_count": 2,
   "id": "897c8532-64f7-4e3a-a324-6d286a3dceec",
   "metadata": {},
   "outputs": [],
   "source": [
    "def pso_calib_irri(PAR):\n",
    "    \"\"\"Ausiliary function for PSO optimization\"\"\"\n",
    "    global inputs\n",
    "    global irri\n",
    "    n_particles = PAR.shape[0]\n",
    "    err = np.zeros(n_particles)\n",
    "    for i in range(n_particles):\n",
    "        WW,IRR,sig0,KGE = IRR_WCM(PAR[i], inputs, user_in)\n",
    "        err[i] = 1 - KGE\n",
    "    return err"
   ]
  },
  {
   "cell_type": "code",
   "execution_count": 3,
   "id": "580fd1b7-4d39-496d-a42b-9b025ae04543",
   "metadata": {},
   "outputs": [],
   "source": [
    "def gauss(x, A, mean, dev):\n",
    "    \"\"\"Not-normalized, shifted gaussian distribution.\"\"\"\n",
    "    import math\n",
    "    return A*(1/(dev*np.sqrt(2*math.pi)))*np.exp(-(x-mean)**2/(2*dev**2))\n",
    "\n",
    "def skew_gauss(x, A, mean, dev, alpha):\n",
    "    \"\"\"Skew, not-normalized and shifted gaussian distribution.\"\"\"\n",
    "\n",
    "    import math\n",
    "    import scipy.special as sp\n",
    "    \n",
    "    pdf = (1/(dev*np.sqrt(2*np.pi)))*np.exp(-pow((x-mean),2)/(2*pow(dev,2)))\n",
    "    cdf = sp.erfc((-alpha*(x-mean))/(dev*np.sqrt(2)))\n",
    "    return A*pdf*cdf\n",
    "\n",
    "def hist_gauss_fit(data, nbins, hist_kwargs, fitline_kwargs,\n",
    "                   title, density=False,\n",
    "                   opt_save=False, dir_name='', opt_name='hist_fit',\n",
    "                   func=gauss,\n",
    "                  ):\n",
    "    \"\"\"Histogram with automatic gaussian fit.\n",
    "    \n",
    "    Arguments\n",
    "    ---------\n",
    "    - func: object, default gauss\n",
    "        WARNING: skew_gauss not supported yet    \n",
    "        \n",
    "    \"\"\"\n",
    "\n",
    "    x = np.linspace(min(data), max(data), 200)\n",
    "    counts, bins, pads = plt.hist(data, bins=nbins, density=density, **hist_kwargs)\n",
    "    if func==gauss:\n",
    "        fit_bounds = [ [0,min(bins),0],\n",
    "                      [sum(counts)*np.diff(bins)[0],max(bins),abs(max(bins)-min(bins))] ]\n",
    "    elif func==skew_gauss:\n",
    "        fit_bounds = [ [0,min(bins),0],\n",
    "                      [sum(counts)*np.diff(bins)[0],max(bins),abs(max(bins)-min(bins))],\n",
    "                      # [-10, 10]\n",
    "                     ]\n",
    "    else: raise ValueError(f'Func {func} is not a valid option.')\n",
    "    popt, pcov = curve_fit(func, bins[:-1], counts, method='trf',bounds=fit_bounds, maxfev=1000)\n",
    "    fit = func(x, *popt)\n",
    "    plt.plot(x, fit, **fitline_kwargs)\n",
    "    ylabel = 'Density' if density else 'Counts'; plt.ylabel(ylabel)\n",
    "    plt.legend(loc='best'); plt.title(title)\n",
    "    xtext= 0.5*(plt.xlim()[1]-plt.xlim()[0])+plt.xlim()[0] # 0.8*(max(x)-min(x))+min(x);\n",
    "    ytext=0.5*max(counts) #0.5*(max(counts)-min(counts))+min(counts)\n",
    "    t = plt.text(xtext, ytext,\n",
    "                 f'tot counts={len(data)}\\nmean={popt[1]:.2f}\\ndev={popt[2]:.2f} ({popt[2]/abs(popt[1])*100:.1f}%)',\n",
    "                 ha=\"center\", va=\"center\", size=15,\n",
    "                 bbox=dict(boxstyle=\"round,pad=0.3\", fc=\"tab:orange\", ec=\"k\", lw=2, alpha=.5))\n",
    "    \n",
    "    if opt_save: plt.savefig(dir_name+opt_name+'.png', dpi=300)\n",
    "    \n",
    "    return [counts, bins, pads, popt, pcov]"
   ]
  },
  {
   "cell_type": "markdown",
   "id": "03fc0993-11dd-47c2-b7ae-ec776880402d",
   "metadata": {},
   "source": [
    "# IRRI+WCM"
   ]
  },
  {
   "cell_type": "code",
   "execution_count": 4,
   "id": "e00834ab-1849-42cb-b7df-fb3d52c913c9",
   "metadata": {},
   "outputs": [],
   "source": [
    "def IRR_WCM(PAR, inputs, user_in):\n",
    "    \"\"\"Irrigation model and WCM integration.\n",
    "    \n",
    "    Based on minimization of KGE between observed and simulated\n",
    "    $\\sigma^0$ values via PSO (pyswarm) optimization.\n",
    "    The soil water balance model (IRR) produces an estimate of the soil water\n",
    "    content WW [%] that is used to simulate $\\sigma^0$ by a water cloud\n",
    "    model (WCM).\n",
    "    \n",
    "    Inputs\n",
    "    ----------\n",
    "    - PAR: initial guess values for parameters to calibrate\n",
    "        PAR = [A, B, C, D, W_0, W_max, S_fc, S_w, rho_st, Kc]\n",
    "    - inputs: input quantities for calibration,\n",
    "        [d, d_sat, P, IRR_obs, EPOT, WWobs, LAI, t_deg, obs]\n",
    "    - user_in: user-defined options\n",
    "        irri = user_in: if user_in=True, irrigation is estimated\n",
    "        and not taken as an input, else the input observed irrigation\n",
    "        is used in the soil water balance\n",
    "    \n",
    "    Return\n",
    "    -------\n",
    "    KGE from hydroeval between sigma0 observed and simulated.\n",
    "    \n",
    "    \"\"\"\n",
    "\n",
    "    # User input\n",
    "    irri, units = user_in\n",
    "    \n",
    "    # Unpack inputs\n",
    "    A, B, C, D, W_max, WW_fc, WW_w, rho_st, Kc0 = PAR\n",
    "    d, d_sat, P, IRR_obs, EPOT, W_d, W_h, veg, theta, VV = inputs\n",
    "    \n",
    "    # Fixed parameters\n",
    "    # global WW_fc  # = 0.32 # 0.32\n",
    "    # global WW_w   # = 0.08 # 0.08\n",
    "    # global rho_st # = 0.4 # /24 # 0.4\n",
    "    # global Kc0    # = 1 # 0.05 # 1\n",
    "    W_0 = W_d[0]\n",
    "    \n",
    "    angle  = theta*np.pi/180. # angle of incidence\n",
    "    W_fc   = WW_fc*W_max # field capacity [mm]\n",
    "    W_w    = WW_w*W_max # wilting point [mm]\n",
    "    Ks     = [0]*len(d) # daily, water stress coefficient\n",
    "    rho    = [0]*len(d) # daily, depletion fraction\n",
    "    PS     = [0]*len(d) # daily, deep percolation\n",
    "    W      = [0]*len(d) # daily, water content [mm]\n",
    "    W[0]   = W_0*W_max # initial value of sm [mm]\n",
    "    if irri==True: IRR = [0]*len(d) # daily, water content\n",
    "    else: IRR = IRR_obs\n",
    "    \n",
    "    for t in [i+1 for i in range(len(d)-1)]:\n",
    "        \n",
    "        DOY=d[t].dayofyear\n",
    "        \n",
    "        # Build Kc curve\n",
    "        # Ref. FAO56, Tables 11, 12\n",
    "        START  = 134 # 14 May\n",
    "        Kc_ini = 0.6*Kc0\n",
    "        Kc_mid = 1.15*Kc0\n",
    "        Kc_late= 0.7*Kc0\n",
    "\n",
    "        INI =[x for x in range(START, START+30)] # initial phenological phase\n",
    "        DEV =[x for x in range(START+30, START+30+40)] # development phase\n",
    "        m1  =(Kc_mid-Kc_ini)/40 # daily Kc growth in DEV phase \n",
    "        MID =[x for x in range(START+30+40, START+30+40+45)] # mid phase\n",
    "        LATE=[x for x in range(START+30+40+45, START+30+40+45+30)] # late stage\n",
    "        m2  =(Kc_late-Kc_mid)/30 # daily Kc growth in senescence\n",
    "        \n",
    "        if DOY in INI: Kc=Kc_ini\n",
    "        elif DOY in DEV: Kc=Kc_ini+m1*(DOY-DEV[0])\n",
    "        elif DOY in MID: Kc=Kc_mid\n",
    "        elif DOY in LATE: Kc=Kc_mid+m2*(DOY-LATE[0])\n",
    "        elif DOY>LATE[-1]: Kc=Kc_late\n",
    "        else: Kc=Kc_ini\n",
    "        \n",
    "        # Build Ks curve\n",
    "        rho[t]=rho_st+0.04*(5-Kc*EPOT[t])\n",
    "        if W[t-1]>=(1-rho[t])*W_fc:\n",
    "            Ks[t]=1\n",
    "        elif (W[t-1]>W_w)and(W[t-1]<(1-rho[t])*W_fc):\n",
    "            Ks[t]=float(W[t-1]-W_w)/((1-rho[t])*(W_fc-W_w))\n",
    "        else: Ks[t]=0\n",
    "        \n",
    "        # Irrigation estimate (for summer season only)\n",
    "        # Irrigation is estimated as the amount of water needed from the day\n",
    "        # before to take water content up to field capacity\n",
    "        if irri==True:\n",
    "            if np.logical_and(DOY>START,DOY<START+100): # summer season\n",
    "                if W[t-1]<=(1-rho[t])*W_fc: IRR[t]=W_fc-W[t-1]\n",
    "        \n",
    "        # Water balance [mm]\n",
    "        W[t]=W[t-1]+P[t]+IRR[t]-EPOT[t]*Kc*Ks[t]\n",
    "        \n",
    "        # Computation of deep percolation (water above field capacity)\n",
    "        if W[t]>W_fc:\n",
    "            PS[t]=W[t]-W_fc\n",
    "            W[t]=W_fc\n",
    "            \n",
    "    WW=np.array(W)/W_max\n",
    "    WWsat = pd.DataFrame(timeseries(d,WW)).set_index(0).loc[d_sat][1].values\n",
    "    \n",
    "    # Water Cloud Model\n",
    "    sig0s_dB = C+D*WWsat # sigma0_soil [dB]\n",
    "    T2 = np.exp((-2*B*veg)/np.cos(angle)) # attenuation\n",
    "    sig0v = A*veg*np.cos(angle)*(1-T2) # sigma0_veg [units]\n",
    "    \n",
    "    if units=='lin':\n",
    "        sig0s = db_lin(sig0s_dB) # sigma0_soil [lin]\n",
    "        sig0_lin = T2*sig0s+sig0v # sigma0_tot [lin]\n",
    "        sig0=lin_db(sig0_lin) # sigma0_tot [dB]\n",
    "    elif units=='db':\n",
    "        sig0 = T2*sig0s_dB+sig0v # sigma0_tot [db]\n",
    "    else: raise NameError('Please choose one of the options: lin/db')\n",
    "        \n",
    "    OUT=he.evaluator(he.kge, sig0, VV)\n",
    "    KGE=OUT[0,:];\n",
    "\n",
    "    return [WW,IRR,sig0,KGE]"
   ]
  },
  {
   "cell_type": "markdown",
   "id": "223148f9-9707-47ae-8257-e1cdec6234b6",
   "metadata": {},
   "source": [
    "# IRRI+WCM, all params"
   ]
  },
  {
   "cell_type": "code",
   "execution_count": 5,
   "id": "8d8d289c-6469-4546-83c0-ecb0139f344c",
   "metadata": {},
   "outputs": [],
   "source": [
    "def IRR_WCM_allpar(PAR, inputs, user_in):\n",
    "    \"\"\"Irrigation model and WCM integration.\n",
    "    \n",
    "    Based on minimization of KGE between observed and simulated\n",
    "    $\\sigma^0$ values via PSO (pyswarm) optimization.\n",
    "    The soil water balance model (IRR) produces an estimate of the soil water\n",
    "    content WW [%] that is used to simulate $\\sigma^0$ by a water cloud\n",
    "    model (WCM).\n",
    "    \n",
    "    Inputs\n",
    "    ----------\n",
    "    - PAR: initial guess values for parameters to calibrate\n",
    "        PAR = [A, B, C, D, W_0, W_max, S_fc, S_w, rho_st, Kc]\n",
    "    - inputs: input quantities for calibration,\n",
    "        [d, d_sat, P, IRR_obs, EPOT, WWobs, LAI, t_deg, obs]\n",
    "    - user_in: user-defined options\n",
    "        irri = user_in: if user_in=True, irrigation is estimated\n",
    "        and not taken as an input, else the input observed irrigation\n",
    "        is used in the soil water balance\n",
    "    \n",
    "    Return\n",
    "    -------\n",
    "    KGE from hydroeval between sigma0 observed and simulated.\n",
    "    \n",
    "    \"\"\"\n",
    "\n",
    "    # User input\n",
    "    irri, units = user_in\n",
    "    \n",
    "    # Unpack inputs\n",
    "    A, B, C, D, W_max, WW_fc, WW_w, rho_st, Kc0 = PAR\n",
    "    d, d_sat, P, IRR_obs, EPOT, W_d, W_h, veg, theta, VV = inputs\n",
    "    \n",
    "    # Fixed parameters\n",
    "    W_0    = W_d[0]\n",
    "    # WW_fc  = 0.35 # 0.32\n",
    "    # WW_w   = 0.12 # 0.08\n",
    "    # rho_st = 0.4\n",
    "    # Kc0     = 1\n",
    "    \n",
    "    angle  = theta*np.pi/180. # angle of incidence\n",
    "    W_fc   = WW_fc*W_max # field capacity [mm]\n",
    "    W_w    = WW_w*W_max # wilting point [mm]\n",
    "    Ks     = [0]*len(d) # daily, water stress coefficient\n",
    "    rho    = [0]*len(d) # daily, depletion fraction\n",
    "    PS     = [0]*len(d) # daily, deep percolation\n",
    "    W      = [0]*len(d) # daily, water content [mm]\n",
    "    W[0]   = W_0*W_max # initial value of sm [mm]\n",
    "    if irri==True: IRR = [0]*len(d) # daily, water content\n",
    "    else: IRR = IRR_obs\n",
    "    \n",
    "    for t in [i+1 for i in range(len(d)-1)]:\n",
    "        \n",
    "        DOY=d[t].dayofyear\n",
    "        \n",
    "        # Build Kc curve\n",
    "        # Ref. FAO56, Tables 11, 12\n",
    "        START  = 134\n",
    "        Kc_ini = 0.6*Kc0\n",
    "        Kc_mid = 1.15*Kc0\n",
    "        Kc_late= 0.7*Kc0\n",
    "\n",
    "        INI =[x for x in range(START, START+30)] # initial phenological phase\n",
    "        DEV =[x for x in range(START+30, START+30+40)] # development phase\n",
    "        m1  =(Kc_mid-Kc_ini)/40 # daily Kc growth in DEV phase \n",
    "        MID =[x for x in range(START+30+40, START+30+40+45)] # mid phase\n",
    "        LATE=[x for x in range(START+30+40+45, START+30+40+45+30)] # late stage\n",
    "        m2  =(Kc_late-Kc_mid)/30 # daily Kc growth in senescence\n",
    "        \n",
    "        if DOY in INI: Kc=Kc_ini\n",
    "        elif DOY in DEV: Kc=Kc_ini+m1*(DOY-DEV[0])\n",
    "        elif DOY in MID: Kc=Kc_mid\n",
    "        elif DOY in LATE: Kc=Kc_mid+m2*(DOY-LATE[0])\n",
    "        elif DOY>LATE[-1]: Kc=Kc_late\n",
    "        else: Kc=Kc_ini\n",
    "        \n",
    "        # Build Ks curve\n",
    "        rho[t]=rho_st+0.04*(5-Kc*EPOT[t])\n",
    "        if W[t-1]>=(1-rho[t])*W_fc:\n",
    "            Ks[t]=1\n",
    "        elif (W[t-1]>W_w)and(W[t-1]<(1-rho[t])*W_fc):\n",
    "            Ks[t]=float(W[t-1]-W_w)/((1-rho[t])*(W_fc-W_w))\n",
    "        else: Ks[t]=0\n",
    "        \n",
    "        # Irrigation estimate (for summer season only)\n",
    "        # Irrigation is estimated as the amount of water needed from the day\n",
    "        # before to take water content up to field capacity\n",
    "        if irri==True:\n",
    "            if np.logical_and(DOY>START,DOY<START+100): # summer season\n",
    "                if W[t-1]<=(1-rho[t])*W_fc: IRR[t]=W_fc-W[t-1]\n",
    "        \n",
    "        # Water balance [mm]\n",
    "        W[t]=W[t-1]+P[t]+IRR[t]-EPOT[t]*Kc*Ks[t]\n",
    "        \n",
    "        # Computation of deep percolation (water above field capacity)\n",
    "        if W[t]>W_fc:\n",
    "            PS[t]=W[t]-W_fc\n",
    "            W[t]=W_fc\n",
    "            \n",
    "    WW=np.array(W)/W_max\n",
    "    WWsat = pd.DataFrame(timeseries(d,WW)).set_index(0).loc[d_sat][1].values\n",
    "    \n",
    "    # Water Cloud Model\n",
    "    sig0s_dB = C+D*WWsat # sigma0_soil [dB]\n",
    "    T2 = np.exp((-2*B*veg)/np.cos(angle)) # attenuation\n",
    "    sig0v = A*veg*np.cos(angle)*(1-T2) # sigma0_veg [units]\n",
    "    \n",
    "    if units=='lin':\n",
    "        sig0s = db_lin(sig0s_dB) # sigma0_soil [lin]\n",
    "        sig0_lin = T2*sig0s+sig0v # sigma0_tot [lin]\n",
    "        sig0=lin_db(sig0_lin) # sigma0_tot [dB]\n",
    "    elif units=='db':\n",
    "        sig0 = T2*sig0s_dB+sig0v # sigma0_tot [db]\n",
    "    else: raise NameError('Please choose one of the options: lin/db')\n",
    "        \n",
    "    OUT=he.evaluator(he.kge, sig0, VV)\n",
    "    KGE=OUT[0,:];\n",
    "\n",
    "    return [WW,IRR,sig0,KGE]"
   ]
  },
  {
   "cell_type": "markdown",
   "id": "fd861a64-4b2a-4710-b0ca-cb58b617f7e3",
   "metadata": {},
   "source": [
    "# Data pre-processing\n",
    "\n",
    "Input data formatting convention:\n",
    "- ausiliary variables for extraction of data (directory name, file name, etc...)\n",
    "- extraction into pd dataframe\n",
    "- cleaning, resampling: drop unnecessary columns, set index to daily DateIndex\n",
    "\n",
    "**Time resampling consistency**\n",
    "\n",
    "- $\\sigma^0$ values are extracted with a timestamp aaaa-mm-dd hh:mm:ss with frequency 'H' (hourly), then are rounded by `.round()` to the midnight of the nearest day to have frequency 'D' (daily), e.g. a passage at 7 am on 1st july is rounded to 0 am of 1st july, a passage at 7 pm would be rounded at 0 am of 2nd july.\n",
    "- many quantities need to be resampled from hourly to daily datasets: use the `.resample()` method on a dataframe with hourly DatetimeIndex and pass the argument `origin='end_day'`. In this way, for each day X, data are considered between hours 1 and 24(=0 of day X+1) and the timestamp assigned is the one of the day X+1 (on which the operation ends). "
   ]
  },
  {
   "cell_type": "code",
   "execution_count": 6,
   "id": "9a833b08-516a-4ca2-be20-104615d672fd",
   "metadata": {},
   "outputs": [
    {
     "name": "stdout",
     "output_type": "stream",
     "text": [
      "Starting...\n",
      "#-------------------------------------------------------------\n",
      "\n"
     ]
    },
    {
     "name": "stdin",
     "output_type": "stream",
     "text": [
      "Verbose data extraction? (Describe datasets/files) [y/n] n\n"
     ]
    },
    {
     "name": "stdout",
     "output_type": "stream",
     "text": [
      "\n",
      "#-------------SWB model parameters-------------\n"
     ]
    },
    {
     "name": "stdin",
     "output_type": "stream",
     "text": [
      "Do you want to estimate irrigation as well as soil moisture? [y/n] n\n",
      "Do you want to calibrate on year 2017 or 2020? [2017/2020] 2017\n",
      "Daily or hourly frequency? [d/h] d\n"
     ]
    },
    {
     "name": "stdout",
     "output_type": "stream",
     "text": [
      "\n",
      "#-------------WCM model parameters-------------\n"
     ]
    },
    {
     "name": "stdin",
     "output_type": "stream",
     "text": [
      "Calibrate WCM in linear or dB scale (determines scale of A)? [lin/db] lin\n"
     ]
    },
    {
     "name": "stdout",
     "output_type": "stream",
     "text": [
      "\n",
      "#------------Optimization parameters-----------\n"
     ]
    },
    {
     "name": "stdin",
     "output_type": "stream",
     "text": [
      "Any addition to parameters' names? [Type string to add] \n",
      "Number of runs? (10 is min to study distribution of parameters.)  100\n",
      "Number of particles:  10\n",
      "Number of optimization steps:  100\n",
      "Global or Local PSO optimizer? [[global]/local]  \n",
      "Verbose during calibration? [y/n] y\n",
      "Run and save everything automatically? [y/n] y\n"
     ]
    }
   ],
   "source": [
    "print('Starting...\\n'\n",
    "      +'#-------------------------------------------------------------\\n'\n",
    "      #+'Use of satellite-derived SM is provided for comparison, not calibration.\\n'\n",
    "     )\n",
    "verbose = True if input(\"Verbose data extraction? (Describe datasets/files) [y/n]\")=='y' else False\n",
    "\n",
    "params = []; norma = ''\n",
    "\n",
    "print('\\n#-------------SWB model parameters-------------')\n",
    "irri = True if input('Do you want to estimate irrigation as well as soil moisture? [y/n]')=='y' else False\n",
    "year = int(input('Do you want to calibrate on year 2017 or 2020? [2017/2020]'))\n",
    "freq = input('Daily or hourly frequency? [d/h]')\n",
    "\n",
    "print('\\n#-------------WCM model parameters-------------')\n",
    "units = input('Calibrate WCM in linear or dB scale (determines scale of A)? [lin/db]')\n",
    "opt_veg = 'NDVI'\n",
    "\n",
    "print('\\n#------------Optimization parameters-----------')\n",
    "opt_calib = 'sigma0'\n",
    "opt_cost = 'KGE'\n",
    "\n",
    "PAR_str_add = input('Any addition to parameters\\' names? [Type string to add]')\n",
    "nrun = int(input('Number of runs? (10 is min to study distribution of parameters.) '))\n",
    "n_particles = int(input('Number of particles: '))\n",
    "n_step = int(input('Number of optimization steps: '))\n",
    "optim = input('Global or Local PSO optimizer? [[global]/local] ')\n",
    "if optim=='local': norma = 1 if input('Which norm? [l1/l2] ')=='l1' else 2\n",
    "verbose_calib = True if input('Verbose during calibration? [y/n]')=='y' else False\n",
    "automate = True if input('Run and save everything automatically? [y/n]')=='y' else False"
   ]
  },
  {
   "cell_type": "markdown",
   "id": "0bc1cd88-2598-46a2-a392-3fe544e505f5",
   "metadata": {},
   "source": [
    "## IRRmodel\n",
    "\n",
    "Frequency: daily\n",
    "\n",
    "Inputs:\n",
    "- rain (sum, end of day)\n",
    "- et0 (daily)\n",
    "\n",
    "Comparisons:\n",
    "- irrigation (sum, end of day)\n",
    "- soil moisture (mean, end of day)"
   ]
  },
  {
   "cell_type": "raw",
   "id": "7518f591-b3c8-446e-8bf8-be3523089f67",
   "metadata": {},
   "source": [
    "#----------------------------------------------------------------------------\n",
    "# Field data from TEST_SITE\n",
    "# Daily data from 2015 to 2017, various gaps\n",
    "\n",
    "# Data extracted:\n",
    "# - rain (as input SWB)\n",
    "# - EPOT = potential evapotranspiration (as input SWB)\n",
    "\n",
    "namesite = 'ITALY_BUDRIO'\n",
    "siteID = '5'\n",
    "namefig = namesite+'_'+siteID\n",
    "\n",
    "site_df = xr.open_dataset(f'..\\Inputs\\TEST_SITE\\TEST_SITE_{namesite}.nc',\n",
    "                         engine='netcdf4').to_dataframe();\n",
    "site_df = site_df.rename(columns={'Time_days':'Date'})\n",
    "site_df = site_df.set_index('Date')\n",
    "site_df = site_df.loc[:,[col for col in site_df.columns if col.endswith(siteID)]]\n",
    "if verbose: site_df.info()"
   ]
  },
  {
   "cell_type": "code",
   "execution_count": 7,
   "id": "ed47b051-8a92-44ef-ab92-a67b1ba5c5ed",
   "metadata": {},
   "outputs": [],
   "source": [
    "#----------------------------------------------------------------------------\n",
    "# Budrio field data from platinum_df tables\n",
    "\n",
    "# Freq: H\n",
    "# Data extracted:\n",
    "# - SWC (as input SWB/comparison)\n",
    "# - rain (as input SWB)\n",
    "# - irrigation (as input SWB)\n",
    "# - temperature (as input SWB, ET0 estimate)\n",
    "\n",
    "platinum_df = pd.ExcelFile('..\\Inputs\\Platinum_Budrio.xlsx', engine='openpyxl')\n",
    "if year==2017: sheet='2017_1h'\n",
    "if year==2020: sheet='2020_1h'\n",
    "platinum_df = platinum_df.parse(sheet)\n",
    "# platinum_df = pd.concat([platinum_df.parse('2017_1h'), platinum_df.parse('2020_1h')])\n",
    "\n",
    "# Column 'Date' contains date+hour = hourly information\n",
    "# Column 'Data' contains only date = daily information\n",
    "platinum_df['Ora_1'] = pd.to_datetime(platinum_df['Ora'].astype('str')).apply(lambda x: x.time())\n",
    "platinum_df['Data_1'] = pd.to_datetime(platinum_df['Data'].astype('str')).apply(lambda x: x.date())\n",
    "platinum_df['Datetime'] = platinum_df.apply(lambda r : dtt.datetime.combine(r['Data_1'],r['Ora_1']),1)\n",
    "platinum_df = platinum_df.drop(['ID', 'Data', 'Ora', 'Data_1', 'Ora_1', '214Pb[cps]'],axis=1)\n",
    "platinum_df = platinum_df.set_index('Datetime')\n",
    "platinum_resampled = platinum_df.resample('D', origin='end_day')\n",
    "if verbose: platinum_df.info()"
   ]
  },
  {
   "cell_type": "raw",
   "id": "278737fd-6a13-4979-bb58-b6a5ee20f303",
   "metadata": {},
   "source": [
    "#----------------------------------------------------------------------------\n",
    "# Budrio field data from meteo tables\n",
    "\n",
    "# Freq: H\n",
    "# Data extracted:\n",
    "# none\n",
    "# Needed for eto from FAO PM \n",
    "\n",
    "meteo_df = pd.ExcelFile('..\\Inputs\\Budrio_Meteo.xlsx', engine='openpyxl')\n",
    "meteo_df = meteo_df.parse(str(year))\n",
    "# meteo_df = pd.concat([meteo_df.parse('2017'), meteo_df.parse('2020')]).set_index('ID')\n",
    "\n",
    "# Column 'Date' contains date+hour = hourly information\n",
    "meteo_df['Datetime'] = meteo_df.apply(lambda r : dtt.datetime.combine(r['Data'],r['Ora']),1)\n",
    "meteo_df = meteo_df.set_index('Datetime')\n",
    "meteo_df = meteo_df.drop(['Data', 'Ora'],axis=1)\n",
    "\n",
    "if verbose: meteo_df.info()\n",
    "# meteo_df.head()"
   ]
  },
  {
   "cell_type": "raw",
   "id": "4759159c-5659-43bb-a607-0e0bb1a0c1fa",
   "metadata": {},
   "source": [
    "# Budrio database\n",
    "# Freq: H\n",
    "# Merging of Platinum+Meteo\n",
    "\n",
    "meteo_h = pd.merge(right=platinum_df, left=meteo_df, on='Datetime')\n",
    "if verbose: meteo_h.info()"
   ]
  },
  {
   "cell_type": "markdown",
   "id": "2db763eb-82db-40b8-bfa9-64b54fd081d5",
   "metadata": {},
   "source": [
    "After long and deep thinking \\\n",
    "and at least ten coffee drinking \\\n",
    "I have reached the conclusion \\\n",
    "that the best possible solution \\\n",
    "for the inputs' database \\\n",
    "is in fact the easiest case: \\\n",
    "take each column as it is, \\\n",
    "resample, sum or take the mean, \\\n",
    "give a name to every one \\\n",
    "and please take it easy for once!"
   ]
  },
  {
   "cell_type": "code",
   "execution_count": 8,
   "id": "1d933426-2b44-4844-9382-83f67a3cd906",
   "metadata": {},
   "outputs": [],
   "source": [
    "# Build inputs as timeseries (using the nominal function)\n",
    "# timeseries(dates, data) -> matrix[columns={dates, data}]"
   ]
  },
  {
   "cell_type": "raw",
   "id": "b50967a1-ca2d-4ba3-b429-909eb0e04c0b",
   "metadata": {},
   "source": [
    "# ET0 calculation\n",
    "\n",
    "import datetime\n",
    "import sys\n",
    "\n",
    "sys.path.append('../')\n",
    "from modules.pyeto.pyeto import *\n",
    "\n",
    "def hargre(lat_deg, dates, temp_min, temp_max, temp_mean):\n",
    "    \"\"\"Hargreaves-Samani model for ET0 estimation from temperature input.\n",
    "    \n",
    "    Params\n",
    "    ------\n",
    "    - lat_deg: float\n",
    "    - dates: timestamp\n",
    "    - temp_*: float\n",
    "    \n",
    "    \"\"\"\n",
    "    lat = deg2rad(lat_deg)  # Convert latitude in degrees to radians\n",
    "    day_of_year = dates.dayofyear\n",
    "    sol_decli = sol_dec(day_of_year) # Solar declination\n",
    "    sha = sunset_hour_angle(lat, sol_decli)\n",
    "    ird = inv_rel_dist_earth_sun(day_of_year)\n",
    "    et_radia = et_rad(lat, sol_decli, sha, ird) # Extraterrestrial radiation\n",
    "    return hargreaves(temp_min, temp_max, temp_mean, et_radia)"
   ]
  },
  {
   "cell_type": "code",
   "execution_count": 9,
   "id": "3c35f562-74d4-4a25-9549-e5192f44a9e3",
   "metadata": {},
   "outputs": [],
   "source": [
    "from IRRI_WCM.EPOT_Hargreaves_pyeto import *\n",
    "\n",
    "lat_deg = 44.570842547510622 # latitude of Budrio (deg)\n",
    "temp_min = platinum_resampled.min()['Temperatura[°C]'].values\n",
    "temp_max = platinum_resampled.max()['Temperatura[°C]'].values\n",
    "temp_mean = platinum_resampled.mean()['Temperatura[°C]'].values\n",
    "dates = platinum_resampled.asfreq().index\n",
    "eto = timeseries( dates,\n",
    "                 [ hargre(lat_deg, dates[i] , temp_min[i], temp_max[i], temp_mean[i])\n",
    "                  for i in range(len(dates)) ] )\n",
    "eto_df = pd.DataFrame(eto).rename(columns={0:'Date',1:'EPOT'}).set_index('Date')\n",
    "if verbose: eto_df.info()"
   ]
  },
  {
   "cell_type": "markdown",
   "id": "bf9352b7-f450-434b-b9e6-4abbf26a4529",
   "metadata": {},
   "source": [
    "## WCM\n",
    "\n",
    "Frequency: multi-daily\n",
    "\n",
    "Inputs:\n",
    "- $\\sigma^0$, $\\theta$ (hourly, rounded to nearest midnight)\n",
    "- vegetation descriptors (NDVI, LAI, CR) (average, daily)"
   ]
  },
  {
   "cell_type": "code",
   "execution_count": 10,
   "id": "b89b83e5-b2e3-4471-8992-670220106367",
   "metadata": {},
   "outputs": [],
   "source": [
    "#----------------------------------------------------------------------------\n",
    "# Sigma0 values\n",
    "\n",
    "# Freq: D\n",
    "# Daily values of backscattering from 2014 to 2022 (complete S1 series)\n",
    "# Data extracted:\n",
    "# - sigma0 values, VV and VH\n",
    "# - angle of incidence of reference orbit (nearest to 40°)\n",
    "\n",
    "sigma_df = pd.read_csv('..\\Data\\\\budrio-half.csv', delimiter='\\t');\n",
    "sigma_df['Datetime'] = sigma_df.Date.apply(lambda x : pd.to_datetime(x))\n",
    "sigma_df.Date = sigma_df.Date.apply(lambda x : pd.to_datetime(x).round(freq='D'))\n",
    "sigma_df = sigma_df.set_index('Date')\n",
    "if verbose: sigma_df.info()"
   ]
  },
  {
   "cell_type": "code",
   "execution_count": 11,
   "id": "bd97cc71-6101-4dee-a105-9b2f58a17dd7",
   "metadata": {},
   "outputs": [
    {
     "data": {
      "text/plain": [
       "41.278799295425415"
      ]
     },
     "execution_count": 11,
     "metadata": {},
     "output_type": "execute_result"
    }
   ],
   "source": [
    "sigma_df.loc[sigma_df.Orb==95]['Angle[°]'].mean()"
   ]
  },
  {
   "cell_type": "code",
   "execution_count": 12,
   "id": "00514d98-f794-4371-8da1-d208dc3cb873",
   "metadata": {},
   "outputs": [],
   "source": [
    "sigma_df['Angle[°]'] = sigma_df['Angle[°]'].apply(lambda x : 41.278799295425415)"
   ]
  },
  {
   "cell_type": "code",
   "execution_count": 13,
   "id": "50f74907-9947-4070-9e27-5fdca01d4943",
   "metadata": {},
   "outputs": [],
   "source": [
    "#----------------------------------------------------------------------------\n",
    "# NDVI values\n",
    "\n",
    "# Freq: D\n",
    "# Daily values of NDVI from 2017-4-24 to 2023-1-13 (complete S2 series)\n",
    "# Data extracted:\n",
    "# - NDVI (daily, interpolated)\n",
    "\n",
    "ndvi_df = pd.read_csv('..\\Data\\\\budrio-half_NDVI.csv', delimiter='\\t');\n",
    "ndvi_df.Date = ndvi_df.Date.apply(lambda x : pd.to_datetime(x))\n",
    "ndvi_df = ndvi_df.set_index('Date')\n",
    "if verbose: ndvi_df.info()"
   ]
  },
  {
   "cell_type": "markdown",
   "id": "1ade4329-842f-40d5-b0e2-15d9fa8b2dcc",
   "metadata": {},
   "source": [
    "# Input data"
   ]
  },
  {
   "cell_type": "code",
   "execution_count": 14,
   "id": "144d6672-4670-4eed-9681-36416f5e7a0c",
   "metadata": {},
   "outputs": [],
   "source": [
    "# Input SWB\n",
    "# Frequency: daily\n",
    "# Data:\n",
    "# - rain (sum, end of day) from platinum_resampled\n",
    "# - eto (daily) from eto_df\n",
    "\n",
    "if freq=='d':\n",
    "    input_swb = pd.merge(right=eto_df, left=platinum_resampled.sum(),\n",
    "                     right_on='Date', left_on='Datetime', right_index=True)\\\n",
    "                    .drop(['SWC[m3/m3]','Temperatura[°C]'], axis=1)\n",
    "    input_swb['SWC[m3/m3]'] = platinum_resampled.mean()['SWC[m3/m3]']\n",
    "    if verbose: input_swb.info()\n",
    "\n",
    "# Input SWB\n",
    "# Frequency: hourly\n",
    "# Data:\n",
    "# - rain (hourly) from platinum_df, linear interpolation\n",
    "# - irrigation (hourly) from platinum_df\n",
    "# - eto (daily) from eto_df, up-resampled hourly with linear interpolation\n",
    "\n",
    "elif freq=='h':\n",
    "    eto_df_h = eto_df.resample('H').asfreq().interpolate(method='linear')\n",
    "    input_swb = pd.merge(right=eto_df_h, left=platinum_df,\n",
    "                         right_on='Date', left_on='Datetime', right_index=True)\\\n",
    "                        .drop(['Temperatura[°C]'], axis=1)\n",
    "    input_swb['Pioggia[mm]'].interpolate(method='linear',inplace=True)\n",
    "    if verbose: input_swb.info()"
   ]
  },
  {
   "cell_type": "markdown",
   "id": "6e6ee9fc-521b-4963-afa6-89a50fb10786",
   "metadata": {},
   "source": [
    "Let me make another coffee \\\n",
    "as I'd like to tell you a story: \\\n",
    "there was a warrior once \\\n",
    "that rode a python through the lands \\\n",
    "and everywhere she went \\\n",
    "her model could converge \\\n",
    "until an error rose from the hourly database \\\n",
    "ruby red, spitting fire, with three heads: \\\n",
    "all the particles were lost, with no \\\n",
    "position, velocity, energy or goal. \\\n",
    "But then the sky was opened by a shear of light: \\\n",
    "\"Beware, my dear,\" - a deep voice rumbled - \\\n",
    "\"of nans: your guard shoul always be up \\\n",
    "against missing input values! \\\n",
    "And don't you dare dropna: \\\n",
    "linearly interpolate, as you must!\"\n",
    "\n",
    "---\n",
    "**ChatGPT upgrade in ironic, old-english style**\n",
    "\n",
    "Verily, 'tis a tale most curious, \\\n",
    "Of a warrior bold and fierce, \\\n",
    "Who rode upon a serpent thus, \\\n",
    "And traversed the lands without a peer. \n",
    " \n",
    "But lo, a glitch did arise, \\\n",
    "In her model's calculations grand, \\\n",
    "A ruby-red error did surprise, \\\n",
    "With three heads, spitting fire like a dragon. \n",
    " \n",
    "All particles were lost, astray, \\\n",
    "With nary a position or a goal, \\\n",
    "The sky did open in a blaze, \\\n",
    "And a voice, deep and ominous, did toll: \n",
    " \n",
    "\"Beware, O warrior fair, \\\n",
    "Of nans, for they are most vile, \\\n",
    "Let thy guard ever be aware, \\\n",
    "Against missing input values all the while.\" \n",
    " \n",
    "And so the warrior did learn, \\\n",
    "To keep a watchful eye, \\\n",
    "And with her python did return, \\\n",
    "To conquer all the lands, high and dry. \n",
    " \n",
    "Pray, heed the lesson well, \\\n",
    "For nans are ever present, \\\n",
    "And a vigilant guard, doth tell, \\\n",
    "Of victory, most evident. "
   ]
  },
  {
   "cell_type": "code",
   "execution_count": 15,
   "id": "38205ba7-4619-4c07-9efe-31119b64ed3f",
   "metadata": {},
   "outputs": [
    {
     "name": "stdout",
     "output_type": "stream",
     "text": [
      "<class 'pandas.core.frame.DataFrame'>\n",
      "DatetimeIndex: 1150 entries, 2014-10-12 to 2022-11-28\n",
      "Data columns (total 10 columns):\n",
      " #   Column       Non-Null Count  Dtype         \n",
      "---  ------       --------------  -----         \n",
      " 0   NDVI         916 non-null    float64       \n",
      " 1   Geometry_x   916 non-null    object        \n",
      " 2   Angle[°]     1150 non-null   float64       \n",
      " 3   Geometry_y   1150 non-null   object        \n",
      " 4   Orb          1150 non-null   int64         \n",
      " 5   Pass         1150 non-null   object        \n",
      " 6   VV_norm[dB]  1150 non-null   float64       \n",
      " 7   VH_norm[dB]  1150 non-null   float64       \n",
      " 8   CR           1150 non-null   float64       \n",
      " 9   Datetime     1150 non-null   datetime64[ns]\n",
      "dtypes: datetime64[ns](1), float64(5), int64(1), object(3)\n",
      "memory usage: 98.8+ KB\n"
     ]
    }
   ],
   "source": [
    "# Input WCM\n",
    "# Frequency: daily\n",
    "# Data:\n",
    "# - sigma0 (multi-daily, rounded at nearest midnight)\n",
    "# - NDVI (daily, interpolated)\n",
    "# Merging is performed without any time offset, considering that the change\n",
    "# in ndvi values anywhere is very small from one day to another \n",
    "\n",
    "input_wcm_sat = pd.merge(right=sigma_df, left=ndvi_df, on='Date', how='right')\n",
    "input_wcm_sat.info()"
   ]
  },
  {
   "cell_type": "code",
   "execution_count": 16,
   "id": "7ea50251-5a3b-4533-b967-a724337304ca",
   "metadata": {},
   "outputs": [
    {
     "name": "stdout",
     "output_type": "stream",
     "text": [
      "\n",
      "NDVI values are limited below at the 24 of april 2017, so they arebackward propagated for 30 days in order to cover the whole Budrio period. There is a gap in SWC values: this gap is not interpolated but is used toeliminate those days with nan SM values from the days of passage of thesatellite.\n",
      "\n"
     ]
    }
   ],
   "source": [
    "input_wcm = pd.merge(right=input_wcm_sat, left=platinum_df, on='Datetime',\n",
    "                     how='inner')\\\n",
    "            .drop(['Pioggia[mm]','Irrigazione[mm]','Temperatura[°C]',\n",
    "                   'Geometry_x'], axis=1)\\\n",
    "            .rename(columns={'SWC[m3/m3]':'SWC_h', 'Geometry_y':'Geometry',\n",
    "                             'VV_norm[dB]':'VV', 'VH_norm[dB]':'VH', 'Angle[°]':'Angle'})\n",
    "\n",
    "#----------------------------------------------------------------------------\n",
    "# Convenience method for printing labels of columns that are interpolated\n",
    "# only on the basis of their length being less than the length of the df,\n",
    "# and not taking into consideration if they are being interpolated or extr\n",
    "\n",
    "# print('The following columns will be interpolated: '\n",
    "#       +f'{[x for x in input_wcm if len(input_wcm[x].dropna())<len(input_wcm)]}\\n')\n",
    "# if input('Proceed? [y/n]')!='y':\n",
    "#      raise NameError('Stop and stare! I think I\\'m going but I don\\'t know where!')\n",
    "#----------------------------------------------------------------------------\n",
    "\n",
    "print(\n",
    "    '\\nNDVI values are limited below at the 24 of april 2017, so they are'+\n",
    "    'backward propagated for 30 days in order to cover the whole Budrio period.'+\n",
    "    ' There is a gap in SWC values: this gap is not interpolated but is used to'+\n",
    "    'eliminate those days with nan SM values from the days of passage of the'+\n",
    "    'satellite.\\n'\n",
    ")\n",
    "input_wcm.NDVI.interpolate(method='bfill',\n",
    "                           limit_direction='backward',\n",
    "                           limit=30,\n",
    "                           # limit_area='inside', # THIS WORKS VERY BADLY IN EVERY WAY\n",
    "                           inplace=True)\n",
    "if freq=='d': input_wcm.index = input_wcm.Datetime.round('D')\n",
    "elif freq=='h': input_wcm.index = input_wcm.Datetime\n",
    "input_wcm.dropna(inplace=True)\n",
    "if verbose: input_wcm.info()"
   ]
  },
  {
   "cell_type": "code",
   "execution_count": 17,
   "id": "58058cda-e450-495f-8e0c-b9c4508ed18a",
   "metadata": {},
   "outputs": [],
   "source": [
    "# List of 2017 and 2020 dates\n",
    "\n",
    "# Complete days in 2017, 2020\n",
    "t = [x for x in input_swb.index if x.year==year]\n",
    "     \n",
    "# Days of passage of satellite, intersect with complete days\n",
    "set1 = {x for x in input_swb.index}; set2 = {x for x in input_wcm.index};\n",
    "intersect = np.sort(np.array([*set1.intersection(set2)]))\n",
    "t_sat = [x for x in intersect if x.year==year]"
   ]
  },
  {
   "cell_type": "code",
   "execution_count": 18,
   "id": "b028ba1c-177b-43b6-a059-25a497534657",
   "metadata": {},
   "outputs": [],
   "source": [
    "P       = input_swb.loc[t]['Pioggia[mm]'] # [mm]\n",
    "IRR_obs = input_swb.loc[t]['Irrigazione[mm]'] # [mm]\n",
    "EPOT    = input_swb.loc[t]['EPOT'] # [mm/day]\n",
    "WW_obs  = input_swb.loc[t]['SWC[m3/m3]'] # daily mean or hourly, with gaps\n",
    "WW_sat  = input_wcm.loc[t_sat]['SWC_h'] # punctual at hour (observed) [m3/m3]\n",
    "veg     = input_wcm.loc[t_sat]['NDVI'] # [-]\n",
    "theta   = input_wcm.loc[t_sat]['Angle'] # [°]\n",
    "VV      = input_wcm.loc[t_sat]['VV'] # [dB]\n",
    "VH      = input_wcm.loc[t_sat]['VH'] # [dB]\n",
    "CR      = input_wcm.loc[t_sat]['CR'] # [-]"
   ]
  },
  {
   "cell_type": "code",
   "execution_count": 19,
   "id": "76f4cc66-3d2a-4932-8b12-47b2918ebffe",
   "metadata": {},
   "outputs": [
    {
     "data": {
      "image/png": "[encoded data removed]",
      "text/plain": [
       "<Figure size 432x288 with 1 Axes>"
      ]
     },
     "metadata": {
      "needs_background": "light"
     },
     "output_type": "display_data"
    },
    {
     "data": {
      "image/png": "[encoded data removed]",
      "text/plain": [
       "<Figure size 432x288 with 1 Axes>"
      ]
     },
     "metadata": {
      "needs_background": "light"
     },
     "output_type": "display_data"
    }
   ],
   "source": [
    "for x in [P,IRR_obs,EPOT,VV,VH,CR]: plt.plot(x)\n",
    "plt.show()\n",
    "for x in [veg,WW_obs,WW_sat]: plt.plot(x)"
   ]
  },
  {
   "cell_type": "markdown",
   "id": "dc2ae21d-96b2-4548-ad27-e2b7871d86da",
   "metadata": {},
   "source": [
    "# Calibration SWB+WCM"
   ]
  },
  {
   "cell_type": "code",
   "execution_count": 20,
   "id": "453652eb-05ce-4800-b355-2fdd5e1d9d89",
   "metadata": {},
   "outputs": [
    {
     "name": "stderr",
     "output_type": "stream",
     "text": [
      "2023-02-02 08:17:48,674 - pyswarms.single.global_best - INFO - Optimize for 100 iters with {'c1': 2.05, 'c2': 2.05, 'w': 0.6}\n"
     ]
    },
    {
     "name": "stdout",
     "output_type": "stream",
     "text": [
      "Starting calibration...\n",
      "#-------------------------------------------------------------\n",
      "\n"
     ]
    },
    {
     "name": "stderr",
     "output_type": "stream",
     "text": [
      "pyswarms.single.global_best: 100%|████████████████████████████████████████████████████████████|100/100, best_cost=0.382\n",
      "2023-02-02 08:18:05,609 - pyswarms.single.global_best - INFO - Optimization finished | best cost: 0.3818248627267886, best pos: [  0.34955776   0.79751203 -13.92763944  23.85455323  18.51314731\n",
      "   0.36022126   0.11460899   0.18388303   0.70489021]\n",
      "2023-02-02 08:18:05,633 - pyswarms.single.global_best - INFO - Optimize for 100 iters with {'c1': 2.05, 'c2': 2.05, 'w': 0.6}\n",
      "pyswarms.single.global_best:  13%|███████▉                                                     |13/100, best_cost=0.471\n"
     ]
    },
    {
     "ename": "KeyboardInterrupt",
     "evalue": "",
     "output_type": "error",
     "traceback": [
      "\u001b[1;31m---------------------------------------------------------------------------\u001b[0m",
      "\u001b[1;31mKeyboardInterrupt\u001b[0m                         Traceback (most recent call last)",
      "Input \u001b[1;32mIn [20]\u001b[0m, in \u001b[0;36m<cell line: 41>\u001b[1;34m()\u001b[0m\n\u001b[0;32m     55\u001b[0m         optimizer \u001b[38;5;241m=\u001b[39m ps\u001b[38;5;241m.\u001b[39msingle\u001b[38;5;241m.\u001b[39mLocalBestPSO(n_particles\u001b[38;5;241m=\u001b[39mn_particles,\n\u001b[0;32m     56\u001b[0m                                            dimensions\u001b[38;5;241m=\u001b[39m\u001b[38;5;28mlen\u001b[39m(PAR),\n\u001b[0;32m     57\u001b[0m                                            options\u001b[38;5;241m=\u001b[39moptions,\n\u001b[1;32m   (...)\u001b[0m\n\u001b[0;32m     60\u001b[0m                                                          \u001b[38;5;124m'\u001b[39m\u001b[38;5;124mc1\u001b[39m\u001b[38;5;124m'\u001b[39m:\u001b[38;5;124m'\u001b[39m\u001b[38;5;124mlin_variation\u001b[39m\u001b[38;5;124m'\u001b[39m,\n\u001b[0;32m     61\u001b[0m                                                          \u001b[38;5;124m'\u001b[39m\u001b[38;5;124mc2\u001b[39m\u001b[38;5;124m'\u001b[39m:\u001b[38;5;124m'\u001b[39m\u001b[38;5;124mlin_variation\u001b[39m\u001b[38;5;124m'\u001b[39m})\n\u001b[0;32m     62\u001b[0m     \u001b[38;5;28;01melse\u001b[39;00m: \u001b[38;5;28;01mraise\u001b[39;00m \u001b[38;5;167;01mNameError\u001b[39;00m(\u001b[38;5;124m'\u001b[39m\u001b[38;5;124mPlease provide an accepted option.\u001b[39m\u001b[38;5;124m'\u001b[39m)\n\u001b[1;32m---> 64\u001b[0m     cost, PARn \u001b[38;5;241m=\u001b[39m \u001b[43moptimizer\u001b[49m\u001b[38;5;241;43m.\u001b[39;49m\u001b[43moptimize\u001b[49m\u001b[43m(\u001b[49m\u001b[43mpso_calib_irri\u001b[49m\u001b[43m,\u001b[49m\u001b[43m \u001b[49m\u001b[43mn_step\u001b[49m\u001b[43m,\u001b[49m\u001b[43m \u001b[49m\u001b[43mverbose\u001b[49m\u001b[38;5;241;43m=\u001b[39;49m\u001b[43mverbose_calib\u001b[49m\u001b[43m)\u001b[49m\u001b[38;5;66;03m#, **PAR)\u001b[39;00m\n\u001b[0;32m     65\u001b[0m     params\u001b[38;5;241m.\u001b[39mappend(PARn)\n\u001b[0;32m     67\u001b[0m end \u001b[38;5;241m=\u001b[39m time\u001b[38;5;241m.\u001b[39mtime()\n",
      "File \u001b[1;32mC:\\Anaconda3\\envs\\satellite\\lib\\site-packages\\pyswarms\\single\\global_best.py:209\u001b[0m, in \u001b[0;36mGlobalBestPSO.optimize\u001b[1;34m(self, objective_func, iters, n_processes, verbose, **kwargs)\u001b[0m\n\u001b[0;32m    205\u001b[0m ftol_history \u001b[38;5;241m=\u001b[39m deque(maxlen\u001b[38;5;241m=\u001b[39m\u001b[38;5;28mself\u001b[39m\u001b[38;5;241m.\u001b[39mftol_iter)\n\u001b[0;32m    206\u001b[0m \u001b[38;5;28;01mfor\u001b[39;00m i \u001b[38;5;129;01min\u001b[39;00m \u001b[38;5;28mself\u001b[39m\u001b[38;5;241m.\u001b[39mrep\u001b[38;5;241m.\u001b[39mpbar(iters, \u001b[38;5;28mself\u001b[39m\u001b[38;5;241m.\u001b[39mname) \u001b[38;5;28;01mif\u001b[39;00m verbose \u001b[38;5;28;01melse\u001b[39;00m \u001b[38;5;28mrange\u001b[39m(iters):\n\u001b[0;32m    207\u001b[0m     \u001b[38;5;66;03m# Compute cost for current position and personal best\u001b[39;00m\n\u001b[0;32m    208\u001b[0m     \u001b[38;5;66;03m# fmt: off\u001b[39;00m\n\u001b[1;32m--> 209\u001b[0m     \u001b[38;5;28mself\u001b[39m\u001b[38;5;241m.\u001b[39mswarm\u001b[38;5;241m.\u001b[39mcurrent_cost \u001b[38;5;241m=\u001b[39m compute_objective_function(\u001b[38;5;28mself\u001b[39m\u001b[38;5;241m.\u001b[39mswarm, objective_func, pool\u001b[38;5;241m=\u001b[39mpool, \u001b[38;5;241m*\u001b[39m\u001b[38;5;241m*\u001b[39mkwargs)\n\u001b[0;32m    210\u001b[0m     \u001b[38;5;28mself\u001b[39m\u001b[38;5;241m.\u001b[39mswarm\u001b[38;5;241m.\u001b[39mpbest_pos, \u001b[38;5;28mself\u001b[39m\u001b[38;5;241m.\u001b[39mswarm\u001b[38;5;241m.\u001b[39mpbest_cost \u001b[38;5;241m=\u001b[39m compute_pbest(\u001b[38;5;28mself\u001b[39m\u001b[38;5;241m.\u001b[39mswarm)\n\u001b[0;32m    211\u001b[0m     \u001b[38;5;66;03m# Set best_cost_yet_found for ftol\u001b[39;00m\n",
      "File \u001b[1;32mC:\\Anaconda3\\envs\\satellite\\lib\\site-packages\\pyswarms\\backend\\operators.py:239\u001b[0m, in \u001b[0;36mcompute_objective_function\u001b[1;34m(swarm, objective_func, pool, **kwargs)\u001b[0m\n\u001b[0;32m    214\u001b[0m \u001b[38;5;124;03m\"\"\"Evaluate particles using the objective function\u001b[39;00m\n\u001b[0;32m    215\u001b[0m \n\u001b[0;32m    216\u001b[0m \u001b[38;5;124;03mThis method evaluates each particle in the swarm according to the objective\u001b[39;00m\n\u001b[1;32m   (...)\u001b[0m\n\u001b[0;32m    236\u001b[0m \u001b[38;5;124;03m    Cost-matrix for the given swarm\u001b[39;00m\n\u001b[0;32m    237\u001b[0m \u001b[38;5;124;03m\"\"\"\u001b[39;00m\n\u001b[0;32m    238\u001b[0m \u001b[38;5;28;01mif\u001b[39;00m pool \u001b[38;5;129;01mis\u001b[39;00m \u001b[38;5;28;01mNone\u001b[39;00m:\n\u001b[1;32m--> 239\u001b[0m     \u001b[38;5;28;01mreturn\u001b[39;00m objective_func(swarm\u001b[38;5;241m.\u001b[39mposition, \u001b[38;5;241m*\u001b[39m\u001b[38;5;241m*\u001b[39mkwargs)\n\u001b[0;32m    240\u001b[0m \u001b[38;5;28;01melse\u001b[39;00m:\n\u001b[0;32m    241\u001b[0m     results \u001b[38;5;241m=\u001b[39m pool\u001b[38;5;241m.\u001b[39mmap(\n\u001b[0;32m    242\u001b[0m         partial(objective_func, \u001b[38;5;241m*\u001b[39m\u001b[38;5;241m*\u001b[39mkwargs),\n\u001b[0;32m    243\u001b[0m         np\u001b[38;5;241m.\u001b[39marray_split(swarm\u001b[38;5;241m.\u001b[39mposition, pool\u001b[38;5;241m.\u001b[39m_processes),\n\u001b[0;32m    244\u001b[0m     )\n",
      "Input \u001b[1;32mIn [2]\u001b[0m, in \u001b[0;36mpso_calib_irri\u001b[1;34m(PAR)\u001b[0m\n\u001b[0;32m      6\u001b[0m err \u001b[38;5;241m=\u001b[39m np\u001b[38;5;241m.\u001b[39mzeros(n_particles)\n\u001b[0;32m      7\u001b[0m \u001b[38;5;28;01mfor\u001b[39;00m i \u001b[38;5;129;01min\u001b[39;00m \u001b[38;5;28mrange\u001b[39m(n_particles):\n\u001b[1;32m----> 8\u001b[0m     WW,IRR,sig0,KGE \u001b[38;5;241m=\u001b[39m \u001b[43mIRR_WCM\u001b[49m\u001b[43m(\u001b[49m\u001b[43mPAR\u001b[49m\u001b[43m[\u001b[49m\u001b[43mi\u001b[49m\u001b[43m]\u001b[49m\u001b[43m,\u001b[49m\u001b[43m \u001b[49m\u001b[43minputs\u001b[49m\u001b[43m,\u001b[49m\u001b[43m \u001b[49m\u001b[43muser_in\u001b[49m\u001b[43m)\u001b[49m\n\u001b[0;32m      9\u001b[0m     err[i] \u001b[38;5;241m=\u001b[39m \u001b[38;5;241m1\u001b[39m \u001b[38;5;241m-\u001b[39m KGE\n\u001b[0;32m     10\u001b[0m \u001b[38;5;28;01mreturn\u001b[39;00m err\n",
      "Input \u001b[1;32mIn [4]\u001b[0m, in \u001b[0;36mIRR_WCM\u001b[1;34m(PAR, inputs, user_in)\u001b[0m\n\u001b[0;32m     98\u001b[0m         W[t]\u001b[38;5;241m=\u001b[39mW_fc\n\u001b[0;32m    100\u001b[0m WW\u001b[38;5;241m=\u001b[39mnp\u001b[38;5;241m.\u001b[39marray(W)\u001b[38;5;241m/\u001b[39mW_max\n\u001b[1;32m--> 101\u001b[0m WWsat \u001b[38;5;241m=\u001b[39m \u001b[43mpd\u001b[49m\u001b[38;5;241;43m.\u001b[39;49m\u001b[43mDataFrame\u001b[49m\u001b[43m(\u001b[49m\u001b[43mtimeseries\u001b[49m\u001b[43m(\u001b[49m\u001b[43md\u001b[49m\u001b[43m,\u001b[49m\u001b[43mWW\u001b[49m\u001b[43m)\u001b[49m\u001b[43m)\u001b[49m\u001b[38;5;241m.\u001b[39mset_index(\u001b[38;5;241m0\u001b[39m)\u001b[38;5;241m.\u001b[39mloc[d_sat][\u001b[38;5;241m1\u001b[39m]\u001b[38;5;241m.\u001b[39mvalues\n\u001b[0;32m    103\u001b[0m \u001b[38;5;66;03m# Water Cloud Model\u001b[39;00m\n\u001b[0;32m    104\u001b[0m sig0s_dB \u001b[38;5;241m=\u001b[39m C\u001b[38;5;241m+\u001b[39mD\u001b[38;5;241m*\u001b[39mWWsat \u001b[38;5;66;03m# sigma0_soil [dB]\u001b[39;00m\n",
      "File \u001b[1;32mC:\\Anaconda3\\envs\\satellite\\lib\\site-packages\\pandas\\core\\frame.py:721\u001b[0m, in \u001b[0;36mDataFrame.__init__\u001b[1;34m(self, data, index, columns, dtype, copy)\u001b[0m\n\u001b[0;32m    716\u001b[0m     \u001b[38;5;28;01mif\u001b[39;00m columns \u001b[38;5;129;01mis\u001b[39;00m \u001b[38;5;129;01mnot\u001b[39;00m \u001b[38;5;28;01mNone\u001b[39;00m:\n\u001b[0;32m    717\u001b[0m         \u001b[38;5;66;03m# error: Argument 1 to \"ensure_index\" has incompatible type\u001b[39;00m\n\u001b[0;32m    718\u001b[0m         \u001b[38;5;66;03m# \"Collection[Any]\"; expected \"Union[Union[Union[ExtensionArray,\u001b[39;00m\n\u001b[0;32m    719\u001b[0m         \u001b[38;5;66;03m# ndarray], Index, Series], Sequence[Any]]\"\u001b[39;00m\n\u001b[0;32m    720\u001b[0m         columns \u001b[38;5;241m=\u001b[39m ensure_index(columns)  \u001b[38;5;66;03m# type: ignore[arg-type]\u001b[39;00m\n\u001b[1;32m--> 721\u001b[0m     arrays, columns, index \u001b[38;5;241m=\u001b[39m \u001b[43mnested_data_to_arrays\u001b[49m\u001b[43m(\u001b[49m\n\u001b[0;32m    722\u001b[0m \u001b[43m        \u001b[49m\u001b[38;5;66;43;03m# error: Argument 3 to \"nested_data_to_arrays\" has incompatible\u001b[39;49;00m\n\u001b[0;32m    723\u001b[0m \u001b[43m        \u001b[49m\u001b[38;5;66;43;03m# type \"Optional[Collection[Any]]\"; expected \"Optional[Index]\"\u001b[39;49;00m\n\u001b[0;32m    724\u001b[0m \u001b[43m        \u001b[49m\u001b[43mdata\u001b[49m\u001b[43m,\u001b[49m\n\u001b[0;32m    725\u001b[0m \u001b[43m        \u001b[49m\u001b[43mcolumns\u001b[49m\u001b[43m,\u001b[49m\n\u001b[0;32m    726\u001b[0m \u001b[43m        \u001b[49m\u001b[43mindex\u001b[49m\u001b[43m,\u001b[49m\u001b[43m  \u001b[49m\u001b[38;5;66;43;03m# type: ignore[arg-type]\u001b[39;49;00m\n\u001b[0;32m    727\u001b[0m \u001b[43m        \u001b[49m\u001b[43mdtype\u001b[49m\u001b[43m,\u001b[49m\n\u001b[0;32m    728\u001b[0m \u001b[43m    \u001b[49m\u001b[43m)\u001b[49m\n\u001b[0;32m    729\u001b[0m     mgr \u001b[38;5;241m=\u001b[39m arrays_to_mgr(\n\u001b[0;32m    730\u001b[0m         arrays,\n\u001b[0;32m    731\u001b[0m         columns,\n\u001b[1;32m   (...)\u001b[0m\n\u001b[0;32m    734\u001b[0m         typ\u001b[38;5;241m=\u001b[39mmanager,\n\u001b[0;32m    735\u001b[0m     )\n\u001b[0;32m    736\u001b[0m \u001b[38;5;28;01melse\u001b[39;00m:\n",
      "File \u001b[1;32mC:\\Anaconda3\\envs\\satellite\\lib\\site-packages\\pandas\\core\\internals\\construction.py:519\u001b[0m, in \u001b[0;36mnested_data_to_arrays\u001b[1;34m(data, columns, index, dtype)\u001b[0m\n\u001b[0;32m    516\u001b[0m \u001b[38;5;28;01mif\u001b[39;00m is_named_tuple(data[\u001b[38;5;241m0\u001b[39m]) \u001b[38;5;129;01mand\u001b[39;00m columns \u001b[38;5;129;01mis\u001b[39;00m \u001b[38;5;28;01mNone\u001b[39;00m:\n\u001b[0;32m    517\u001b[0m     columns \u001b[38;5;241m=\u001b[39m ensure_index(data[\u001b[38;5;241m0\u001b[39m]\u001b[38;5;241m.\u001b[39m_fields)\n\u001b[1;32m--> 519\u001b[0m arrays, columns \u001b[38;5;241m=\u001b[39m \u001b[43mto_arrays\u001b[49m\u001b[43m(\u001b[49m\u001b[43mdata\u001b[49m\u001b[43m,\u001b[49m\u001b[43m \u001b[49m\u001b[43mcolumns\u001b[49m\u001b[43m,\u001b[49m\u001b[43m \u001b[49m\u001b[43mdtype\u001b[49m\u001b[38;5;241;43m=\u001b[39;49m\u001b[43mdtype\u001b[49m\u001b[43m)\u001b[49m\n\u001b[0;32m    520\u001b[0m columns \u001b[38;5;241m=\u001b[39m ensure_index(columns)\n\u001b[0;32m    522\u001b[0m \u001b[38;5;28;01mif\u001b[39;00m index \u001b[38;5;129;01mis\u001b[39;00m \u001b[38;5;28;01mNone\u001b[39;00m:\n",
      "File \u001b[1;32mC:\\Anaconda3\\envs\\satellite\\lib\\site-packages\\pandas\\core\\internals\\construction.py:883\u001b[0m, in \u001b[0;36mto_arrays\u001b[1;34m(data, columns, dtype)\u001b[0m\n\u001b[0;32m    880\u001b[0m     data \u001b[38;5;241m=\u001b[39m [\u001b[38;5;28mtuple\u001b[39m(x) \u001b[38;5;28;01mfor\u001b[39;00m x \u001b[38;5;129;01min\u001b[39;00m data]\n\u001b[0;32m    881\u001b[0m     arr \u001b[38;5;241m=\u001b[39m _list_to_arrays(data)\n\u001b[1;32m--> 883\u001b[0m content, columns \u001b[38;5;241m=\u001b[39m \u001b[43m_finalize_columns_and_data\u001b[49m\u001b[43m(\u001b[49m\u001b[43marr\u001b[49m\u001b[43m,\u001b[49m\u001b[43m \u001b[49m\u001b[43mcolumns\u001b[49m\u001b[43m,\u001b[49m\u001b[43m \u001b[49m\u001b[43mdtype\u001b[49m\u001b[43m)\u001b[49m\n\u001b[0;32m    884\u001b[0m \u001b[38;5;28;01mreturn\u001b[39;00m content, columns\n",
      "File \u001b[1;32mC:\\Anaconda3\\envs\\satellite\\lib\\site-packages\\pandas\\core\\internals\\construction.py:988\u001b[0m, in \u001b[0;36m_finalize_columns_and_data\u001b[1;34m(content, columns, dtype)\u001b[0m\n\u001b[0;32m    985\u001b[0m     \u001b[38;5;28;01mraise\u001b[39;00m \u001b[38;5;167;01mValueError\u001b[39;00m(err) \u001b[38;5;28;01mfrom\u001b[39;00m \u001b[38;5;21;01merr\u001b[39;00m\n\u001b[0;32m    987\u001b[0m \u001b[38;5;28;01mif\u001b[39;00m \u001b[38;5;28mlen\u001b[39m(contents) \u001b[38;5;129;01mand\u001b[39;00m contents[\u001b[38;5;241m0\u001b[39m]\u001b[38;5;241m.\u001b[39mdtype \u001b[38;5;241m==\u001b[39m np\u001b[38;5;241m.\u001b[39mobject_:\n\u001b[1;32m--> 988\u001b[0m     contents \u001b[38;5;241m=\u001b[39m \u001b[43m_convert_object_array\u001b[49m\u001b[43m(\u001b[49m\u001b[43mcontents\u001b[49m\u001b[43m,\u001b[49m\u001b[43m \u001b[49m\u001b[43mdtype\u001b[49m\u001b[38;5;241;43m=\u001b[39;49m\u001b[43mdtype\u001b[49m\u001b[43m)\u001b[49m\n\u001b[0;32m    990\u001b[0m \u001b[38;5;28;01mreturn\u001b[39;00m contents, columns\n",
      "File \u001b[1;32mC:\\Anaconda3\\envs\\satellite\\lib\\site-packages\\pandas\\core\\internals\\construction.py:1073\u001b[0m, in \u001b[0;36m_convert_object_array\u001b[1;34m(content, dtype)\u001b[0m\n\u001b[0;32m   1070\u001b[0m         arr \u001b[38;5;241m=\u001b[39m maybe_cast_to_datetime(arr, dtype)\n\u001b[0;32m   1071\u001b[0m     \u001b[38;5;28;01mreturn\u001b[39;00m arr\n\u001b[1;32m-> 1073\u001b[0m arrays \u001b[38;5;241m=\u001b[39m [convert(arr) \u001b[38;5;28;01mfor\u001b[39;00m arr \u001b[38;5;129;01min\u001b[39;00m content]\n\u001b[0;32m   1075\u001b[0m \u001b[38;5;28;01mreturn\u001b[39;00m arrays\n",
      "File \u001b[1;32mC:\\Anaconda3\\envs\\satellite\\lib\\site-packages\\pandas\\core\\internals\\construction.py:1073\u001b[0m, in \u001b[0;36m<listcomp>\u001b[1;34m(.0)\u001b[0m\n\u001b[0;32m   1070\u001b[0m         arr \u001b[38;5;241m=\u001b[39m maybe_cast_to_datetime(arr, dtype)\n\u001b[0;32m   1071\u001b[0m     \u001b[38;5;28;01mreturn\u001b[39;00m arr\n\u001b[1;32m-> 1073\u001b[0m arrays \u001b[38;5;241m=\u001b[39m [\u001b[43mconvert\u001b[49m\u001b[43m(\u001b[49m\u001b[43marr\u001b[49m\u001b[43m)\u001b[49m \u001b[38;5;28;01mfor\u001b[39;00m arr \u001b[38;5;129;01min\u001b[39;00m content]\n\u001b[0;32m   1075\u001b[0m \u001b[38;5;28;01mreturn\u001b[39;00m arrays\n",
      "File \u001b[1;32mC:\\Anaconda3\\envs\\satellite\\lib\\site-packages\\pandas\\core\\internals\\construction.py:1070\u001b[0m, in \u001b[0;36m_convert_object_array.<locals>.convert\u001b[1;34m(arr)\u001b[0m\n\u001b[0;32m   1068\u001b[0m \u001b[38;5;28;01mif\u001b[39;00m dtype \u001b[38;5;241m!=\u001b[39m np\u001b[38;5;241m.\u001b[39mdtype(\u001b[38;5;124m\"\u001b[39m\u001b[38;5;124mO\u001b[39m\u001b[38;5;124m\"\u001b[39m):\n\u001b[0;32m   1069\u001b[0m     arr \u001b[38;5;241m=\u001b[39m lib\u001b[38;5;241m.\u001b[39mmaybe_convert_objects(arr)\n\u001b[1;32m-> 1070\u001b[0m     arr \u001b[38;5;241m=\u001b[39m \u001b[43mmaybe_cast_to_datetime\u001b[49m\u001b[43m(\u001b[49m\u001b[43marr\u001b[49m\u001b[43m,\u001b[49m\u001b[43m \u001b[49m\u001b[43mdtype\u001b[49m\u001b[43m)\u001b[49m\n\u001b[0;32m   1071\u001b[0m \u001b[38;5;28;01mreturn\u001b[39;00m arr\n",
      "File \u001b[1;32mC:\\Anaconda3\\envs\\satellite\\lib\\site-packages\\pandas\\core\\dtypes\\cast.py:1699\u001b[0m, in \u001b[0;36mmaybe_cast_to_datetime\u001b[1;34m(value, dtype)\u001b[0m\n\u001b[0;32m   1696\u001b[0m         value \u001b[38;5;241m=\u001b[39m sanitize_to_nanoseconds(value)\n\u001b[0;32m   1698\u001b[0m     \u001b[38;5;28;01melif\u001b[39;00m value\u001b[38;5;241m.\u001b[39mdtype \u001b[38;5;241m==\u001b[39m _dtype_obj:\n\u001b[1;32m-> 1699\u001b[0m         value \u001b[38;5;241m=\u001b[39m \u001b[43mmaybe_infer_to_datetimelike\u001b[49m\u001b[43m(\u001b[49m\u001b[43mvalue\u001b[49m\u001b[43m)\u001b[49m\n\u001b[0;32m   1701\u001b[0m \u001b[38;5;28;01melif\u001b[39;00m \u001b[38;5;28misinstance\u001b[39m(value, \u001b[38;5;28mlist\u001b[39m):\n\u001b[0;32m   1702\u001b[0m     \u001b[38;5;66;03m# we only get here with dtype=None, which we do not allow\u001b[39;00m\n\u001b[0;32m   1703\u001b[0m     \u001b[38;5;28;01mraise\u001b[39;00m \u001b[38;5;167;01mValueError\u001b[39;00m(\n\u001b[0;32m   1704\u001b[0m         \u001b[38;5;124m\"\u001b[39m\u001b[38;5;124mmaybe_cast_to_datetime allows a list *only* if dtype is not None\u001b[39m\u001b[38;5;124m\"\u001b[39m\n\u001b[0;32m   1705\u001b[0m     )\n",
      "File \u001b[1;32mC:\\Anaconda3\\envs\\satellite\\lib\\site-packages\\pandas\\core\\dtypes\\cast.py:1543\u001b[0m, in \u001b[0;36mmaybe_infer_to_datetimelike\u001b[1;34m(value)\u001b[0m\n\u001b[0;32m   1536\u001b[0m     \u001b[38;5;28;01mreturn\u001b[39;00m lib\u001b[38;5;241m.\u001b[39mmaybe_convert_objects(  \u001b[38;5;66;03m# type: ignore[return-value]\u001b[39;00m\n\u001b[0;32m   1537\u001b[0m         v, convert_period\u001b[38;5;241m=\u001b[39m\u001b[38;5;28;01mTrue\u001b[39;00m, convert_interval\u001b[38;5;241m=\u001b[39m\u001b[38;5;28;01mTrue\u001b[39;00m\n\u001b[0;32m   1538\u001b[0m     )\n\u001b[0;32m   1540\u001b[0m \u001b[38;5;28;01mif\u001b[39;00m inferred_type \u001b[38;5;241m==\u001b[39m \u001b[38;5;124m\"\u001b[39m\u001b[38;5;124mdatetime\u001b[39m\u001b[38;5;124m\"\u001b[39m:\n\u001b[0;32m   1541\u001b[0m     \u001b[38;5;66;03m# error: Incompatible types in assignment (expression has type \"ExtensionArray\",\u001b[39;00m\n\u001b[0;32m   1542\u001b[0m     \u001b[38;5;66;03m# variable has type \"Union[ndarray, List[Any]]\")\u001b[39;00m\n\u001b[1;32m-> 1543\u001b[0m     value \u001b[38;5;241m=\u001b[39m \u001b[43mtry_datetime\u001b[49m\u001b[43m(\u001b[49m\u001b[43mv\u001b[49m\u001b[43m)\u001b[49m  \u001b[38;5;66;03m# type: ignore[assignment]\u001b[39;00m\n\u001b[0;32m   1544\u001b[0m \u001b[38;5;28;01melif\u001b[39;00m inferred_type \u001b[38;5;241m==\u001b[39m \u001b[38;5;124m\"\u001b[39m\u001b[38;5;124mtimedelta\u001b[39m\u001b[38;5;124m\"\u001b[39m:\n\u001b[0;32m   1545\u001b[0m     value \u001b[38;5;241m=\u001b[39m try_timedelta(v)\n",
      "File \u001b[1;32mC:\\Anaconda3\\envs\\satellite\\lib\\site-packages\\pandas\\core\\dtypes\\cast.py:1507\u001b[0m, in \u001b[0;36mmaybe_infer_to_datetimelike.<locals>.try_datetime\u001b[1;34m(v)\u001b[0m\n\u001b[0;32m   1502\u001b[0m \u001b[38;5;28;01mfrom\u001b[39;00m \u001b[38;5;21;01mpandas\u001b[39;00m\u001b[38;5;21;01m.\u001b[39;00m\u001b[38;5;21;01mcore\u001b[39;00m\u001b[38;5;21;01m.\u001b[39;00m\u001b[38;5;21;01marrays\u001b[39;00m\u001b[38;5;21;01m.\u001b[39;00m\u001b[38;5;21;01mdatetimes\u001b[39;00m \u001b[38;5;28;01mimport\u001b[39;00m sequence_to_datetimes\n\u001b[0;32m   1504\u001b[0m \u001b[38;5;28;01mtry\u001b[39;00m:\n\u001b[0;32m   1505\u001b[0m     \u001b[38;5;66;03m# GH#19671 we pass require_iso8601 to be relatively strict\u001b[39;00m\n\u001b[0;32m   1506\u001b[0m     \u001b[38;5;66;03m#  when parsing strings.\u001b[39;00m\n\u001b[1;32m-> 1507\u001b[0m     dta \u001b[38;5;241m=\u001b[39m \u001b[43msequence_to_datetimes\u001b[49m\u001b[43m(\u001b[49m\u001b[43mv\u001b[49m\u001b[43m,\u001b[49m\u001b[43m \u001b[49m\u001b[43mrequire_iso8601\u001b[49m\u001b[38;5;241;43m=\u001b[39;49m\u001b[38;5;28;43;01mTrue\u001b[39;49;00m\u001b[43m)\u001b[49m\n\u001b[0;32m   1508\u001b[0m \u001b[38;5;28;01mexcept\u001b[39;00m (\u001b[38;5;167;01mValueError\u001b[39;00m, \u001b[38;5;167;01mTypeError\u001b[39;00m):\n\u001b[0;32m   1509\u001b[0m     \u001b[38;5;66;03m# e.g. <class 'numpy.timedelta64'> is not convertible to datetime\u001b[39;00m\n\u001b[0;32m   1510\u001b[0m     \u001b[38;5;28;01mreturn\u001b[39;00m v\u001b[38;5;241m.\u001b[39mreshape(shape)\n",
      "File \u001b[1;32mC:\\Anaconda3\\envs\\satellite\\lib\\site-packages\\pandas\\core\\arrays\\datetimes.py:2008\u001b[0m, in \u001b[0;36msequence_to_datetimes\u001b[1;34m(data, require_iso8601)\u001b[0m\n\u001b[0;32m   2004\u001b[0m \u001b[38;5;28;01mdef\u001b[39;00m \u001b[38;5;21msequence_to_datetimes\u001b[39m(data, require_iso8601: \u001b[38;5;28mbool\u001b[39m \u001b[38;5;241m=\u001b[39m \u001b[38;5;28;01mFalse\u001b[39;00m) \u001b[38;5;241m-\u001b[39m\u001b[38;5;241m>\u001b[39m DatetimeArray:\n\u001b[0;32m   2005\u001b[0m     \u001b[38;5;124;03m\"\"\"\u001b[39;00m\n\u001b[0;32m   2006\u001b[0m \u001b[38;5;124;03m    Parse/convert the passed data to either DatetimeArray or np.ndarray[object].\u001b[39;00m\n\u001b[0;32m   2007\u001b[0m \u001b[38;5;124;03m    \"\"\"\u001b[39;00m\n\u001b[1;32m-> 2008\u001b[0m     result, tz, freq \u001b[38;5;241m=\u001b[39m \u001b[43m_sequence_to_dt64ns\u001b[49m\u001b[43m(\u001b[49m\n\u001b[0;32m   2009\u001b[0m \u001b[43m        \u001b[49m\u001b[43mdata\u001b[49m\u001b[43m,\u001b[49m\n\u001b[0;32m   2010\u001b[0m \u001b[43m        \u001b[49m\u001b[43mallow_mixed\u001b[49m\u001b[38;5;241;43m=\u001b[39;49m\u001b[38;5;28;43;01mTrue\u001b[39;49;00m\u001b[43m,\u001b[49m\n\u001b[0;32m   2011\u001b[0m \u001b[43m        \u001b[49m\u001b[43mrequire_iso8601\u001b[49m\u001b[38;5;241;43m=\u001b[39;49m\u001b[43mrequire_iso8601\u001b[49m\u001b[43m,\u001b[49m\n\u001b[0;32m   2012\u001b[0m \u001b[43m    \u001b[49m\u001b[43m)\u001b[49m\n\u001b[0;32m   2014\u001b[0m     dtype \u001b[38;5;241m=\u001b[39m tz_to_dtype(tz)\n\u001b[0;32m   2015\u001b[0m     dta \u001b[38;5;241m=\u001b[39m DatetimeArray\u001b[38;5;241m.\u001b[39m_simple_new(result, freq\u001b[38;5;241m=\u001b[39mfreq, dtype\u001b[38;5;241m=\u001b[39mdtype)\n",
      "File \u001b[1;32mC:\\Anaconda3\\envs\\satellite\\lib\\site-packages\\pandas\\core\\arrays\\datetimes.py:2107\u001b[0m, in \u001b[0;36m_sequence_to_dt64ns\u001b[1;34m(data, dtype, copy, tz, dayfirst, yearfirst, ambiguous, allow_mixed, require_iso8601)\u001b[0m\n\u001b[0;32m   2103\u001b[0m     data \u001b[38;5;241m=\u001b[39m data\u001b[38;5;241m.\u001b[39mastype(np\u001b[38;5;241m.\u001b[39mint64)\n\u001b[0;32m   2104\u001b[0m \u001b[38;5;28;01melse\u001b[39;00m:\n\u001b[0;32m   2105\u001b[0m     \u001b[38;5;66;03m# data comes back here as either i8 to denote UTC timestamps\u001b[39;00m\n\u001b[0;32m   2106\u001b[0m     \u001b[38;5;66;03m#  or M8[ns] to denote wall times\u001b[39;00m\n\u001b[1;32m-> 2107\u001b[0m     data, inferred_tz \u001b[38;5;241m=\u001b[39m \u001b[43mobjects_to_datetime64ns\u001b[49m\u001b[43m(\u001b[49m\n\u001b[0;32m   2108\u001b[0m \u001b[43m        \u001b[49m\u001b[43mdata\u001b[49m\u001b[43m,\u001b[49m\n\u001b[0;32m   2109\u001b[0m \u001b[43m        \u001b[49m\u001b[43mdayfirst\u001b[49m\u001b[38;5;241;43m=\u001b[39;49m\u001b[43mdayfirst\u001b[49m\u001b[43m,\u001b[49m\n\u001b[0;32m   2110\u001b[0m \u001b[43m        \u001b[49m\u001b[43myearfirst\u001b[49m\u001b[38;5;241;43m=\u001b[39;49m\u001b[43myearfirst\u001b[49m\u001b[43m,\u001b[49m\n\u001b[0;32m   2111\u001b[0m \u001b[43m        \u001b[49m\u001b[43mallow_object\u001b[49m\u001b[38;5;241;43m=\u001b[39;49m\u001b[38;5;28;43;01mFalse\u001b[39;49;00m\u001b[43m,\u001b[49m\n\u001b[0;32m   2112\u001b[0m \u001b[43m        \u001b[49m\u001b[43mallow_mixed\u001b[49m\u001b[38;5;241;43m=\u001b[39;49m\u001b[43mallow_mixed\u001b[49m\u001b[43m,\u001b[49m\n\u001b[0;32m   2113\u001b[0m \u001b[43m        \u001b[49m\u001b[43mrequire_iso8601\u001b[49m\u001b[38;5;241;43m=\u001b[39;49m\u001b[43mrequire_iso8601\u001b[49m\u001b[43m,\u001b[49m\n\u001b[0;32m   2114\u001b[0m \u001b[43m    \u001b[49m\u001b[43m)\u001b[49m\n\u001b[0;32m   2115\u001b[0m     \u001b[38;5;28;01mif\u001b[39;00m tz \u001b[38;5;129;01mand\u001b[39;00m inferred_tz:\n\u001b[0;32m   2116\u001b[0m         \u001b[38;5;66;03m#  two timezones: convert to intended from base UTC repr\u001b[39;00m\n\u001b[0;32m   2117\u001b[0m         \u001b[38;5;28;01mif\u001b[39;00m data\u001b[38;5;241m.\u001b[39mdtype \u001b[38;5;241m==\u001b[39m \u001b[38;5;124m\"\u001b[39m\u001b[38;5;124mi8\u001b[39m\u001b[38;5;124m\"\u001b[39m:\n\u001b[0;32m   2118\u001b[0m             \u001b[38;5;66;03m# GH#42505\u001b[39;00m\n\u001b[0;32m   2119\u001b[0m             \u001b[38;5;66;03m# by convention, these are _already_ UTC, e.g\u001b[39;00m\n",
      "File \u001b[1;32mC:\\Anaconda3\\envs\\satellite\\lib\\site-packages\\pandas\\core\\arrays\\datetimes.py:2225\u001b[0m, in \u001b[0;36mobjects_to_datetime64ns\u001b[1;34m(data, dayfirst, yearfirst, utc, errors, require_iso8601, allow_object, allow_mixed)\u001b[0m\n\u001b[0;32m   2222\u001b[0m order: Literal[\u001b[38;5;124m\"\u001b[39m\u001b[38;5;124mF\u001b[39m\u001b[38;5;124m\"\u001b[39m, \u001b[38;5;124m\"\u001b[39m\u001b[38;5;124mC\u001b[39m\u001b[38;5;124m\"\u001b[39m] \u001b[38;5;241m=\u001b[39m \u001b[38;5;124m\"\u001b[39m\u001b[38;5;124mF\u001b[39m\u001b[38;5;124m\"\u001b[39m \u001b[38;5;28;01mif\u001b[39;00m flags\u001b[38;5;241m.\u001b[39mf_contiguous \u001b[38;5;28;01melse\u001b[39;00m \u001b[38;5;124m\"\u001b[39m\u001b[38;5;124mC\u001b[39m\u001b[38;5;124m\"\u001b[39m\n\u001b[0;32m   2223\u001b[0m \u001b[38;5;28;01mtry\u001b[39;00m:\n\u001b[0;32m   2224\u001b[0m     result, tz_parsed \u001b[38;5;241m=\u001b[39m tslib\u001b[38;5;241m.\u001b[39marray_to_datetime(\n\u001b[1;32m-> 2225\u001b[0m         \u001b[43mdata\u001b[49m\u001b[38;5;241;43m.\u001b[39;49m\u001b[43mravel\u001b[49m\u001b[43m(\u001b[49m\u001b[38;5;124;43m\"\u001b[39;49m\u001b[38;5;124;43mK\u001b[39;49m\u001b[38;5;124;43m\"\u001b[39;49m\u001b[43m)\u001b[49m,\n\u001b[0;32m   2226\u001b[0m         errors\u001b[38;5;241m=\u001b[39merrors,\n\u001b[0;32m   2227\u001b[0m         utc\u001b[38;5;241m=\u001b[39mutc,\n\u001b[0;32m   2228\u001b[0m         dayfirst\u001b[38;5;241m=\u001b[39mdayfirst,\n\u001b[0;32m   2229\u001b[0m         yearfirst\u001b[38;5;241m=\u001b[39myearfirst,\n\u001b[0;32m   2230\u001b[0m         require_iso8601\u001b[38;5;241m=\u001b[39mrequire_iso8601,\n\u001b[0;32m   2231\u001b[0m         allow_mixed\u001b[38;5;241m=\u001b[39mallow_mixed,\n\u001b[0;32m   2232\u001b[0m     )\n\u001b[0;32m   2233\u001b[0m     result \u001b[38;5;241m=\u001b[39m result\u001b[38;5;241m.\u001b[39mreshape(data\u001b[38;5;241m.\u001b[39mshape, order\u001b[38;5;241m=\u001b[39morder)\n\u001b[0;32m   2234\u001b[0m \u001b[38;5;28;01mexcept\u001b[39;00m \u001b[38;5;167;01mValueError\u001b[39;00m \u001b[38;5;28;01mas\u001b[39;00m err:\n",
      "\u001b[1;31mKeyboardInterrupt\u001b[0m: "
     ]
    }
   ],
   "source": [
    "# Calibration SWB+WCM\n",
    "\n",
    "print('Starting calibration...\\n'+\n",
    "      '#-------------------------------------------------------------\\n')\n",
    "start = time.time()\n",
    "\n",
    "A=0.3; B=1.5; C=-15; D=30 # guess params for WCM\n",
    "W_max=    10;   # [mm] water content, maximum (not normalized)\n",
    "WW_fc=    0.32; # [m3/m3] water content at field capacity\n",
    "WW_w=     0.08; # [m3/m3] water content at wilting point\n",
    "rho_st=   0.4;  # [-] crop specific depletion fraction\n",
    "Kc0=      1;  # [-] crop specific coefficient\n",
    "if freq=='h': rho_st/=24; Kc0/=24\n",
    "\n",
    "# PAR string of names\n",
    "PAR_str = ['A', 'B', 'C', 'D', 'W_max', 'WW_fc', 'WW_w', 'rho_st', 'Kc0']\n",
    "if units=='db': PAR_str = [el + '_db' for el in PAR_str]\n",
    "# if not PAR_str_add=='': PAR_str = [el+PAR_str_add for el in PAR_str]\n",
    "\n",
    "PAR     = [A, B, C, D, W_max, WW_fc, WW_w, rho_st, Kc0]\n",
    "PARn_str= ['A', 'B', 'C', 'D', 'W_max', 'WW_fc', 'WW_w', 'rho_st', 'Kc0']\n",
    "inputs  = [t, t_sat, P, IRR_obs, EPOT, WW_obs, WW_sat, veg, theta, VV]\n",
    "user_in = [irri, units]\n",
    "\n",
    "if units=='lin':\n",
    "    bounds = (\n",
    "        np.array([0.1, 0.1, -20, 10,   1, 0.3, 0.08, 0.01, 0.001]), # low\n",
    "        np.array([1,   3,   -10, 50, 150, 0.4, 0.15, 0.8,  1.5]), # up\n",
    "    )\n",
    "elif units=='db':\n",
    "    bounds = (\n",
    "        np.array([ -20, 0.1, -20, 10,   1, 0.3, 0.08, 0.01, 0.001]), # low\n",
    "        np.array([ -10, 3,   -10, 50, 150, 0.4, 0.15, 0.8,  1.5]), # up\n",
    "    )\n",
    "else: raise NameError(f'Scale can only be lin or db but {scale} was provided.')\n",
    "\n",
    "#-----------------------------------------------------------------------------\n",
    "from pyswarms.backend.handlers import OptionsHandler\n",
    "\n",
    "params = []\n",
    "for i in range(int(nrun)):\n",
    "    if (optim=='global')or(optim==''):\n",
    "        optim='global'\n",
    "        # options = {'c1': 0.5, 'c2': 0.9, 'w': 0.6}\n",
    "        options = {'c1': 2.05, 'c2': 2.05, 'w': 0.6}\n",
    "        oh_strategy = {\"w\":'exp_decay', 'c1':'lin_variation', 'c2':'lin_variation'}\n",
    "        optimizer = ps.single.GlobalBestPSO(n_particles=int(n_particles),\n",
    "                                            dimensions=len(PAR),\n",
    "                                            options=options,\n",
    "                                            bounds=bounds,\n",
    "                                            oh_strategy=oh_strategy,\n",
    "                                           )\n",
    "    elif optim=='local':\n",
    "        options = {'c1': 0.4, 'c2': 0.4, 'w': 0.8, 'k':int(0.1*n_particles), 'p':norma }\n",
    "        optimizer = ps.single.LocalBestPSO(n_particles=n_particles,\n",
    "                                           dimensions=len(PAR),\n",
    "                                           options=options,\n",
    "                                           bounds=bounds,\n",
    "                                           oh_strategy={\"w\":'exp_decay',\n",
    "                                                         'c1':'lin_variation',\n",
    "                                                         'c2':'lin_variation'})\n",
    "    else: raise NameError('Please provide an accepted option.')\n",
    "    \n",
    "    cost, PARn = optimizer.optimize(pso_calib_irri, n_step, verbose=verbose_calib)#, **PAR)\n",
    "    params.append(PARn)\n",
    "\n",
    "end = time.time()"
   ]
  },
  {
   "cell_type": "code",
   "execution_count": 21,
   "id": "57fde6e4-a5d4-4917-9f4f-001db92b198b",
   "metadata": {},
   "outputs": [
    {
     "data": {
      "text/plain": [
       "[array([  0.34955776,   0.79751203, -13.92763944,  23.85455323,\n",
       "         18.51314731,   0.36022126,   0.11460899,   0.18388303,\n",
       "          0.70489021])]"
      ]
     },
     "execution_count": 21,
     "metadata": {},
     "output_type": "execute_result"
    }
   ],
   "source": [
    "params"
   ]
  },
  {
   "cell_type": "code",
   "execution_count": null,
   "id": "b9500d89-f6ca-4a06-a423-5d40e140f3b6",
   "metadata": {},
   "outputs": [],
   "source": [
    "print('Timing: ', round((end-start)/60/nrun, 2), ' min for 1 run,', round((end-start)/60, 2), 'min total')"
   ]
  },
  {
   "cell_type": "code",
   "execution_count": 23,
   "id": "3b93d34a-b701-47b6-b651-68c8c6354f49",
   "metadata": {},
   "outputs": [
    {
     "data": {
      "text/plain": [
       "1"
      ]
     },
     "execution_count": 23,
     "metadata": {},
     "output_type": "execute_result"
    }
   ],
   "source": [
    "len(params)"
   ]
  },
  {
   "cell_type": "markdown",
   "id": "f28a54af-d468-477d-8b57-23b6c59f968e",
   "metadata": {},
   "source": [
    "# Parameters' study"
   ]
  },
  {
   "cell_type": "code",
   "execution_count": 25,
   "id": "57a3e5a1-92fb-49bb-b113-514564d1d66c",
   "metadata": {},
   "outputs": [
    {
     "name": "stdout",
     "output_type": "stream",
     "text": [
      "Timestring:  230202-081958\n"
     ]
    }
   ],
   "source": [
    "timestr = time.strftime(\"%y%m%d-%H%M%S\"); print('Timestring: ', timestr)"
   ]
  },
  {
   "cell_type": "code",
   "execution_count": 26,
   "id": "821b9217-8ceb-4192-ad6f-9ccb45c4ed7a",
   "metadata": {},
   "outputs": [
    {
     "data": {
      "image/png": "[encoded data removed]",
      "text/plain": [
       "<Figure size 432x288 with 1 Axes>"
      ]
     },
     "metadata": {
      "needs_background": "light"
     },
     "output_type": "display_data"
    },
    {
     "data": {
      "image/png": "[encoded data removed]",
      "text/plain": [
       "<Figure size 432x288 with 1 Axes>"
      ]
     },
     "metadata": {
      "needs_background": "light"
     },
     "output_type": "display_data"
    },
    {
     "data": {
      "image/png": "[encoded data removed]",
      "text/plain": [
       "<Figure size 432x288 with 1 Axes>"
      ]
     },
     "metadata": {
      "needs_background": "light"
     },
     "output_type": "display_data"
    },
    {
     "data": {
      "image/png": "[encoded data removed]",
      "text/plain": [
       "<Figure size 432x288 with 1 Axes>"
      ]
     },
     "metadata": {
      "needs_background": "light"
     },
     "output_type": "display_data"
    },
    {
     "data": {
      "image/png": "[encoded data removed]",
      "text/plain": [
       "<Figure size 432x288 with 1 Axes>"
      ]
     },
     "metadata": {
      "needs_background": "light"
     },
     "output_type": "display_data"
    },
    {
     "data": {
      "image/png": "[encoded data removed]",
      "text/plain": [
       "<Figure size 432x288 with 1 Axes>"
      ]
     },
     "metadata": {
      "needs_background": "light"
     },
     "output_type": "display_data"
    },
    {
     "data": {
      "image/png": "[encoded data removed]",
      "text/plain": [
       "<Figure size 432x288 with 1 Axes>"
      ]
     },
     "metadata": {
      "needs_background": "light"
     },
     "output_type": "display_data"
    },
    {
     "data": {
      "image/png": "[encoded data removed]",
      "text/plain": [
       "<Figure size 432x288 with 1 Axes>"
      ]
     },
     "metadata": {
      "needs_background": "light"
     },
     "output_type": "display_data"
    },
    {
     "data": {
      "image/png": "[encoded data removed]",
      "text/plain": [
       "<Figure size 432x288 with 1 Axes>"
      ]
     },
     "metadata": {
      "needs_background": "light"
     },
     "output_type": "display_data"
    },
    {
     "data": {
      "text/plain": [
       "{'A': [0.3, 'cal', [0.1, 1.0], 0.35, 0.019],\n",
       " 'B': [1.5, 'cal', [0.1, 3.0], 0.798, 0.019],\n",
       " 'C': [-15, 'cal', [-20.0, -10.0], -13.928, 0.019],\n",
       " 'D': [30, 'cal', [10.0, 50.0], 23.855, 0.019],\n",
       " 'W_max': [10, 'cal', [1.0, 150.0], 18.513, 0.019],\n",
       " 'WW_fc': [0.32, 'cal', [0.3, 0.4], 0.36, 0.019],\n",
       " 'WW_w': [0.08, 'cal', [0.08, 0.15], 0.015, 0.017],\n",
       " 'rho_st': [0.4, 'cal', [0.01, 0.8], 0.184, 0.019],\n",
       " 'Kc0': [1, 'cal', [0.001, 1.5], 0.705, 0.019]}"
      ]
     },
     "execution_count": 26,
     "metadata": {},
     "output_type": "execute_result"
    }
   ],
   "source": [
    "matrix = np.array(\n",
    "    [\n",
    "        np.array(\n",
    "            [ params[i][j] for i in range(len(params)) ])\n",
    "        for j in range(len(PAR))\n",
    "    ]\n",
    ")\n",
    "\n",
    "PAR_dict = {\n",
    "    'A':     [round(A, 2) ],\n",
    "    'B':     [round(B, 2) ],\n",
    "    'C':     [round(C, 2) ],\n",
    "    'D':     [round(D, 2) ],\n",
    "    'W_max': [round(W_max, 2) ],\n",
    "    'WW_fc': [round(WW_fc, 2) ],\n",
    "    'WW_w':  [round(WW_w, 2) ],\n",
    "    'rho_st':[round(rho_st, 2) ],\n",
    "    'Kc0' :  [round(Kc0, 2)]\n",
    "}\n",
    "\n",
    "PARn = []\n",
    "PARn_dev = []\n",
    "\n",
    "if automate: opt_save=True\n",
    "else: opt_save = True if input('Save histograms of params? [y/n]')=='y' else False\n",
    "\n",
    "for label in PAR_dict:\n",
    "    if label in PARn_str:\n",
    "        i = PARn_str.index(label)\n",
    "        \n",
    "        if nrun==1:\n",
    "            PARn=[x[0] for x in matrix]\n",
    "            PARn_dev=[0 for x in matrix]\n",
    "        else:\n",
    "            hist_kwargs={'alpha':.5, 'label':f'param {label}'}\n",
    "            fitline_kwargs={'linestyle':'-', 'label':f'fit_{label}'}\n",
    "            data = matrix[i]\n",
    "            nbins = 10 if nrun<100 else np.sqrt(nrun)-4\n",
    "            plt.xlim(bounds[0][i], bounds[1][i]);\n",
    "            counts, bins, pads, popt, pcov = hist_gauss_fit(\n",
    "                data, nbins=10, hist_kwargs=hist_kwargs, fitline_kwargs=fitline_kwargs,\n",
    "                title=f'{label}', density=False,\n",
    "                opt_save=opt_save, dir_name='Plot\\\\', opt_name=f'{timestr}_hist_{label}',\n",
    "                func=gauss)\n",
    "            PARn.append(popt[1])\n",
    "            PARn_dev.append(popt[2])    \n",
    "            plt.show()\n",
    "        \n",
    "        PAR_dict[label].append('cal')\n",
    "        PAR_dict[label].append([bounds[0][i], bounds[1][i]])\n",
    "        PAR_dict[label].append(np.round(PARn[i], 3))\n",
    "        PAR_dict[label].append(np.round(PARn_dev[i], 3))\n",
    "    else:\n",
    "        PAR_dict[label].append('fix')\n",
    "        PAR_dict[label].append(['/', '/'])\n",
    "        PAR_dict[label].append(PAR_dict[label][0])\n",
    "        PAR_dict[label].append('/')\n",
    "\n",
    "PAR_dict"
   ]
  },
  {
   "cell_type": "markdown",
   "id": "c5aeea1c-2dba-4bde-8469-cc5d4df015e8",
   "metadata": {},
   "source": [
    "# Model output - plots sim VS obs for SM, sigma0"
   ]
  },
  {
   "cell_type": "code",
   "execution_count": null,
   "id": "aa2d901b-08ff-40fd-8f16-7827ab0aa8dd",
   "metadata": {},
   "outputs": [],
   "source": [
    "# Model validation and output\n",
    "\n",
    "if not automate:\n",
    "    if input('Do you want to plot with user-defined parameters\\' values ? [y/n]')=='y':\n",
    "\n",
    "        # PAR  = [A, B, C, D, W_max, Kc]\n",
    "        # PARn = [0.29, 3.36, -15.75, 40.92, 100.18, 0.58] # [lin]\n",
    "        # PARn = [-15, 0.49, -21.06, 33.77, 100.18, 0.44] # [db] # NEED TO RUN AGAIN IF UNITS CHANGE\n",
    "        # PARn = [0.29,2.14,-14.69,35.79,100,0.72] # [lin] new params Kc\n",
    "        # PARn = [0.28, 0.71, -12.88, 22.78, 16.56, 0.50] # [lin] Wmax in [1,150]\n",
    "        # PARn = [0.3179471,1.75074996,-18.0340179,41.18898174,100.05601716]\n",
    "        # WW,IRR,sigma0,KGE = IRR_WCM(PARn, inputs, user_in)\n",
    "        \n",
    "        # # Model version with all params\n",
    "        # PARn = [0.3, 1.4, -15, 40, 100, 0.32, 0.08, 0.4/24, 0.05]\n",
    "        \n",
    "        timestr = time.strftime(\"%y%m%d-%H%M%S\"); print('Timestring: ', timestr)\n",
    "        \n",
    "        # PARn = [0.3, 3, -5, 40, 100, 0.32, 0.08, 0.4/24, 1/24]\n",
    "        # PAR_tot = [PAR_dict[label][3] for label in PAR_dict]\n",
    "        PAR_tot = [0.357, 0.808, -16.258, 32.728, 4.136, 0.339, 0.088, 0.072, 0.005]\n",
    "        timestr = '230131-165510'\n",
    "        print(PAR_tot)\n",
    "        WW,IRR,sigma0,KGE = IRR_WCM_allpar(PAR_tot, inputs, user_in)\n",
    "    else: WW,IRR,sigma0,KGE = IRR_WCM(PARn, inputs, user_in)\n",
    "\n",
    "else: WW,IRR,sigma0,KGE = IRR_WCM(PARn, inputs, user_in)"
   ]
  },
  {
   "cell_type": "code",
   "execution_count": null,
   "id": "3b6c2429-fd5d-4572-bae2-0d8c679705cd",
   "metadata": {},
   "outputs": [],
   "source": [
    "if automate: opt_save_table = True\n",
    "else: opt_save_table = True if input('Save table with machine params? [y/n]')=='y' else False\n",
    "\n",
    "fig, ax = plt.subplots(figsize=(14,5))\n",
    "row_height=0.1; col_width=0.7\n",
    "\n",
    "# Table with machine, inputs params\n",
    "timing = 'daily' if freq=='d' else 'hourly'\n",
    "cellText = [\n",
    "    ['Units', units],\n",
    "    # ['Cost function', opt_cost],\n",
    "    # ['Calib on', opt_calib],\n",
    "    ['Optimizer:', optim],\n",
    "    ['Optimizer: options', options],\n",
    "    ['Optimizer: strategy', oh_strategy],\n",
    "    ['N runs, particles, optim. steps', str(nrun)+', '+str(n_particles)+', '+str(n_step)],\n",
    "    ['Time frequency', timing],\n",
    "    ['Vegetation descriptor', opt_veg],\n",
    "]\n",
    "table = ax.table(cellText=cellText,\n",
    "                     cellLoc='center', loc='center',\n",
    "                     colLabels=None, rowLabels=None)\n",
    "\n",
    "for (row, col), cell in table.get_celld().items():\n",
    "    cell.set_height(row_height)\n",
    "    cell._loc = 'center'\n",
    "\n",
    "table.auto_set_font_size(False); table.set_fontsize(20)\n",
    "table.auto_set_column_width(col=[x for x in range(len(PAR_dict))])\n",
    "ax.axis('tight'); ax.axis('off')\n",
    "\n",
    "if opt_save_table: plt.savefig(f'Plot\\\\{timestr}_table_mach.png', dpi=100)\n",
    "plt.show()"
   ]
  },
  {
   "cell_type": "code",
   "execution_count": null,
   "id": "1f8d40ec-5832-4433-98dc-1bea118c32f2",
   "metadata": {},
   "outputs": [],
   "source": [
    "if automate: opt_save_table = True\n",
    "else: opt_save_table = True if input('Save table with params? [y/n]')=='y' else False\n",
    "\n",
    "fig, ax = plt.subplots(figsize=(24,5))\n",
    "row_height=0.1; col_width=0.1\n",
    "\n",
    "# Table with params\n",
    "cellText = [[PAR_dict[label][i] for label in PAR_dict] for i in range(5)]\n",
    "colLabels = [x for x in PAR_dict]\n",
    "rowLabels = ['Guess/fix value', 'Cal/fix', 'Bounds', 'Mean', 'St.dev.']\n",
    "\n",
    "#---------------------------------\n",
    "table = ax.table(cellText=cellText,\n",
    "                  cellLoc='center', loc='center',\n",
    "                  colLabels=colLabels,\n",
    "                  rowLabels=rowLabels,\n",
    "                )\n",
    "\n",
    "for (row, col), cell in table.get_celld().items():\n",
    "    if row == 0: # or col == 0:\n",
    "        cell.set_text_props(weight='bold')\n",
    "    cell.set_height(row_height)\n",
    "    cell._loc = 'center'\n",
    "\n",
    "table.auto_set_font_size(False); table.set_fontsize(20)\n",
    "table.auto_set_column_width(col=[x for x in range(len(PAR_dict))])\n",
    "ax.axis('tight'); ax.axis('off')\n",
    "\n",
    "if opt_save_table: plt.savefig(f'Plot\\\\{timestr}_table.png')\n",
    "plt.show()"
   ]
  },
  {
   "cell_type": "markdown",
   "id": "8cb30d11-cb3a-44fc-9027-7ffd9917dbd1",
   "metadata": {},
   "source": [
    "## Triple plot SM+$\\sigma^0$+inputs"
   ]
  },
  {
   "cell_type": "code",
   "execution_count": null,
   "id": "652a9311-11fb-4aa8-a3f4-019742061553",
   "metadata": {},
   "outputs": [],
   "source": [
    "if automate: opt_save = True\n",
    "else: opt_save = True if input('Save triple plot SM+s0+inputs? [y/n]')=='y' else False\n",
    "\n",
    "fig, ax = plt.subplots(3, 1,constrained_layout=False,figsize=(16, 9), sharex=True,dpi=300,)\n",
    "filename = f'triple_'+units+'_'+PAR_str_add\n",
    "\n",
    "#----------------------------------------------------------------------------\n",
    "# Box with params\n",
    "\n",
    "PAR_text='Parameters\\n'\n",
    "\n",
    "try:\n",
    "    for i in range(len(PAR_str)): PAR_text+=f'    {PAR_str[i]} = {PAR_tot[i]}'\n",
    "except NameError:\n",
    "    for label in PAR_dict: PAR_text+=f'    {label} = {PAR_dict[label][3]}'\n",
    "\n",
    "fig.text(0.5, 0.95,\n",
    "         PAR_text, ha='center', va='center',\n",
    "         bbox={'facecolor':'white', 'edgecolor':'black'},\n",
    "         transform=fig.transFigure,\n",
    "         fontsize='large',\n",
    "        )\n",
    "\n",
    "#----------------------------------------------------------------------------\n",
    "# Plot of sigma0\n",
    "\n",
    "obs = VV; obs_label=r'$\\sigma^0_{obs}$'\n",
    "sim = sigma0; sim_label=r'$\\sigma^0_{sim}$'\n",
    "labely = r'$\\sigma^0$[dB]'\n",
    "times = t_sat\n",
    "marker='o'; linestyle='-'\n",
    "\n",
    "RMSE=np.mean((sim-obs)**2)**0.5; print('RMSE =', RMSE)\n",
    "R=np.corrcoef(sim,obs)[0][1]; print('R=', R)\n",
    "BIAS=bias(sim,obs); print('bias =', BIAS)\n",
    "print('KGE=', KGE[0])\n",
    "\n",
    "title=f'{sim_label} VS {obs_label} - RMSE={RMSE:.2f}, R={R:.2f}, bias={BIAS:.2f}, KGE={KGE[0]:.2f}'\n",
    "\n",
    "ax[0].set_xlim(xmin=times[0], xmax=times[len(times)-1])\n",
    "ax[0].plot(times, sim, c='tab:red', label=sim_label,\n",
    "           linestyle=linestyle, marker=marker, )#alpha=.4, zorder=-1)\n",
    "ax[0].plot(times, obs, c='tab:blue', label=obs_label,\n",
    "           linestyle=linestyle, marker=marker, alpha=.4, zorder=-1)\n",
    "ax[0].legend(loc='upper left')\n",
    "ax[0].set_title(title)\n",
    "ax[0].set_ylabel(labely)\n",
    "\n",
    "ax1 = ax[0].twinx()\n",
    "ax1.plot(times, veg, label=opt_veg, color='tab:green')\n",
    "ax1.legend(loc='upper right')\n",
    "ax1.set_ylabel(opt_veg)\n",
    "#----------------------------------------------------------------------------\n",
    "# Plot of SM\n",
    "\n",
    "obs = WW_obs; obs_label='SM_obs'\n",
    "sim = WW; sim_label='SM_sim'\n",
    "times = t\n",
    "\n",
    "# RMSE, NS, R, bias calculation\n",
    "RMSE=np.nanmean((sim-obs)**2)**0.5; print('RMSE =', RMSE)\n",
    "NS=1-np.nansum((sim-obs)**2)/np.nansum((obs-np.nanmean(obs))**2); print('NS =', NS)\n",
    "NS_radQ=1-np.nansum((np.sqrt(sim+0.00001)-np.sqrt(obs+0.00001))**2)/np.nansum((np.sqrt(obs+0.00001)-np.nanmean(np.sqrt(obs+0.00001)))**2)\n",
    "NS_lnQ=1-np.nansum((np.log(sim+0.0001)-np.log(obs+0.0001))**2)/np.nansum((np.log(obs+0.0001)-np.nanmean(np.log(obs+0.0001)))**2)\n",
    "NS_lnQ=NS_lnQ.real; # print(NS_lnQ) \n",
    "NS_radQ=NS_radQ.real; # print(NS_radQ)\n",
    "\n",
    "simmatrix = np.array( [ [sim[i], obs[i]] for i in range(len(sim)) if not np.isnan(obs[i]) ] )\n",
    "R=np.corrcoef(simmatrix,rowvar=False)[0][1]; print('R (sim vs obs) =', R)\n",
    "BIAS=bias(np.array([e[0] for e in simmatrix]), np.array([e[1] for e in simmatrix]))\n",
    "\n",
    "if irri:\n",
    "    IRRmatrix = np.array( [ [IRR[i], IRR_obs[i]] for i in range(len(IRR)) if not np.isnan(IRR_obs[i]) ] )\n",
    "    R_IRR=np.corrcoef(IRRmatrix,rowvar=False)[0][1]; print('R_IRR (IRR vs IRR_obs)=', R_IRR)\n",
    "    B_IRR=bias(np.array([e[0] for e in IRRmatrix]), np.array([e[1] for e in IRRmatrix]))\n",
    "    irri_title = f'sumIRR_obs={np.sum(IRR_obs):.2f}, '+\\\n",
    "                 f'sumIRR_sim={np.sum(IRR):.2f}, '+\\\n",
    "                 f'R_IRR={R_IRR:.2f}, '+\\\n",
    "                 f'bias_IRR={B_IRR:.2f}, '\n",
    "else: irri_title=''\n",
    "\n",
    "title=f'SM_obs VS SM_sim - '+f'{irri_title}'+\\\n",
    "    f'R_SM={R:.2f}, bias_SM={BIAS:.2f}'\n",
    "\n",
    "ax[1].set_xlim(xmin=times[0], xmax=times[-1])\n",
    "ax[1].plot(times, sim, c='tab:red', label=sim_label)\n",
    "ax[1].plot(times, obs, c='tab:blue', label=obs_label, linestyle='-', alpha=.8, zorder=-1)\n",
    "ax[1].legend(loc='upper left')\n",
    "ax[1].set_title(title)\n",
    "ax[1].set_ylabel('Relative SM [-]')\n",
    "\n",
    "#----------------------------------------------------------------------------\n",
    "# Plot of inputs P, IRR, veg\n",
    "\n",
    "times = t\n",
    "\n",
    "ax[2].bar(times, P, color='tab:gray', label=r'rainfall')\n",
    "ax[2].bar(times, IRR_obs, color='tab:blue', label=r'$IRR_{obs}$', zorder=2)\n",
    "ax[2].legend(loc='upper left')\n",
    "ax[2].set_ylabel('Irrigation and rain [mm]')\n",
    "\n",
    "ax2 = ax[2].twinx()\n",
    "ax2.plot(times, EPOT, label='ET0 [mm]', color='tab:green')\n",
    "ax2.legend(loc='upper right')\n",
    "ax2.set_ylabel('ET0 [mm]')\n",
    "\n",
    "name=''\n",
    "if opt_save:\n",
    "    optim_choice = 'glo' if (optim=='')or(optim=='global') else 'local'\n",
    "    name = timestr+filename # +f'_{n_particles}_{n_step}_{optim_choice}_{norma}'\n",
    "    plt.savefig('Plot\\\\'+name+'.png')\n",
    "\n",
    "# plt.close()"
   ]
  },
  {
   "cell_type": "markdown",
   "id": "a8d10cf3-e56b-470c-8c09-31ab2b8d6430",
   "metadata": {},
   "source": [
    "## Scatterplot"
   ]
  },
  {
   "cell_type": "code",
   "execution_count": null,
   "id": "39fd8f73-ee6a-4521-a8b4-cf3746ba868c",
   "metadata": {},
   "outputs": [],
   "source": [
    "if automate: opt_save = True\n",
    "else: opt_save = True if input('Save table with machine params? [y/n]')=='y' else False\n",
    "\n",
    "import matplotlib.gridspec as gridspec\n",
    "\n",
    "def linear(x,a,b):\n",
    "    return a+b*x\n",
    "\n",
    "quantity = 'SM'# r'$\\sigma^0$' # SM\n",
    "sim = WW # WW, sigma0\n",
    "obs = WW_obs # WW_d, VV\n",
    "\n",
    "title = f'Observed {quantity} VS simulated - ' # y VS x\n",
    "xlabel = f'{quantity}_sim [-]'\n",
    "ylabel = f'{quantity}_obs [-]'\n",
    "filename = f'scatter_'+'sm_'+units+PAR_str_add # 'SM'\n",
    "\n",
    "data = pd.DataFrame({'sim': sim,'obs': obs})\n",
    "data.dropna(inplace=True)\n",
    "x = data.sim.values\n",
    "y = data.obs.values\n",
    "\n",
    "fig = plt.figure(figsize=(6, 6), dpi=200)\n",
    "gs = gridspec.GridSpec(nrows=1, ncols=1, width_ratios=[1], height_ratios=[1])\n",
    "ax = plt.subplot(gs[0])\n",
    "ax.plot(x, y, marker='o', linestyle='', color='tab:blue')\n",
    "ax.set_xlim(np.min([x,y])-0.1*abs(np.mean([x,y])), np.max([x,y])+0.1*abs(np.mean([x,y])))\n",
    "ax.set_ylim(np.min([x,y])-0.1*abs(np.mean([x,y])), np.max([x,y])+0.1*abs(np.mean([x,y])))\n",
    "lin_grid = np.linspace(ax.get_xlim()[0], ax.get_xlim()[1], 100); ax.plot(lin_grid, lin_grid, color='k')\n",
    "\n",
    "# Fit\n",
    "popt, pcov = curve_fit(linear, x, y)\n",
    "ax.plot(lin_grid, linear(np.array(lin_grid),*popt), color='tab:orange')\n",
    "R=np.corrcoef(x,y)[0][1]; print('R=', R, 'R^2=', R**2)\n",
    "B=bias(x,y)\n",
    "\n",
    "ax.set_xlabel(xlabel); ax.set_ylabel(ylabel)\n",
    "xtext=0.8*(np.max(x)-np.min(x))+np.min(x)  ; ytext=0.1*(np.max(y)-np.min(y))+np.min(y)\n",
    "ax.text(xtext, ytext,\n",
    "        f'y={popt[0]:.2f}+{popt[1]:.2f}x\\n'+\n",
    "        r'$R^2$'+f'={R**2:.2f}',\n",
    "        ha=\"center\", va=\"center\", size=15,\n",
    "        bbox=dict(boxstyle=\"round,pad=0.3\", fc=\"tab:orange\", ec=\"k\", lw=2, alpha=.5))\n",
    "\n",
    "ax.set_title(title+f'R={R:.2f},'+r' $R^2$'+f'={R**2:.2f}, bias={B:.2f}')\n",
    "ax.set_aspect('equal', adjustable='box')\n",
    "\n",
    "if opt_save: plt.savefig('Plot\\\\'+timestr+'_'+filename+'.png')"
   ]
  },
  {
   "cell_type": "code",
   "execution_count": null,
   "id": "2e242ead-3f0e-4e56-8b1a-cf42164e100e",
   "metadata": {},
   "outputs": [],
   "source": [
    "if automate: opt_save = True\n",
    "else: opt_save = True if input('Save table with machine params? [y/n]')=='y' else False\n",
    "\n",
    "import matplotlib.gridspec as gridspec\n",
    "\n",
    "def linear(x,a,b):\n",
    "    return a+b*x\n",
    "\n",
    "quantity = r'$\\sigma^0$' # SM\n",
    "sim = sigma0 # WW, sigma0\n",
    "obs = VV # WW_d, VV\n",
    "\n",
    "title = f'Observed {quantity} VS simulated - ' # y VS x\n",
    "xlabel = f'{quantity}_sim [-]'\n",
    "ylabel = f'{quantity}_obs [-]'\n",
    "filename = f'scatter_'+'sigma0_'+units+PAR_str_add # 'SM'\n",
    "save_choice = 'y' # input(f'Save file? (Filename is '+timestr+'_'+filename+'.png) [y/n]')\n",
    "\n",
    "data = pd.DataFrame({'sim': sim,'obs': obs})\n",
    "data.dropna(inplace=True)\n",
    "x = data.sim.values\n",
    "y = data.obs.values\n",
    "\n",
    "fig = plt.figure(figsize=(6, 6), dpi=200)\n",
    "gs = gridspec.GridSpec(nrows=1, ncols=1, width_ratios=[1], height_ratios=[1])\n",
    "ax = plt.subplot(gs[0])\n",
    "ax.plot(x, y, marker='o', linestyle='', color='tab:blue')\n",
    "ax.set_xlim(np.min([x,y])-0.1*abs(np.mean([x,y])), np.max([x,y])+0.1*abs(np.mean([x,y])))\n",
    "ax.set_ylim(np.min([x,y])-0.1*abs(np.mean([x,y])), np.max([x,y])+0.1*abs(np.mean([x,y])))\n",
    "lin_grid = np.linspace(ax.get_xlim()[0], ax.get_xlim()[1], 100); ax.plot(lin_grid, lin_grid, color='k')\n",
    "\n",
    "# Fit\n",
    "popt, pcov = curve_fit(linear, x, y)\n",
    "ax.plot(lin_grid, linear(lin_grid,*popt), color='tab:orange')\n",
    "R=np.corrcoef(x,y)[0][1]; print('R=', R, 'R^2=', R**2)\n",
    "B=bias(x,y)\n",
    "\n",
    "ax.set_xlabel(xlabel); ax.set_ylabel(ylabel)\n",
    "xtext=0.8*(np.max(x)-np.min(x))+np.min(x)  ; ytext=0.1*(np.max(y)-np.min(y))+np.min(y)\n",
    "ax.text(xtext, ytext,\n",
    "        f'y={popt[0]:.2f}+{popt[1]:.2f}x\\n'+\n",
    "        r'$R^2$'+f'={R**2:.2f}',\n",
    "        ha=\"center\", va=\"center\", size=15,\n",
    "        bbox=dict(boxstyle=\"round,pad=0.3\", fc=\"tab:orange\", ec=\"k\", lw=2, alpha=.5))\n",
    "\n",
    "ax.set_title(title+f'R={R:.2f},'+r' $R^2$'+f'={R**2:.2f}, bias={B:.2f}, KGE={KGE[0]:.2f}')\n",
    "ax.set_aspect('equal', adjustable='box')\n",
    "\n",
    "if opt_save: plt.savefig('Plot\\\\'+timestr+'_'+filename+'.png')"
   ]
  }
 ],
 "metadata": {
  "kernelspec": {
   "display_name": "satellite",
   "language": "python",
   "name": "satellite"
  },
  "language_info": {
   "codemirror_mode": {
    "name": "ipython",
    "version": 3
   },
   "file_extension": ".py",
   "mimetype": "text/x-python",
   "name": "python",
   "nbconvert_exporter": "python",
   "pygments_lexer": "ipython3",
   "version": "3.10.5"
  }
 },
 "nbformat": 4,
 "nbformat_minor": 5
}
